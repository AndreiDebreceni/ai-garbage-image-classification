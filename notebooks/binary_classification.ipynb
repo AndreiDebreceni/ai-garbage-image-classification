{
  "cells": [
    {
      "cell_type": "markdown",
      "metadata": {
        "id": "8CtLqiJ9k4Ji"
      },
      "source": [
        "# Garbage binary classification one vs all"
      ]
    },
    {
      "cell_type": "markdown",
      "metadata": {
        "id": "JkAxq5RWk4Ji"
      },
      "source": [
        "In this notebook we would like to see how we can do binary classification when having multiple classes in our dataset"
      ]
    },
    {
      "cell_type": "markdown",
      "metadata": {
        "id": "quMUx56vk4Jj"
      },
      "source": [
        "## Imports"
      ]
    },
    {
      "cell_type": "code",
      "execution_count": 1,
      "metadata": {
        "id": "px1fllhGk4Jj"
      },
      "outputs": [],
      "source": [
        "import numpy as np\n",
        "import pandas as pd\n",
        "\n",
        "import tensorflow as tf\n",
        "\n",
        "from tensorflow import keras\n",
        "from keras.models import Sequential, Model\n",
        "from keras.layers import Dense, Conv2D, MaxPooling2D, Flatten, Dropout, AveragePooling2D, RandomFlip, RandomRotation, RandomZoom, Rescaling, BatchNormalization, SpatialDropout2D\n",
        "from keras.optimizers import Adam\n",
        "from keras.preprocessing.image import ImageDataGenerator\n",
        "from keras.callbacks import EarlyStopping, ModelCheckpoint\n",
        "\n",
        "import matplotlib.pyplot as plt\n",
        "%matplotlib inline\n",
        "\n",
        "import os\n",
        "os.environ[\"KMP_DUPLICATE_LIB_OK\"] = \"TRUE\"\n",
        "\n",
        "from sklearn.model_selection import train_test_split\n",
        "from sklearn.utils.class_weight import compute_class_weight\n",
        "from sklearn.utils import shuffle\n",
        "\n",
        "\n",
        "keras.utils.set_random_seed(42)\n",
        "\n",
        "from PIL import Image\n",
        "from IPython.display import display\n",
        "\n",
        "import warnings\n",
        "warnings.filterwarnings(\"ignore\", category=UserWarning)"
      ]
    },
    {
      "cell_type": "markdown",
      "metadata": {
        "id": "6LWgTZWwk4Jj"
      },
      "source": [
        "## Helpers\n",
        "Then we will create some methods that we will use during our modeling."
      ]
    },
    {
      "cell_type": "code",
      "execution_count": 2,
      "metadata": {
        "id": "5D7i9_7KyE0k"
      },
      "outputs": [],
      "source": [
        "image_size = 224\n",
        "\n",
        "directory_path = \"../v2/Garbage classification/\""
      ]
    },
    {
      "cell_type": "markdown",
      "metadata": {
        "id": "Mc-dlIpXk4Jj"
      },
      "source": [
        "We will use this to generate batches of data that we will use for training and validation."
      ]
    },
    {
      "cell_type": "code",
      "execution_count": 4,
      "metadata": {
        "id": "NFr8MH5Bk4Jj"
      },
      "outputs": [],
      "source": [
        "def generate_for_class(labels_column, train_dataset, validation_dataset, image_size=image_size)-> tuple[ImageDataGenerator, ImageDataGenerator]:\n",
        "    directory_path = \"../v2/Garbage classification/\"\n",
        "\n",
        "    train_batches = ImageDataGenerator(\n",
        "        horizontal_flip=True,\n",
        "        vertical_flip=True,\n",
        "        zoom_range=0.1,\n",
        "        rescale=1./255.,\n",
        "        ).flow_from_dataframe(\n",
        "        dataframe=train_dataset,\n",
        "        x_col = 'File_path',\n",
        "        y_col = labels_column,\n",
        "        target_size=(image_size,image_size),shuffle=True, seed=42, class_mode='raw', batch_size=32\n",
        "        )\n",
        "\n",
        "\n",
        "    # extract images to validation set\n",
        "    valid_batches = ImageDataGenerator(\n",
        "        rescale=1./255.,\n",
        "        ).flow_from_dataframe(\n",
        "        dataframe=validation_dataset,\n",
        "        x_col = 'File_path',\n",
        "        y_col = labels_column,\n",
        "        target_size=(image_size,image_size),shuffle=True, seed=42, class_mode='raw', batch_size=32,\n",
        "    )\n",
        "\n",
        "\n",
        "    return train_batches, valid_batches\n",
        "\n"
      ]
    },
    {
      "cell_type": "code",
      "execution_count": 5,
      "metadata": {
        "id": "Cm8bvi7kk4Jk"
      },
      "outputs": [],
      "source": [
        "def generate_batch(labels_column, dataframe, use_augmentation=False, image_size=image_size)-> tuple[ImageDataGenerator, ImageDataGenerator]:\n",
        "    directory_path = \"../v2/Garbage classification/\"\n",
        "\n",
        "    if use_augmentation == True:\n",
        "        batches = ImageDataGenerator(\n",
        "            horizontal_flip=True,\n",
        "            vertical_flip=True,\n",
        "            zoom_range=0.1,\n",
        "            rescale=1./255.,\n",
        "            )\n",
        "\n",
        "    else:\n",
        "        batches = ImageDataGenerator()\n",
        "\n",
        "    batches = batches.flow_from_dataframe(\n",
        "            dataframe=dataframe,\n",
        "            x_col = 'File_path',\n",
        "            y_col = labels_column,\n",
        "            target_size=(image_size,image_size),shuffle=True, seed=42, class_mode='raw', batch_size=32\n",
        "            )\n",
        "\n",
        "    return batches\n"
      ]
    },
    {
      "cell_type": "markdown",
      "metadata": {
        "id": "MpYTS01Nk4Jk"
      },
      "source": [
        "We will have also a method for test batches."
      ]
    },
    {
      "cell_type": "code",
      "execution_count": 6,
      "metadata": {
        "id": "8jRaFlsqk4Jk"
      },
      "outputs": [],
      "source": [
        "def generate_test_batch_for_class(labels_column, test_dataset, image_size = image_size)-> ImageDataGenerator:\n",
        "    test_batches = ImageDataGenerator(\n",
        "        rescale=1./255.\n",
        "        ).flow_from_dataframe(\n",
        "        dataframe=test_dataset,\n",
        "        x_col = 'File_path',\n",
        "        y_col = labels_column, target_size=(image_size,image_size),shuffle=False, class_mode='raw', batch_size=32)\n",
        "\n",
        "    return test_batches"
      ]
    },
    {
      "cell_type": "code",
      "execution_count": 7,
      "metadata": {
        "id": "BsP-Movmk4Jk"
      },
      "outputs": [],
      "source": [
        "def predict_image_with_model(image_path, model, image_size = image_size)->None:\n",
        "\n",
        "    image = Image.open(image_path)\n",
        "\n",
        "    image = image.resize((image_size, image_size))  # Replace 'width' and 'height' with desired dimensions\n",
        "\n",
        "    # Convert the image to a numpy array\n",
        "    image_array = np.array(image)\n",
        "\n",
        "    # Convert the numpy array to a TensorFlow tensor\n",
        "    image_tensor = tf.convert_to_tensor(image_array, dtype=tf.float32) / 255.0\n",
        "\n",
        "    # Expand the dimensions of the tensor to match the expected input shape\n",
        "    image_tensor = tf.expand_dims(image_tensor, axis=0)\n",
        "\n",
        "    print(image_tensor.shape)\n",
        "\n",
        "    predictions = model.predict(image_tensor, verbose=0)\n",
        "    print(predictions)"
      ]
    },
    {
      "cell_type": "markdown",
      "metadata": {
        "id": "2hZmdbZ_k4Jk"
      },
      "source": [
        "We will create a method to save the model when the metric is improving"
      ]
    },
    {
      "cell_type": "code",
      "execution_count": 8,
      "metadata": {
        "id": "1_yWn2p9k4Jk"
      },
      "outputs": [],
      "source": [
        "def create_model_checkpoint(model_path, metric='val_accuracy') -> ModelCheckpoint:\n",
        "    model_checkpoint = ModelCheckpoint(model_path, monitor=metric, verbose=1, save_best_only=True)\n",
        "    return model_checkpoint"
      ]
    },
    {
      "cell_type": "markdown",
      "metadata": {
        "id": "dSny96bvk4Jk"
      },
      "source": [
        "A method to compile our model"
      ]
    },
    {
      "cell_type": "code",
      "execution_count": 9,
      "metadata": {
        "id": "2SmaV_tpk4Jk"
      },
      "outputs": [],
      "source": [
        "def compile_model(model, learning_rate = 0.001) -> None:\n",
        "    model.compile(optimizer=Adam(learning_rate), loss=tf.keras.losses.BinaryCrossentropy(from_logits=False), metrics=[tf.keras.metrics.Precision(), tf.keras.metrics.Recall(), 'accuracy'])"
      ]
    },
    {
      "cell_type": "markdown",
      "metadata": {
        "id": "NzYqedbHk4Jk"
      },
      "source": [
        "This will pass our batched images one by one to our model and do the predictions"
      ]
    },
    {
      "cell_type": "code",
      "execution_count": 10,
      "metadata": {
        "id": "U106plCUk4Jl"
      },
      "outputs": [],
      "source": [
        "def prediction_generator(test_images) -> tf.Tensor:\n",
        "    k = 0\n",
        "    for x in test_images:\n",
        "        k += len(x[1])\n",
        "        yield x[0], x[1]  # Passing single tensor to the model\n",
        "        if k >= test_images.n:\n",
        "            break\n"
      ]
    },
    {
      "cell_type": "code",
      "execution_count": 11,
      "metadata": {
        "id": "7KN9hqQwk4Jl"
      },
      "outputs": [],
      "source": [
        "def split_data_evenly(df, classes_column, train_size=0.7, test_size=0.1, random_state=42) -> tuple[pd.DataFrame, pd.DataFrame, pd.DataFrame]:\n",
        "    \"\"\"\n",
        "    Split the data evenly into training, validation, and test sets.\n",
        "\n",
        "    Parameters:\n",
        "    - df: The DataFrame containing the data.\n",
        "    - classes_column: The name of the column containing classes.\n",
        "    - train_size: The proportion of the dataset to include in the training set.\n",
        "    - test_size: The proportion of the dataset to include in the test set.\n",
        "    - random_state: The seed used by the random number generator.\n",
        "\n",
        "    Returns:\n",
        "    - A tuple containing three DataFrames: train_data, validation_data, and test_data.\n",
        "    \"\"\"\n",
        "\n",
        "    # Split the data into training and the rest, stratifying by class labels\n",
        "    train_data, rest_data = train_test_split(df, train_size=train_size, stratify=df[classes_column], random_state=random_state)\n",
        "\n",
        "    # Calculate the remaining percentage\n",
        "    remaining_size = 1.0 - train_size\n",
        "\n",
        "    # Split the remaining data into testing and evaluation, stratifying by class labels\n",
        "    valid_data, test_data = train_test_split(rest_data, test_size=test_size/remaining_size, stratify=rest_data[classes_column], random_state=random_state)\n",
        "\n",
        "    return train_data, valid_data, test_data"
      ]
    },
    {
      "cell_type": "markdown",
      "metadata": {
        "id": "7y_KQ8Sak4Jl"
      },
      "source": [
        "This will process every image and return some metadata about it"
      ]
    },
    {
      "cell_type": "code",
      "execution_count": 12,
      "metadata": {
        "id": "GR7bI6f-k4Jl"
      },
      "outputs": [],
      "source": [
        "def get_image_metadata(df_row)->tuple[int, int, str, str]:\n",
        "    file_path = os.path.join(directory_path, df_row['Class'], df_row['File_name'])\n",
        "    image = Image.open(file_path)\n",
        "    width, height = image.size\n",
        "    channels = image.mode\n",
        "    return width, height, image.format, channels"
      ]
    },
    {
      "cell_type": "markdown",
      "metadata": {
        "id": "hDeqEmJ0k4Jl"
      },
      "source": [
        "This will plot the confusion matrix"
      ]
    },
    {
      "cell_type": "code",
      "execution_count": 13,
      "metadata": {
        "id": "hfZPZflkk4Jl"
      },
      "outputs": [],
      "source": [
        "from sklearn.metrics import confusion_matrix\n",
        "import seaborn as sns\n",
        "\n",
        "def plot_confusion_matrix(actual_classes, predicted_classes, classes={0,1}) -> None:\n",
        "    class_=classes\n",
        "    cm = confusion_matrix(actual_classes, predicted_classes)\n",
        "\n",
        "    print(cm)\n",
        "\n",
        "    fig = plt.figure(figsize=(6, 4))\n",
        "    ax= plt.subplot()\n",
        "    sns.heatmap(cm, annot=True, ax = ax,cmap=\"BuPu\");\n",
        "    ax.set_xlabel('Predicted', fontsize=20)\n",
        "    ax.xaxis.set_label_position('bottom')\n",
        "    plt.xticks(rotation=90)\n",
        "    ax.xaxis.set_ticklabels(class_, fontsize = 10)\n",
        "    ax.xaxis.tick_bottom()\n",
        "\n",
        "    ax.set_ylabel('Actual', fontsize=20)\n",
        "    ax.yaxis.set_ticklabels(class_, fontsize = 10)\n",
        "    plt.yticks(rotation=0)\n",
        "\n",
        "    plt.title('', fontsize=60)\n",
        "\n",
        "    plt.show()"
      ]
    },
    {
      "cell_type": "markdown",
      "metadata": {
        "id": "4mVCIiNsk4Jl"
      },
      "source": [
        "This is a custom data loader. It will convert our dataframe into batches of tensors"
      ]
    },
    {
      "cell_type": "code",
      "execution_count": 14,
      "metadata": {
        "id": "1t8fDtzsk4Jl"
      },
      "outputs": [],
      "source": [
        "def custom_data_loader(dataframe, labels_column, batch_size, image_size):\n",
        "\n",
        "    file_paths = file_paths = dataframe.File_path.tolist()  # List of file paths\n",
        "    labels = dataframe[labels_column].tolist()\n",
        "\n",
        "    file_paths, labels = shuffle(file_paths, labels, random_state=42)\n",
        "\n",
        "    for i in range(0, len(file_paths), batch_size):\n",
        "        batch_file_paths = file_paths[i:i+batch_size]\n",
        "        batch_labels = labels[i:i+batch_size]\n",
        "\n",
        "        batch_images = []\n",
        "        for file_path in batch_file_paths:\n",
        "\n",
        "            # Load and preprocess image\n",
        "            img = tf.keras.preprocessing.image.load_img(file_path, target_size=(image_size, image_size))\n",
        "            img = tf.keras.preprocessing.image.img_to_array(img)\n",
        "            img = img / 255.\n",
        "\n",
        "            batch_images.append(img)\n",
        "\n",
        "        yield np.array(batch_images), np.array(batch_labels)"
      ]
    },
    {
      "cell_type": "markdown",
      "metadata": {
        "id": "HEc3i6Zdk4Jl"
      },
      "source": [
        "This will send our dataframe to the custom loader and we will get the batches of data"
      ]
    },
    {
      "cell_type": "code",
      "execution_count": 15,
      "metadata": {
        "id": "Q_4gM_g1k4Jl"
      },
      "outputs": [],
      "source": [
        "def load_dataset(dataframe, labels_column, batch_size = 32, image_size=image_size):\n",
        "\n",
        "    dataset = tf.data.Dataset.from_generator(\n",
        "        lambda: custom_data_loader(dataframe, labels_column, batch_size, image_size),\n",
        "        output_types=(tf.float32, tf.int32),\n",
        "        output_shapes=(tf.TensorShape([None, image_size, image_size, 3]), tf.TensorShape([None]))\n",
        "        )\n",
        "\n",
        "    return dataset.cache().prefetch(tf.data.AUTOTUNE)"
      ]
    },
    {
      "cell_type": "markdown",
      "metadata": {
        "id": "IYO9fLXpk4Jl"
      },
      "source": [
        "This will allow us to visualize the images used in the training"
      ]
    },
    {
      "cell_type": "code",
      "execution_count": 16,
      "metadata": {
        "id": "bu-JDQTYk4Jm"
      },
      "outputs": [],
      "source": [
        "class ImageVisualizationCallback(tf.keras.callbacks.Callback):\n",
        "    def __init__(self, train_dataset, val_dataset, num_images_to_visualize=2):\n",
        "        super(ImageVisualizationCallback, self).__init__()\n",
        "        self.train_dataset = train_dataset\n",
        "        self.val_dataset = val_dataset\n",
        "        self.num_images_to_visualize = num_images_to_visualize\n",
        "\n",
        "    def visualize_dataset(self, dataset, title):\n",
        "        iterator = iter(dataset)\n",
        "        for _ in range(self.num_images_to_visualize):\n",
        "            image, _ = next(iterator)\n",
        "            augmented_image = self.model.layers[0](image, training=True)\n",
        "            augmented_image = augmented_image[0]*255\n",
        "            image = image[0] * 255\n",
        "\n",
        "            plt.figure(figsize=(8, 4))\n",
        "            plt.subplot(1, 2, 1)\n",
        "            plt.imshow(image.numpy().astype(\"uint8\"))\n",
        "            plt.title(\"Original Image\")\n",
        "            plt.axis(\"off\")\n",
        "            plt.subplot(1, 2, 2)\n",
        "            plt.imshow(augmented_image.numpy().astype(\"uint8\"))\n",
        "            plt.title(\"Augmented Image\")\n",
        "            plt.axis(\"off\")\n",
        "            plt.suptitle(title)\n",
        "            plt.show()\n",
        "\n",
        "    def on_epoch_end(self, epoch, logs=None):\n",
        "        self.visualize_dataset(self.train_dataset, \"Training Set\")\n",
        "        self.visualize_dataset(self.val_dataset, \"Validation Set\")\n",
        "\n"
      ]
    },
    {
      "cell_type": "markdown",
      "metadata": {
        "id": "hHcguV1ik4Jm"
      },
      "source": [
        "## Dataset processing"
      ]
    },
    {
      "cell_type": "markdown",
      "metadata": {
        "id": "Hdsp2xZ4k4Jm"
      },
      "source": [
        "We are getting the folders from our images directory"
      ]
    },
    {
      "cell_type": "code",
      "execution_count": 17,
      "metadata": {
        "colab": {
          "base_uri": "https://localhost:8080/"
        },
        "id": "ch4-q5LTk4Jm",
        "outputId": "e96c2095-cf8a-454c-ff4e-032a3903d365"
      },
      "outputs": [
        {
          "name": "stdout",
          "output_type": "stream",
          "text": [
            "['metal', 'cardboard', 'plastic', 'trash', 'paper', 'glass']\n"
          ]
        }
      ],
      "source": [
        "def list_folders_in_directory(directory)-> list[str]:\n",
        "    folders = [folder for folder in os.listdir(directory) if os.path.isdir(os.path.join(directory, folder))]\n",
        "    return folders\n",
        "\n",
        "directory_path = directory_path\n",
        "folders_list = list_folders_in_directory(directory_path)\n",
        "print(folders_list)"
      ]
    },
    {
      "cell_type": "markdown",
      "metadata": {
        "id": "8my2FpUok4Jm"
      },
      "source": [
        "We are using the folder list to create a dataframe with the class, the name and the path for every file that we have in those folders"
      ]
    },
    {
      "cell_type": "code",
      "execution_count": 18,
      "metadata": {
        "colab": {
          "base_uri": "https://localhost:8080/",
          "height": 206
        },
        "id": "q92G1dick4Jn",
        "outputId": "31422be4-f68e-4bd4-bb58-4eb8325b6312"
      },
      "outputs": [
        {
          "data": {
            "application/vnd.google.colaboratory.intrinsic+json": {
              "summary": "{\n  \"name\": \"df\",\n  \"rows\": 6500,\n  \"fields\": [\n    {\n      \"column\": \"Class\",\n      \"properties\": {\n        \"dtype\": \"category\",\n        \"num_unique_values\": 6,\n        \"samples\": [\n          \"metal\",\n          \"cardboard\",\n          \"glass\"\n        ],\n        \"semantic_type\": \"\",\n        \"description\": \"\"\n      }\n    },\n    {\n      \"column\": \"File_name\",\n      \"properties\": {\n        \"dtype\": \"string\",\n        \"num_unique_values\": 6500,\n        \"samples\": [\n          \"trash680.jpg\",\n          \"brown-glass596.jpg\",\n          \"plastic495.jpg\"\n        ],\n        \"semantic_type\": \"\",\n        \"description\": \"\"\n      }\n    },\n    {\n      \"column\": \"File_path\",\n      \"properties\": {\n        \"dtype\": \"string\",\n        \"num_unique_values\": 6500,\n        \"samples\": [\n          \"/content/Garbage classification/trash/trash680.jpg\",\n          \"/content/Garbage classification/glass/brown-glass596.jpg\",\n          \"/content/Garbage classification/plastic/plastic495.jpg\"\n        ],\n        \"semantic_type\": \"\",\n        \"description\": \"\"\n      }\n    }\n  ]\n}",
              "type": "dataframe",
              "variable_name": "df"
            },
            "text/html": [
              "\n",
              "  <div id=\"df-687b5760-6f6c-40e2-81a6-bd22ee9a628b\" class=\"colab-df-container\">\n",
              "    <div>\n",
              "<style scoped>\n",
              "    .dataframe tbody tr th:only-of-type {\n",
              "        vertical-align: middle;\n",
              "    }\n",
              "\n",
              "    .dataframe tbody tr th {\n",
              "        vertical-align: top;\n",
              "    }\n",
              "\n",
              "    .dataframe thead th {\n",
              "        text-align: right;\n",
              "    }\n",
              "</style>\n",
              "<table border=\"1\" class=\"dataframe\">\n",
              "  <thead>\n",
              "    <tr style=\"text-align: right;\">\n",
              "      <th></th>\n",
              "      <th>Class</th>\n",
              "      <th>File_name</th>\n",
              "      <th>File_path</th>\n",
              "    </tr>\n",
              "  </thead>\n",
              "  <tbody>\n",
              "    <tr>\n",
              "      <th>0</th>\n",
              "      <td>metal</td>\n",
              "      <td>metal68.jpg</td>\n",
              "      <td>/content/Garbage classification/metal/metal68.jpg</td>\n",
              "    </tr>\n",
              "    <tr>\n",
              "      <th>1</th>\n",
              "      <td>metal</td>\n",
              "      <td>metal66.jpg</td>\n",
              "      <td>/content/Garbage classification/metal/metal66.jpg</td>\n",
              "    </tr>\n",
              "    <tr>\n",
              "      <th>2</th>\n",
              "      <td>metal</td>\n",
              "      <td>metal336.jpg</td>\n",
              "      <td>/content/Garbage classification/metal/metal336...</td>\n",
              "    </tr>\n",
              "    <tr>\n",
              "      <th>3</th>\n",
              "      <td>metal</td>\n",
              "      <td>metal150.jpg</td>\n",
              "      <td>/content/Garbage classification/metal/metal150...</td>\n",
              "    </tr>\n",
              "    <tr>\n",
              "      <th>4</th>\n",
              "      <td>metal</td>\n",
              "      <td>metal242.jpg</td>\n",
              "      <td>/content/Garbage classification/metal/metal242...</td>\n",
              "    </tr>\n",
              "  </tbody>\n",
              "</table>\n",
              "</div>\n",
              "    <div class=\"colab-df-buttons\">\n",
              "\n",
              "  <div class=\"colab-df-container\">\n",
              "    <button class=\"colab-df-convert\" onclick=\"convertToInteractive('df-687b5760-6f6c-40e2-81a6-bd22ee9a628b')\"\n",
              "            title=\"Convert this dataframe to an interactive table.\"\n",
              "            style=\"display:none;\">\n",
              "\n",
              "  <svg xmlns=\"http://www.w3.org/2000/svg\" height=\"24px\" viewBox=\"0 -960 960 960\">\n",
              "    <path d=\"M120-120v-720h720v720H120Zm60-500h600v-160H180v160Zm220 220h160v-160H400v160Zm0 220h160v-160H400v160ZM180-400h160v-160H180v160Zm440 0h160v-160H620v160ZM180-180h160v-160H180v160Zm440 0h160v-160H620v160Z\"/>\n",
              "  </svg>\n",
              "    </button>\n",
              "\n",
              "  <style>\n",
              "    .colab-df-container {\n",
              "      display:flex;\n",
              "      gap: 12px;\n",
              "    }\n",
              "\n",
              "    .colab-df-convert {\n",
              "      background-color: #E8F0FE;\n",
              "      border: none;\n",
              "      border-radius: 50%;\n",
              "      cursor: pointer;\n",
              "      display: none;\n",
              "      fill: #1967D2;\n",
              "      height: 32px;\n",
              "      padding: 0 0 0 0;\n",
              "      width: 32px;\n",
              "    }\n",
              "\n",
              "    .colab-df-convert:hover {\n",
              "      background-color: #E2EBFA;\n",
              "      box-shadow: 0px 1px 2px rgba(60, 64, 67, 0.3), 0px 1px 3px 1px rgba(60, 64, 67, 0.15);\n",
              "      fill: #174EA6;\n",
              "    }\n",
              "\n",
              "    .colab-df-buttons div {\n",
              "      margin-bottom: 4px;\n",
              "    }\n",
              "\n",
              "    [theme=dark] .colab-df-convert {\n",
              "      background-color: #3B4455;\n",
              "      fill: #D2E3FC;\n",
              "    }\n",
              "\n",
              "    [theme=dark] .colab-df-convert:hover {\n",
              "      background-color: #434B5C;\n",
              "      box-shadow: 0px 1px 3px 1px rgba(0, 0, 0, 0.15);\n",
              "      filter: drop-shadow(0px 1px 2px rgba(0, 0, 0, 0.3));\n",
              "      fill: #FFFFFF;\n",
              "    }\n",
              "  </style>\n",
              "\n",
              "    <script>\n",
              "      const buttonEl =\n",
              "        document.querySelector('#df-687b5760-6f6c-40e2-81a6-bd22ee9a628b button.colab-df-convert');\n",
              "      buttonEl.style.display =\n",
              "        google.colab.kernel.accessAllowed ? 'block' : 'none';\n",
              "\n",
              "      async function convertToInteractive(key) {\n",
              "        const element = document.querySelector('#df-687b5760-6f6c-40e2-81a6-bd22ee9a628b');\n",
              "        const dataTable =\n",
              "          await google.colab.kernel.invokeFunction('convertToInteractive',\n",
              "                                                    [key], {});\n",
              "        if (!dataTable) return;\n",
              "\n",
              "        const docLinkHtml = 'Like what you see? Visit the ' +\n",
              "          '<a target=\"_blank\" href=https://colab.research.google.com/notebooks/data_table.ipynb>data table notebook</a>'\n",
              "          + ' to learn more about interactive tables.';\n",
              "        element.innerHTML = '';\n",
              "        dataTable['output_type'] = 'display_data';\n",
              "        await google.colab.output.renderOutput(dataTable, element);\n",
              "        const docLink = document.createElement('div');\n",
              "        docLink.innerHTML = docLinkHtml;\n",
              "        element.appendChild(docLink);\n",
              "      }\n",
              "    </script>\n",
              "  </div>\n",
              "\n",
              "\n",
              "<div id=\"df-3cb973e1-27c9-43d8-963a-cfbda10e646b\">\n",
              "  <button class=\"colab-df-quickchart\" onclick=\"quickchart('df-3cb973e1-27c9-43d8-963a-cfbda10e646b')\"\n",
              "            title=\"Suggest charts\"\n",
              "            style=\"display:none;\">\n",
              "\n",
              "<svg xmlns=\"http://www.w3.org/2000/svg\" height=\"24px\"viewBox=\"0 0 24 24\"\n",
              "     width=\"24px\">\n",
              "    <g>\n",
              "        <path d=\"M19 3H5c-1.1 0-2 .9-2 2v14c0 1.1.9 2 2 2h14c1.1 0 2-.9 2-2V5c0-1.1-.9-2-2-2zM9 17H7v-7h2v7zm4 0h-2V7h2v10zm4 0h-2v-4h2v4z\"/>\n",
              "    </g>\n",
              "</svg>\n",
              "  </button>\n",
              "\n",
              "<style>\n",
              "  .colab-df-quickchart {\n",
              "      --bg-color: #E8F0FE;\n",
              "      --fill-color: #1967D2;\n",
              "      --hover-bg-color: #E2EBFA;\n",
              "      --hover-fill-color: #174EA6;\n",
              "      --disabled-fill-color: #AAA;\n",
              "      --disabled-bg-color: #DDD;\n",
              "  }\n",
              "\n",
              "  [theme=dark] .colab-df-quickchart {\n",
              "      --bg-color: #3B4455;\n",
              "      --fill-color: #D2E3FC;\n",
              "      --hover-bg-color: #434B5C;\n",
              "      --hover-fill-color: #FFFFFF;\n",
              "      --disabled-bg-color: #3B4455;\n",
              "      --disabled-fill-color: #666;\n",
              "  }\n",
              "\n",
              "  .colab-df-quickchart {\n",
              "    background-color: var(--bg-color);\n",
              "    border: none;\n",
              "    border-radius: 50%;\n",
              "    cursor: pointer;\n",
              "    display: none;\n",
              "    fill: var(--fill-color);\n",
              "    height: 32px;\n",
              "    padding: 0;\n",
              "    width: 32px;\n",
              "  }\n",
              "\n",
              "  .colab-df-quickchart:hover {\n",
              "    background-color: var(--hover-bg-color);\n",
              "    box-shadow: 0 1px 2px rgba(60, 64, 67, 0.3), 0 1px 3px 1px rgba(60, 64, 67, 0.15);\n",
              "    fill: var(--button-hover-fill-color);\n",
              "  }\n",
              "\n",
              "  .colab-df-quickchart-complete:disabled,\n",
              "  .colab-df-quickchart-complete:disabled:hover {\n",
              "    background-color: var(--disabled-bg-color);\n",
              "    fill: var(--disabled-fill-color);\n",
              "    box-shadow: none;\n",
              "  }\n",
              "\n",
              "  .colab-df-spinner {\n",
              "    border: 2px solid var(--fill-color);\n",
              "    border-color: transparent;\n",
              "    border-bottom-color: var(--fill-color);\n",
              "    animation:\n",
              "      spin 1s steps(1) infinite;\n",
              "  }\n",
              "\n",
              "  @keyframes spin {\n",
              "    0% {\n",
              "      border-color: transparent;\n",
              "      border-bottom-color: var(--fill-color);\n",
              "      border-left-color: var(--fill-color);\n",
              "    }\n",
              "    20% {\n",
              "      border-color: transparent;\n",
              "      border-left-color: var(--fill-color);\n",
              "      border-top-color: var(--fill-color);\n",
              "    }\n",
              "    30% {\n",
              "      border-color: transparent;\n",
              "      border-left-color: var(--fill-color);\n",
              "      border-top-color: var(--fill-color);\n",
              "      border-right-color: var(--fill-color);\n",
              "    }\n",
              "    40% {\n",
              "      border-color: transparent;\n",
              "      border-right-color: var(--fill-color);\n",
              "      border-top-color: var(--fill-color);\n",
              "    }\n",
              "    60% {\n",
              "      border-color: transparent;\n",
              "      border-right-color: var(--fill-color);\n",
              "    }\n",
              "    80% {\n",
              "      border-color: transparent;\n",
              "      border-right-color: var(--fill-color);\n",
              "      border-bottom-color: var(--fill-color);\n",
              "    }\n",
              "    90% {\n",
              "      border-color: transparent;\n",
              "      border-bottom-color: var(--fill-color);\n",
              "    }\n",
              "  }\n",
              "</style>\n",
              "\n",
              "  <script>\n",
              "    async function quickchart(key) {\n",
              "      const quickchartButtonEl =\n",
              "        document.querySelector('#' + key + ' button');\n",
              "      quickchartButtonEl.disabled = true;  // To prevent multiple clicks.\n",
              "      quickchartButtonEl.classList.add('colab-df-spinner');\n",
              "      try {\n",
              "        const charts = await google.colab.kernel.invokeFunction(\n",
              "            'suggestCharts', [key], {});\n",
              "      } catch (error) {\n",
              "        console.error('Error during call to suggestCharts:', error);\n",
              "      }\n",
              "      quickchartButtonEl.classList.remove('colab-df-spinner');\n",
              "      quickchartButtonEl.classList.add('colab-df-quickchart-complete');\n",
              "    }\n",
              "    (() => {\n",
              "      let quickchartButtonEl =\n",
              "        document.querySelector('#df-3cb973e1-27c9-43d8-963a-cfbda10e646b button');\n",
              "      quickchartButtonEl.style.display =\n",
              "        google.colab.kernel.accessAllowed ? 'block' : 'none';\n",
              "    })();\n",
              "  </script>\n",
              "</div>\n",
              "    </div>\n",
              "  </div>\n"
            ],
            "text/plain": [
              "   Class     File_name                                          File_path\n",
              "0  metal   metal68.jpg  /content/Garbage classification/metal/metal68.jpg\n",
              "1  metal   metal66.jpg  /content/Garbage classification/metal/metal66.jpg\n",
              "2  metal  metal336.jpg  /content/Garbage classification/metal/metal336...\n",
              "3  metal  metal150.jpg  /content/Garbage classification/metal/metal150...\n",
              "4  metal  metal242.jpg  /content/Garbage classification/metal/metal242..."
            ]
          },
          "execution_count": 18,
          "metadata": {},
          "output_type": "execute_result"
        }
      ],
      "source": [
        "data = []\n",
        "for folder in folders_list:\n",
        "    files = os.listdir(os.path.join(directory_path, folder))\n",
        "    #Add each file along with its folder name to the data list\n",
        "    for file in files:\n",
        "        data.append({'Class': folder, 'File_name': file, 'File_path':os.path.join(directory_path, folder, file)})\n",
        "\n",
        "# Create a DataFrame from the data list\n",
        "df = pd.DataFrame(data)\n",
        "\n",
        "# Display the DataFrame\n",
        "df.head()\n",
        "\n"
      ]
    },
    {
      "cell_type": "markdown",
      "metadata": {
        "id": "2PcXCXVfk4Jn"
      },
      "source": [
        "We are getting more details about our files"
      ]
    },
    {
      "cell_type": "code",
      "execution_count": 19,
      "metadata": {
        "colab": {
          "base_uri": "https://localhost:8080/",
          "height": 206
        },
        "id": "q1AcH6klk4Jn",
        "outputId": "c79f26ef-e3f7-44a2-d156-1540bff476af"
      },
      "outputs": [
        {
          "data": {
            "application/vnd.google.colaboratory.intrinsic+json": {
              "summary": "{\n  \"name\": \"df\",\n  \"rows\": 6500,\n  \"fields\": [\n    {\n      \"column\": \"Class\",\n      \"properties\": {\n        \"dtype\": \"category\",\n        \"num_unique_values\": 6,\n        \"samples\": [\n          \"metal\",\n          \"cardboard\",\n          \"glass\"\n        ],\n        \"semantic_type\": \"\",\n        \"description\": \"\"\n      }\n    },\n    {\n      \"column\": \"File_name\",\n      \"properties\": {\n        \"dtype\": \"string\",\n        \"num_unique_values\": 6500,\n        \"samples\": [\n          \"trash680.jpg\",\n          \"brown-glass596.jpg\",\n          \"plastic495.jpg\"\n        ],\n        \"semantic_type\": \"\",\n        \"description\": \"\"\n      }\n    },\n    {\n      \"column\": \"File_path\",\n      \"properties\": {\n        \"dtype\": \"string\",\n        \"num_unique_values\": 6500,\n        \"samples\": [\n          \"/content/Garbage classification/trash/trash680.jpg\",\n          \"/content/Garbage classification/glass/brown-glass596.jpg\",\n          \"/content/Garbage classification/plastic/plastic495.jpg\"\n        ],\n        \"semantic_type\": \"\",\n        \"description\": \"\"\n      }\n    },\n    {\n      \"column\": \"Image_width\",\n      \"properties\": {\n        \"dtype\": \"number\",\n        \"std\": 138,\n        \"min\": 51,\n        \"max\": 512,\n        \"num_unique_values\": 234,\n        \"samples\": [\n          299,\n          154,\n          170\n        ],\n        \"semantic_type\": \"\",\n        \"description\": \"\"\n      }\n    },\n    {\n      \"column\": \"Image_height\",\n      \"properties\": {\n        \"dtype\": \"number\",\n        \"std\": 85,\n        \"min\": 100,\n        \"max\": 400,\n        \"num_unique_values\": 210,\n        \"samples\": [\n          205,\n          318,\n          220\n        ],\n        \"semantic_type\": \"\",\n        \"description\": \"\"\n      }\n    },\n    {\n      \"column\": \"Image_format\",\n      \"properties\": {\n        \"dtype\": \"category\",\n        \"num_unique_values\": 2,\n        \"samples\": [\n          \"PNG\",\n          \"JPEG\"\n        ],\n        \"semantic_type\": \"\",\n        \"description\": \"\"\n      }\n    },\n    {\n      \"column\": \"Image_channel\",\n      \"properties\": {\n        \"dtype\": \"category\",\n        \"num_unique_values\": 2,\n        \"samples\": [\n          \"P\",\n          \"RGB\"\n        ],\n        \"semantic_type\": \"\",\n        \"description\": \"\"\n      }\n    }\n  ]\n}",
              "type": "dataframe",
              "variable_name": "df"
            },
            "text/html": [
              "\n",
              "  <div id=\"df-b8e42e59-31ca-4682-856d-cc3d1e775cb6\" class=\"colab-df-container\">\n",
              "    <div>\n",
              "<style scoped>\n",
              "    .dataframe tbody tr th:only-of-type {\n",
              "        vertical-align: middle;\n",
              "    }\n",
              "\n",
              "    .dataframe tbody tr th {\n",
              "        vertical-align: top;\n",
              "    }\n",
              "\n",
              "    .dataframe thead th {\n",
              "        text-align: right;\n",
              "    }\n",
              "</style>\n",
              "<table border=\"1\" class=\"dataframe\">\n",
              "  <thead>\n",
              "    <tr style=\"text-align: right;\">\n",
              "      <th></th>\n",
              "      <th>Class</th>\n",
              "      <th>File_name</th>\n",
              "      <th>File_path</th>\n",
              "      <th>Image_width</th>\n",
              "      <th>Image_height</th>\n",
              "      <th>Image_format</th>\n",
              "      <th>Image_channel</th>\n",
              "    </tr>\n",
              "  </thead>\n",
              "  <tbody>\n",
              "    <tr>\n",
              "      <th>0</th>\n",
              "      <td>metal</td>\n",
              "      <td>metal68.jpg</td>\n",
              "      <td>/content/Garbage classification/metal/metal68.jpg</td>\n",
              "      <td>225</td>\n",
              "      <td>225</td>\n",
              "      <td>JPEG</td>\n",
              "      <td>RGB</td>\n",
              "    </tr>\n",
              "    <tr>\n",
              "      <th>1</th>\n",
              "      <td>metal</td>\n",
              "      <td>metal66.jpg</td>\n",
              "      <td>/content/Garbage classification/metal/metal66.jpg</td>\n",
              "      <td>512</td>\n",
              "      <td>384</td>\n",
              "      <td>JPEG</td>\n",
              "      <td>RGB</td>\n",
              "    </tr>\n",
              "    <tr>\n",
              "      <th>2</th>\n",
              "      <td>metal</td>\n",
              "      <td>metal336.jpg</td>\n",
              "      <td>/content/Garbage classification/metal/metal336...</td>\n",
              "      <td>512</td>\n",
              "      <td>384</td>\n",
              "      <td>JPEG</td>\n",
              "      <td>RGB</td>\n",
              "    </tr>\n",
              "    <tr>\n",
              "      <th>3</th>\n",
              "      <td>metal</td>\n",
              "      <td>metal150.jpg</td>\n",
              "      <td>/content/Garbage classification/metal/metal150...</td>\n",
              "      <td>512</td>\n",
              "      <td>384</td>\n",
              "      <td>JPEG</td>\n",
              "      <td>RGB</td>\n",
              "    </tr>\n",
              "    <tr>\n",
              "      <th>4</th>\n",
              "      <td>metal</td>\n",
              "      <td>metal242.jpg</td>\n",
              "      <td>/content/Garbage classification/metal/metal242...</td>\n",
              "      <td>512</td>\n",
              "      <td>384</td>\n",
              "      <td>JPEG</td>\n",
              "      <td>RGB</td>\n",
              "    </tr>\n",
              "  </tbody>\n",
              "</table>\n",
              "</div>\n",
              "    <div class=\"colab-df-buttons\">\n",
              "\n",
              "  <div class=\"colab-df-container\">\n",
              "    <button class=\"colab-df-convert\" onclick=\"convertToInteractive('df-b8e42e59-31ca-4682-856d-cc3d1e775cb6')\"\n",
              "            title=\"Convert this dataframe to an interactive table.\"\n",
              "            style=\"display:none;\">\n",
              "\n",
              "  <svg xmlns=\"http://www.w3.org/2000/svg\" height=\"24px\" viewBox=\"0 -960 960 960\">\n",
              "    <path d=\"M120-120v-720h720v720H120Zm60-500h600v-160H180v160Zm220 220h160v-160H400v160Zm0 220h160v-160H400v160ZM180-400h160v-160H180v160Zm440 0h160v-160H620v160ZM180-180h160v-160H180v160Zm440 0h160v-160H620v160Z\"/>\n",
              "  </svg>\n",
              "    </button>\n",
              "\n",
              "  <style>\n",
              "    .colab-df-container {\n",
              "      display:flex;\n",
              "      gap: 12px;\n",
              "    }\n",
              "\n",
              "    .colab-df-convert {\n",
              "      background-color: #E8F0FE;\n",
              "      border: none;\n",
              "      border-radius: 50%;\n",
              "      cursor: pointer;\n",
              "      display: none;\n",
              "      fill: #1967D2;\n",
              "      height: 32px;\n",
              "      padding: 0 0 0 0;\n",
              "      width: 32px;\n",
              "    }\n",
              "\n",
              "    .colab-df-convert:hover {\n",
              "      background-color: #E2EBFA;\n",
              "      box-shadow: 0px 1px 2px rgba(60, 64, 67, 0.3), 0px 1px 3px 1px rgba(60, 64, 67, 0.15);\n",
              "      fill: #174EA6;\n",
              "    }\n",
              "\n",
              "    .colab-df-buttons div {\n",
              "      margin-bottom: 4px;\n",
              "    }\n",
              "\n",
              "    [theme=dark] .colab-df-convert {\n",
              "      background-color: #3B4455;\n",
              "      fill: #D2E3FC;\n",
              "    }\n",
              "\n",
              "    [theme=dark] .colab-df-convert:hover {\n",
              "      background-color: #434B5C;\n",
              "      box-shadow: 0px 1px 3px 1px rgba(0, 0, 0, 0.15);\n",
              "      filter: drop-shadow(0px 1px 2px rgba(0, 0, 0, 0.3));\n",
              "      fill: #FFFFFF;\n",
              "    }\n",
              "  </style>\n",
              "\n",
              "    <script>\n",
              "      const buttonEl =\n",
              "        document.querySelector('#df-b8e42e59-31ca-4682-856d-cc3d1e775cb6 button.colab-df-convert');\n",
              "      buttonEl.style.display =\n",
              "        google.colab.kernel.accessAllowed ? 'block' : 'none';\n",
              "\n",
              "      async function convertToInteractive(key) {\n",
              "        const element = document.querySelector('#df-b8e42e59-31ca-4682-856d-cc3d1e775cb6');\n",
              "        const dataTable =\n",
              "          await google.colab.kernel.invokeFunction('convertToInteractive',\n",
              "                                                    [key], {});\n",
              "        if (!dataTable) return;\n",
              "\n",
              "        const docLinkHtml = 'Like what you see? Visit the ' +\n",
              "          '<a target=\"_blank\" href=https://colab.research.google.com/notebooks/data_table.ipynb>data table notebook</a>'\n",
              "          + ' to learn more about interactive tables.';\n",
              "        element.innerHTML = '';\n",
              "        dataTable['output_type'] = 'display_data';\n",
              "        await google.colab.output.renderOutput(dataTable, element);\n",
              "        const docLink = document.createElement('div');\n",
              "        docLink.innerHTML = docLinkHtml;\n",
              "        element.appendChild(docLink);\n",
              "      }\n",
              "    </script>\n",
              "  </div>\n",
              "\n",
              "\n",
              "<div id=\"df-7218ffb9-ae21-437e-afe5-cabc75e19f75\">\n",
              "  <button class=\"colab-df-quickchart\" onclick=\"quickchart('df-7218ffb9-ae21-437e-afe5-cabc75e19f75')\"\n",
              "            title=\"Suggest charts\"\n",
              "            style=\"display:none;\">\n",
              "\n",
              "<svg xmlns=\"http://www.w3.org/2000/svg\" height=\"24px\"viewBox=\"0 0 24 24\"\n",
              "     width=\"24px\">\n",
              "    <g>\n",
              "        <path d=\"M19 3H5c-1.1 0-2 .9-2 2v14c0 1.1.9 2 2 2h14c1.1 0 2-.9 2-2V5c0-1.1-.9-2-2-2zM9 17H7v-7h2v7zm4 0h-2V7h2v10zm4 0h-2v-4h2v4z\"/>\n",
              "    </g>\n",
              "</svg>\n",
              "  </button>\n",
              "\n",
              "<style>\n",
              "  .colab-df-quickchart {\n",
              "      --bg-color: #E8F0FE;\n",
              "      --fill-color: #1967D2;\n",
              "      --hover-bg-color: #E2EBFA;\n",
              "      --hover-fill-color: #174EA6;\n",
              "      --disabled-fill-color: #AAA;\n",
              "      --disabled-bg-color: #DDD;\n",
              "  }\n",
              "\n",
              "  [theme=dark] .colab-df-quickchart {\n",
              "      --bg-color: #3B4455;\n",
              "      --fill-color: #D2E3FC;\n",
              "      --hover-bg-color: #434B5C;\n",
              "      --hover-fill-color: #FFFFFF;\n",
              "      --disabled-bg-color: #3B4455;\n",
              "      --disabled-fill-color: #666;\n",
              "  }\n",
              "\n",
              "  .colab-df-quickchart {\n",
              "    background-color: var(--bg-color);\n",
              "    border: none;\n",
              "    border-radius: 50%;\n",
              "    cursor: pointer;\n",
              "    display: none;\n",
              "    fill: var(--fill-color);\n",
              "    height: 32px;\n",
              "    padding: 0;\n",
              "    width: 32px;\n",
              "  }\n",
              "\n",
              "  .colab-df-quickchart:hover {\n",
              "    background-color: var(--hover-bg-color);\n",
              "    box-shadow: 0 1px 2px rgba(60, 64, 67, 0.3), 0 1px 3px 1px rgba(60, 64, 67, 0.15);\n",
              "    fill: var(--button-hover-fill-color);\n",
              "  }\n",
              "\n",
              "  .colab-df-quickchart-complete:disabled,\n",
              "  .colab-df-quickchart-complete:disabled:hover {\n",
              "    background-color: var(--disabled-bg-color);\n",
              "    fill: var(--disabled-fill-color);\n",
              "    box-shadow: none;\n",
              "  }\n",
              "\n",
              "  .colab-df-spinner {\n",
              "    border: 2px solid var(--fill-color);\n",
              "    border-color: transparent;\n",
              "    border-bottom-color: var(--fill-color);\n",
              "    animation:\n",
              "      spin 1s steps(1) infinite;\n",
              "  }\n",
              "\n",
              "  @keyframes spin {\n",
              "    0% {\n",
              "      border-color: transparent;\n",
              "      border-bottom-color: var(--fill-color);\n",
              "      border-left-color: var(--fill-color);\n",
              "    }\n",
              "    20% {\n",
              "      border-color: transparent;\n",
              "      border-left-color: var(--fill-color);\n",
              "      border-top-color: var(--fill-color);\n",
              "    }\n",
              "    30% {\n",
              "      border-color: transparent;\n",
              "      border-left-color: var(--fill-color);\n",
              "      border-top-color: var(--fill-color);\n",
              "      border-right-color: var(--fill-color);\n",
              "    }\n",
              "    40% {\n",
              "      border-color: transparent;\n",
              "      border-right-color: var(--fill-color);\n",
              "      border-top-color: var(--fill-color);\n",
              "    }\n",
              "    60% {\n",
              "      border-color: transparent;\n",
              "      border-right-color: var(--fill-color);\n",
              "    }\n",
              "    80% {\n",
              "      border-color: transparent;\n",
              "      border-right-color: var(--fill-color);\n",
              "      border-bottom-color: var(--fill-color);\n",
              "    }\n",
              "    90% {\n",
              "      border-color: transparent;\n",
              "      border-bottom-color: var(--fill-color);\n",
              "    }\n",
              "  }\n",
              "</style>\n",
              "\n",
              "  <script>\n",
              "    async function quickchart(key) {\n",
              "      const quickchartButtonEl =\n",
              "        document.querySelector('#' + key + ' button');\n",
              "      quickchartButtonEl.disabled = true;  // To prevent multiple clicks.\n",
              "      quickchartButtonEl.classList.add('colab-df-spinner');\n",
              "      try {\n",
              "        const charts = await google.colab.kernel.invokeFunction(\n",
              "            'suggestCharts', [key], {});\n",
              "      } catch (error) {\n",
              "        console.error('Error during call to suggestCharts:', error);\n",
              "      }\n",
              "      quickchartButtonEl.classList.remove('colab-df-spinner');\n",
              "      quickchartButtonEl.classList.add('colab-df-quickchart-complete');\n",
              "    }\n",
              "    (() => {\n",
              "      let quickchartButtonEl =\n",
              "        document.querySelector('#df-7218ffb9-ae21-437e-afe5-cabc75e19f75 button');\n",
              "      quickchartButtonEl.style.display =\n",
              "        google.colab.kernel.accessAllowed ? 'block' : 'none';\n",
              "    })();\n",
              "  </script>\n",
              "</div>\n",
              "    </div>\n",
              "  </div>\n"
            ],
            "text/plain": [
              "   Class     File_name                                          File_path  \\\n",
              "0  metal   metal68.jpg  /content/Garbage classification/metal/metal68.jpg   \n",
              "1  metal   metal66.jpg  /content/Garbage classification/metal/metal66.jpg   \n",
              "2  metal  metal336.jpg  /content/Garbage classification/metal/metal336...   \n",
              "3  metal  metal150.jpg  /content/Garbage classification/metal/metal150...   \n",
              "4  metal  metal242.jpg  /content/Garbage classification/metal/metal242...   \n",
              "\n",
              "   Image_width  Image_height Image_format Image_channel  \n",
              "0          225           225         JPEG           RGB  \n",
              "1          512           384         JPEG           RGB  \n",
              "2          512           384         JPEG           RGB  \n",
              "3          512           384         JPEG           RGB  \n",
              "4          512           384         JPEG           RGB  "
            ]
          },
          "execution_count": 19,
          "metadata": {},
          "output_type": "execute_result"
        }
      ],
      "source": [
        "df['Image_width'], df['Image_height'], df['Image_format'], df['Image_channel'] = zip(*df.apply(get_image_metadata, axis=1))\n",
        "\n",
        "df.head()"
      ]
    },
    {
      "cell_type": "markdown",
      "metadata": {
        "id": "zCic8ZGIk4Jn"
      },
      "source": [
        "We are looking at the format of our data.\n",
        "\n",
        "It seems that we do not have any unusual formats."
      ]
    },
    {
      "cell_type": "code",
      "execution_count": 20,
      "metadata": {
        "colab": {
          "base_uri": "https://localhost:8080/"
        },
        "id": "js8SXEsXk4Jn",
        "outputId": "2599845e-d5e4-4fcc-b40f-b36c13ef34a1"
      },
      "outputs": [
        {
          "data": {
            "text/plain": [
              "Image_format\n",
              "JPEG    6472\n",
              "PNG       28\n",
              "Name: count, dtype: int64"
            ]
          },
          "execution_count": 20,
          "metadata": {},
          "output_type": "execute_result"
        }
      ],
      "source": [
        "df['Image_format'].value_counts()"
      ]
    },
    {
      "cell_type": "markdown",
      "metadata": {
        "id": "rJwEaKpFk4Jn"
      },
      "source": [
        "We are looking at the channel type."
      ]
    },
    {
      "cell_type": "code",
      "execution_count": 21,
      "metadata": {
        "colab": {
          "base_uri": "https://localhost:8080/"
        },
        "id": "fmPwdhkPk4Jn",
        "outputId": "3b54674c-b07d-4f0e-9b1e-51bdd6e91ce8"
      },
      "outputs": [
        {
          "data": {
            "text/plain": [
              "Image_channel\n",
              "RGB    6472\n",
              "P        28\n",
              "Name: count, dtype: int64"
            ]
          },
          "execution_count": 21,
          "metadata": {},
          "output_type": "execute_result"
        }
      ],
      "source": [
        "df.Image_channel.value_counts()"
      ]
    },
    {
      "cell_type": "markdown",
      "metadata": {
        "id": "mHKKb60Ak4Jo"
      },
      "source": [
        "We will drop everything that does not have the *RGB* channel"
      ]
    },
    {
      "cell_type": "code",
      "execution_count": 22,
      "metadata": {
        "id": "_0lwkuwvk4Jo"
      },
      "outputs": [],
      "source": [
        "df = df.drop(df[df.Image_channel != 'RGB'].index)"
      ]
    },
    {
      "cell_type": "code",
      "execution_count": 23,
      "metadata": {
        "colab": {
          "base_uri": "https://localhost:8080/"
        },
        "id": "7jo9FXnMk4Jo",
        "outputId": "9b4a227b-877d-42ce-aab7-2707f5e07c52"
      },
      "outputs": [
        {
          "data": {
            "text/plain": [
              "Image_channel\n",
              "RGB    6472\n",
              "Name: count, dtype: int64"
            ]
          },
          "execution_count": 23,
          "metadata": {},
          "output_type": "execute_result"
        }
      ],
      "source": [
        "df.Image_channel.value_counts()"
      ]
    },
    {
      "cell_type": "code",
      "execution_count": 24,
      "metadata": {
        "id": "044ZhRF9k4Jo"
      },
      "outputs": [],
      "source": [
        "all_glass_df = df.copy()"
      ]
    },
    {
      "cell_type": "markdown",
      "metadata": {
        "id": "aZEGhAKdk4Jo"
      },
      "source": [
        "We can take a look on how many images we have in our classes."
      ]
    },
    {
      "cell_type": "code",
      "execution_count": 25,
      "metadata": {
        "colab": {
          "base_uri": "https://localhost:8080/"
        },
        "id": "NUtzkGf2k4Jo",
        "outputId": "b483bcfa-62a2-4456-b0c4-2295b2184ade"
      },
      "outputs": [
        {
          "data": {
            "text/plain": [
              "Class\n",
              "glass        2010\n",
              "paper        1047\n",
              "cardboard     891\n",
              "plastic       865\n",
              "metal         849\n",
              "trash         810\n",
              "Name: count, dtype: int64"
            ]
          },
          "execution_count": 25,
          "metadata": {},
          "output_type": "execute_result"
        }
      ],
      "source": [
        "df.Class.value_counts()"
      ]
    },
    {
      "cell_type": "markdown",
      "metadata": {
        "id": "CJ0L8jvnk4Jq"
      },
      "source": [
        "Because we want to do a binary classification on a class vs the rest of the classes, we need to hot encode our classes."
      ]
    },
    {
      "cell_type": "code",
      "execution_count": 26,
      "metadata": {
        "colab": {
          "base_uri": "https://localhost:8080/",
          "height": 293
        },
        "id": "fe72vUm9k4Jq",
        "outputId": "3f5959db-f78f-4223-ce22-632987014ccb"
      },
      "outputs": [
        {
          "data": {
            "application/vnd.google.colaboratory.intrinsic+json": {
              "summary": "{\n  \"name\": \"df\",\n  \"rows\": 6472,\n  \"fields\": [\n    {\n      \"column\": \"Class\",\n      \"properties\": {\n        \"dtype\": \"category\",\n        \"num_unique_values\": 6,\n        \"samples\": [\n          \"metal\",\n          \"cardboard\",\n          \"glass\"\n        ],\n        \"semantic_type\": \"\",\n        \"description\": \"\"\n      }\n    },\n    {\n      \"column\": \"File_name\",\n      \"properties\": {\n        \"dtype\": \"string\",\n        \"num_unique_values\": 6472,\n        \"samples\": [\n          \"plastic650.jpg\",\n          \"paper472.jpg\",\n          \"brown-glass162.jpg\"\n        ],\n        \"semantic_type\": \"\",\n        \"description\": \"\"\n      }\n    },\n    {\n      \"column\": \"File_path\",\n      \"properties\": {\n        \"dtype\": \"string\",\n        \"num_unique_values\": 6472,\n        \"samples\": [\n          \"/content/Garbage classification/plastic/plastic650.jpg\",\n          \"/content/Garbage classification/paper/paper472.jpg\",\n          \"/content/Garbage classification/glass/brown-glass162.jpg\"\n        ],\n        \"semantic_type\": \"\",\n        \"description\": \"\"\n      }\n    },\n    {\n      \"column\": \"Image_width\",\n      \"properties\": {\n        \"dtype\": \"number\",\n        \"std\": 138,\n        \"min\": 51,\n        \"max\": 512,\n        \"num_unique_values\": 233,\n        \"samples\": [\n          243,\n          176,\n          155\n        ],\n        \"semantic_type\": \"\",\n        \"description\": \"\"\n      }\n    },\n    {\n      \"column\": \"Image_height\",\n      \"properties\": {\n        \"dtype\": \"number\",\n        \"std\": 85,\n        \"min\": 100,\n        \"max\": 400,\n        \"num_unique_values\": 210,\n        \"samples\": [\n          205,\n          318,\n          220\n        ],\n        \"semantic_type\": \"\",\n        \"description\": \"\"\n      }\n    },\n    {\n      \"column\": \"Image_format\",\n      \"properties\": {\n        \"dtype\": \"category\",\n        \"num_unique_values\": 1,\n        \"samples\": [\n          \"JPEG\"\n        ],\n        \"semantic_type\": \"\",\n        \"description\": \"\"\n      }\n    },\n    {\n      \"column\": \"Image_channel\",\n      \"properties\": {\n        \"dtype\": \"category\",\n        \"num_unique_values\": 1,\n        \"samples\": [\n          \"RGB\"\n        ],\n        \"semantic_type\": \"\",\n        \"description\": \"\"\n      }\n    },\n    {\n      \"column\": \"cardboard\",\n      \"properties\": {\n        \"dtype\": \"number\",\n        \"std\": 0,\n        \"min\": 0,\n        \"max\": 1,\n        \"num_unique_values\": 2,\n        \"samples\": [\n          1\n        ],\n        \"semantic_type\": \"\",\n        \"description\": \"\"\n      }\n    },\n    {\n      \"column\": \"glass\",\n      \"properties\": {\n        \"dtype\": \"number\",\n        \"std\": 0,\n        \"min\": 0,\n        \"max\": 1,\n        \"num_unique_values\": 2,\n        \"samples\": [\n          1\n        ],\n        \"semantic_type\": \"\",\n        \"description\": \"\"\n      }\n    },\n    {\n      \"column\": \"metal\",\n      \"properties\": {\n        \"dtype\": \"number\",\n        \"std\": 0,\n        \"min\": 0,\n        \"max\": 1,\n        \"num_unique_values\": 2,\n        \"samples\": [\n          0\n        ],\n        \"semantic_type\": \"\",\n        \"description\": \"\"\n      }\n    },\n    {\n      \"column\": \"paper\",\n      \"properties\": {\n        \"dtype\": \"number\",\n        \"std\": 0,\n        \"min\": 0,\n        \"max\": 1,\n        \"num_unique_values\": 2,\n        \"samples\": [\n          1\n        ],\n        \"semantic_type\": \"\",\n        \"description\": \"\"\n      }\n    },\n    {\n      \"column\": \"plastic\",\n      \"properties\": {\n        \"dtype\": \"number\",\n        \"std\": 0,\n        \"min\": 0,\n        \"max\": 1,\n        \"num_unique_values\": 2,\n        \"samples\": [\n          1\n        ],\n        \"semantic_type\": \"\",\n        \"description\": \"\"\n      }\n    },\n    {\n      \"column\": \"trash\",\n      \"properties\": {\n        \"dtype\": \"number\",\n        \"std\": 0,\n        \"min\": 0,\n        \"max\": 1,\n        \"num_unique_values\": 2,\n        \"samples\": [\n          1\n        ],\n        \"semantic_type\": \"\",\n        \"description\": \"\"\n      }\n    }\n  ]\n}",
              "type": "dataframe",
              "variable_name": "df"
            },
            "text/html": [
              "\n",
              "  <div id=\"df-2c145f32-c39f-47c6-975f-c602cf54c29d\" class=\"colab-df-container\">\n",
              "    <div>\n",
              "<style scoped>\n",
              "    .dataframe tbody tr th:only-of-type {\n",
              "        vertical-align: middle;\n",
              "    }\n",
              "\n",
              "    .dataframe tbody tr th {\n",
              "        vertical-align: top;\n",
              "    }\n",
              "\n",
              "    .dataframe thead th {\n",
              "        text-align: right;\n",
              "    }\n",
              "</style>\n",
              "<table border=\"1\" class=\"dataframe\">\n",
              "  <thead>\n",
              "    <tr style=\"text-align: right;\">\n",
              "      <th></th>\n",
              "      <th>Class</th>\n",
              "      <th>File_name</th>\n",
              "      <th>File_path</th>\n",
              "      <th>Image_width</th>\n",
              "      <th>Image_height</th>\n",
              "      <th>Image_format</th>\n",
              "      <th>Image_channel</th>\n",
              "      <th>cardboard</th>\n",
              "      <th>glass</th>\n",
              "      <th>metal</th>\n",
              "      <th>paper</th>\n",
              "      <th>plastic</th>\n",
              "      <th>trash</th>\n",
              "    </tr>\n",
              "  </thead>\n",
              "  <tbody>\n",
              "    <tr>\n",
              "      <th>0</th>\n",
              "      <td>metal</td>\n",
              "      <td>metal68.jpg</td>\n",
              "      <td>/content/Garbage classification/metal/metal68.jpg</td>\n",
              "      <td>225</td>\n",
              "      <td>225</td>\n",
              "      <td>JPEG</td>\n",
              "      <td>RGB</td>\n",
              "      <td>0</td>\n",
              "      <td>0</td>\n",
              "      <td>1</td>\n",
              "      <td>0</td>\n",
              "      <td>0</td>\n",
              "      <td>0</td>\n",
              "    </tr>\n",
              "    <tr>\n",
              "      <th>1</th>\n",
              "      <td>metal</td>\n",
              "      <td>metal66.jpg</td>\n",
              "      <td>/content/Garbage classification/metal/metal66.jpg</td>\n",
              "      <td>512</td>\n",
              "      <td>384</td>\n",
              "      <td>JPEG</td>\n",
              "      <td>RGB</td>\n",
              "      <td>0</td>\n",
              "      <td>0</td>\n",
              "      <td>1</td>\n",
              "      <td>0</td>\n",
              "      <td>0</td>\n",
              "      <td>0</td>\n",
              "    </tr>\n",
              "    <tr>\n",
              "      <th>2</th>\n",
              "      <td>metal</td>\n",
              "      <td>metal336.jpg</td>\n",
              "      <td>/content/Garbage classification/metal/metal336...</td>\n",
              "      <td>512</td>\n",
              "      <td>384</td>\n",
              "      <td>JPEG</td>\n",
              "      <td>RGB</td>\n",
              "      <td>0</td>\n",
              "      <td>0</td>\n",
              "      <td>1</td>\n",
              "      <td>0</td>\n",
              "      <td>0</td>\n",
              "      <td>0</td>\n",
              "    </tr>\n",
              "    <tr>\n",
              "      <th>3</th>\n",
              "      <td>metal</td>\n",
              "      <td>metal150.jpg</td>\n",
              "      <td>/content/Garbage classification/metal/metal150...</td>\n",
              "      <td>512</td>\n",
              "      <td>384</td>\n",
              "      <td>JPEG</td>\n",
              "      <td>RGB</td>\n",
              "      <td>0</td>\n",
              "      <td>0</td>\n",
              "      <td>1</td>\n",
              "      <td>0</td>\n",
              "      <td>0</td>\n",
              "      <td>0</td>\n",
              "    </tr>\n",
              "    <tr>\n",
              "      <th>4</th>\n",
              "      <td>metal</td>\n",
              "      <td>metal242.jpg</td>\n",
              "      <td>/content/Garbage classification/metal/metal242...</td>\n",
              "      <td>512</td>\n",
              "      <td>384</td>\n",
              "      <td>JPEG</td>\n",
              "      <td>RGB</td>\n",
              "      <td>0</td>\n",
              "      <td>0</td>\n",
              "      <td>1</td>\n",
              "      <td>0</td>\n",
              "      <td>0</td>\n",
              "      <td>0</td>\n",
              "    </tr>\n",
              "  </tbody>\n",
              "</table>\n",
              "</div>\n",
              "    <div class=\"colab-df-buttons\">\n",
              "\n",
              "  <div class=\"colab-df-container\">\n",
              "    <button class=\"colab-df-convert\" onclick=\"convertToInteractive('df-2c145f32-c39f-47c6-975f-c602cf54c29d')\"\n",
              "            title=\"Convert this dataframe to an interactive table.\"\n",
              "            style=\"display:none;\">\n",
              "\n",
              "  <svg xmlns=\"http://www.w3.org/2000/svg\" height=\"24px\" viewBox=\"0 -960 960 960\">\n",
              "    <path d=\"M120-120v-720h720v720H120Zm60-500h600v-160H180v160Zm220 220h160v-160H400v160Zm0 220h160v-160H400v160ZM180-400h160v-160H180v160Zm440 0h160v-160H620v160ZM180-180h160v-160H180v160Zm440 0h160v-160H620v160Z\"/>\n",
              "  </svg>\n",
              "    </button>\n",
              "\n",
              "  <style>\n",
              "    .colab-df-container {\n",
              "      display:flex;\n",
              "      gap: 12px;\n",
              "    }\n",
              "\n",
              "    .colab-df-convert {\n",
              "      background-color: #E8F0FE;\n",
              "      border: none;\n",
              "      border-radius: 50%;\n",
              "      cursor: pointer;\n",
              "      display: none;\n",
              "      fill: #1967D2;\n",
              "      height: 32px;\n",
              "      padding: 0 0 0 0;\n",
              "      width: 32px;\n",
              "    }\n",
              "\n",
              "    .colab-df-convert:hover {\n",
              "      background-color: #E2EBFA;\n",
              "      box-shadow: 0px 1px 2px rgba(60, 64, 67, 0.3), 0px 1px 3px 1px rgba(60, 64, 67, 0.15);\n",
              "      fill: #174EA6;\n",
              "    }\n",
              "\n",
              "    .colab-df-buttons div {\n",
              "      margin-bottom: 4px;\n",
              "    }\n",
              "\n",
              "    [theme=dark] .colab-df-convert {\n",
              "      background-color: #3B4455;\n",
              "      fill: #D2E3FC;\n",
              "    }\n",
              "\n",
              "    [theme=dark] .colab-df-convert:hover {\n",
              "      background-color: #434B5C;\n",
              "      box-shadow: 0px 1px 3px 1px rgba(0, 0, 0, 0.15);\n",
              "      filter: drop-shadow(0px 1px 2px rgba(0, 0, 0, 0.3));\n",
              "      fill: #FFFFFF;\n",
              "    }\n",
              "  </style>\n",
              "\n",
              "    <script>\n",
              "      const buttonEl =\n",
              "        document.querySelector('#df-2c145f32-c39f-47c6-975f-c602cf54c29d button.colab-df-convert');\n",
              "      buttonEl.style.display =\n",
              "        google.colab.kernel.accessAllowed ? 'block' : 'none';\n",
              "\n",
              "      async function convertToInteractive(key) {\n",
              "        const element = document.querySelector('#df-2c145f32-c39f-47c6-975f-c602cf54c29d');\n",
              "        const dataTable =\n",
              "          await google.colab.kernel.invokeFunction('convertToInteractive',\n",
              "                                                    [key], {});\n",
              "        if (!dataTable) return;\n",
              "\n",
              "        const docLinkHtml = 'Like what you see? Visit the ' +\n",
              "          '<a target=\"_blank\" href=https://colab.research.google.com/notebooks/data_table.ipynb>data table notebook</a>'\n",
              "          + ' to learn more about interactive tables.';\n",
              "        element.innerHTML = '';\n",
              "        dataTable['output_type'] = 'display_data';\n",
              "        await google.colab.output.renderOutput(dataTable, element);\n",
              "        const docLink = document.createElement('div');\n",
              "        docLink.innerHTML = docLinkHtml;\n",
              "        element.appendChild(docLink);\n",
              "      }\n",
              "    </script>\n",
              "  </div>\n",
              "\n",
              "\n",
              "<div id=\"df-a0b1b699-d4c6-4aec-a615-140e36b3be14\">\n",
              "  <button class=\"colab-df-quickchart\" onclick=\"quickchart('df-a0b1b699-d4c6-4aec-a615-140e36b3be14')\"\n",
              "            title=\"Suggest charts\"\n",
              "            style=\"display:none;\">\n",
              "\n",
              "<svg xmlns=\"http://www.w3.org/2000/svg\" height=\"24px\"viewBox=\"0 0 24 24\"\n",
              "     width=\"24px\">\n",
              "    <g>\n",
              "        <path d=\"M19 3H5c-1.1 0-2 .9-2 2v14c0 1.1.9 2 2 2h14c1.1 0 2-.9 2-2V5c0-1.1-.9-2-2-2zM9 17H7v-7h2v7zm4 0h-2V7h2v10zm4 0h-2v-4h2v4z\"/>\n",
              "    </g>\n",
              "</svg>\n",
              "  </button>\n",
              "\n",
              "<style>\n",
              "  .colab-df-quickchart {\n",
              "      --bg-color: #E8F0FE;\n",
              "      --fill-color: #1967D2;\n",
              "      --hover-bg-color: #E2EBFA;\n",
              "      --hover-fill-color: #174EA6;\n",
              "      --disabled-fill-color: #AAA;\n",
              "      --disabled-bg-color: #DDD;\n",
              "  }\n",
              "\n",
              "  [theme=dark] .colab-df-quickchart {\n",
              "      --bg-color: #3B4455;\n",
              "      --fill-color: #D2E3FC;\n",
              "      --hover-bg-color: #434B5C;\n",
              "      --hover-fill-color: #FFFFFF;\n",
              "      --disabled-bg-color: #3B4455;\n",
              "      --disabled-fill-color: #666;\n",
              "  }\n",
              "\n",
              "  .colab-df-quickchart {\n",
              "    background-color: var(--bg-color);\n",
              "    border: none;\n",
              "    border-radius: 50%;\n",
              "    cursor: pointer;\n",
              "    display: none;\n",
              "    fill: var(--fill-color);\n",
              "    height: 32px;\n",
              "    padding: 0;\n",
              "    width: 32px;\n",
              "  }\n",
              "\n",
              "  .colab-df-quickchart:hover {\n",
              "    background-color: var(--hover-bg-color);\n",
              "    box-shadow: 0 1px 2px rgba(60, 64, 67, 0.3), 0 1px 3px 1px rgba(60, 64, 67, 0.15);\n",
              "    fill: var(--button-hover-fill-color);\n",
              "  }\n",
              "\n",
              "  .colab-df-quickchart-complete:disabled,\n",
              "  .colab-df-quickchart-complete:disabled:hover {\n",
              "    background-color: var(--disabled-bg-color);\n",
              "    fill: var(--disabled-fill-color);\n",
              "    box-shadow: none;\n",
              "  }\n",
              "\n",
              "  .colab-df-spinner {\n",
              "    border: 2px solid var(--fill-color);\n",
              "    border-color: transparent;\n",
              "    border-bottom-color: var(--fill-color);\n",
              "    animation:\n",
              "      spin 1s steps(1) infinite;\n",
              "  }\n",
              "\n",
              "  @keyframes spin {\n",
              "    0% {\n",
              "      border-color: transparent;\n",
              "      border-bottom-color: var(--fill-color);\n",
              "      border-left-color: var(--fill-color);\n",
              "    }\n",
              "    20% {\n",
              "      border-color: transparent;\n",
              "      border-left-color: var(--fill-color);\n",
              "      border-top-color: var(--fill-color);\n",
              "    }\n",
              "    30% {\n",
              "      border-color: transparent;\n",
              "      border-left-color: var(--fill-color);\n",
              "      border-top-color: var(--fill-color);\n",
              "      border-right-color: var(--fill-color);\n",
              "    }\n",
              "    40% {\n",
              "      border-color: transparent;\n",
              "      border-right-color: var(--fill-color);\n",
              "      border-top-color: var(--fill-color);\n",
              "    }\n",
              "    60% {\n",
              "      border-color: transparent;\n",
              "      border-right-color: var(--fill-color);\n",
              "    }\n",
              "    80% {\n",
              "      border-color: transparent;\n",
              "      border-right-color: var(--fill-color);\n",
              "      border-bottom-color: var(--fill-color);\n",
              "    }\n",
              "    90% {\n",
              "      border-color: transparent;\n",
              "      border-bottom-color: var(--fill-color);\n",
              "    }\n",
              "  }\n",
              "</style>\n",
              "\n",
              "  <script>\n",
              "    async function quickchart(key) {\n",
              "      const quickchartButtonEl =\n",
              "        document.querySelector('#' + key + ' button');\n",
              "      quickchartButtonEl.disabled = true;  // To prevent multiple clicks.\n",
              "      quickchartButtonEl.classList.add('colab-df-spinner');\n",
              "      try {\n",
              "        const charts = await google.colab.kernel.invokeFunction(\n",
              "            'suggestCharts', [key], {});\n",
              "      } catch (error) {\n",
              "        console.error('Error during call to suggestCharts:', error);\n",
              "      }\n",
              "      quickchartButtonEl.classList.remove('colab-df-spinner');\n",
              "      quickchartButtonEl.classList.add('colab-df-quickchart-complete');\n",
              "    }\n",
              "    (() => {\n",
              "      let quickchartButtonEl =\n",
              "        document.querySelector('#df-a0b1b699-d4c6-4aec-a615-140e36b3be14 button');\n",
              "      quickchartButtonEl.style.display =\n",
              "        google.colab.kernel.accessAllowed ? 'block' : 'none';\n",
              "    })();\n",
              "  </script>\n",
              "</div>\n",
              "    </div>\n",
              "  </div>\n"
            ],
            "text/plain": [
              "   Class     File_name                                          File_path  \\\n",
              "0  metal   metal68.jpg  /content/Garbage classification/metal/metal68.jpg   \n",
              "1  metal   metal66.jpg  /content/Garbage classification/metal/metal66.jpg   \n",
              "2  metal  metal336.jpg  /content/Garbage classification/metal/metal336...   \n",
              "3  metal  metal150.jpg  /content/Garbage classification/metal/metal150...   \n",
              "4  metal  metal242.jpg  /content/Garbage classification/metal/metal242...   \n",
              "\n",
              "   Image_width  Image_height Image_format Image_channel  cardboard  glass  \\\n",
              "0          225           225         JPEG           RGB          0      0   \n",
              "1          512           384         JPEG           RGB          0      0   \n",
              "2          512           384         JPEG           RGB          0      0   \n",
              "3          512           384         JPEG           RGB          0      0   \n",
              "4          512           384         JPEG           RGB          0      0   \n",
              "\n",
              "   metal  paper  plastic  trash  \n",
              "0      1      0        0      0  \n",
              "1      1      0        0      0  \n",
              "2      1      0        0      0  \n",
              "3      1      0        0      0  \n",
              "4      1      0        0      0  "
            ]
          },
          "execution_count": 26,
          "metadata": {},
          "output_type": "execute_result"
        }
      ],
      "source": [
        "one_hot_encoded = pd.get_dummies(df.Class, dtype=int)\n",
        "df = pd.concat([df, one_hot_encoded] , axis=1)\n",
        "\n",
        "df.head()"
      ]
    },
    {
      "cell_type": "markdown",
      "metadata": {
        "id": "dPo-URn-k4Jq"
      },
      "source": [
        "We can drop the columns that we will not use in our model"
      ]
    },
    {
      "cell_type": "code",
      "execution_count": 27,
      "metadata": {
        "colab": {
          "base_uri": "https://localhost:8080/",
          "height": 206
        },
        "id": "geoFHrtHk4Jq",
        "outputId": "3e60412c-54d9-4dcf-cc1c-949be3956c84"
      },
      "outputs": [
        {
          "data": {
            "application/vnd.google.colaboratory.intrinsic+json": {
              "summary": "{\n  \"name\": \"df\",\n  \"rows\": 6472,\n  \"fields\": [\n    {\n      \"column\": \"Class\",\n      \"properties\": {\n        \"dtype\": \"category\",\n        \"num_unique_values\": 6,\n        \"samples\": [\n          \"metal\",\n          \"cardboard\",\n          \"glass\"\n        ],\n        \"semantic_type\": \"\",\n        \"description\": \"\"\n      }\n    },\n    {\n      \"column\": \"File_name\",\n      \"properties\": {\n        \"dtype\": \"string\",\n        \"num_unique_values\": 6472,\n        \"samples\": [\n          \"plastic650.jpg\",\n          \"paper472.jpg\",\n          \"brown-glass162.jpg\"\n        ],\n        \"semantic_type\": \"\",\n        \"description\": \"\"\n      }\n    },\n    {\n      \"column\": \"File_path\",\n      \"properties\": {\n        \"dtype\": \"string\",\n        \"num_unique_values\": 6472,\n        \"samples\": [\n          \"/content/Garbage classification/plastic/plastic650.jpg\",\n          \"/content/Garbage classification/paper/paper472.jpg\",\n          \"/content/Garbage classification/glass/brown-glass162.jpg\"\n        ],\n        \"semantic_type\": \"\",\n        \"description\": \"\"\n      }\n    },\n    {\n      \"column\": \"cardboard\",\n      \"properties\": {\n        \"dtype\": \"number\",\n        \"std\": 0,\n        \"min\": 0,\n        \"max\": 1,\n        \"num_unique_values\": 2,\n        \"samples\": [\n          1,\n          0\n        ],\n        \"semantic_type\": \"\",\n        \"description\": \"\"\n      }\n    },\n    {\n      \"column\": \"glass\",\n      \"properties\": {\n        \"dtype\": \"number\",\n        \"std\": 0,\n        \"min\": 0,\n        \"max\": 1,\n        \"num_unique_values\": 2,\n        \"samples\": [\n          1,\n          0\n        ],\n        \"semantic_type\": \"\",\n        \"description\": \"\"\n      }\n    },\n    {\n      \"column\": \"metal\",\n      \"properties\": {\n        \"dtype\": \"number\",\n        \"std\": 0,\n        \"min\": 0,\n        \"max\": 1,\n        \"num_unique_values\": 2,\n        \"samples\": [\n          0,\n          1\n        ],\n        \"semantic_type\": \"\",\n        \"description\": \"\"\n      }\n    },\n    {\n      \"column\": \"paper\",\n      \"properties\": {\n        \"dtype\": \"number\",\n        \"std\": 0,\n        \"min\": 0,\n        \"max\": 1,\n        \"num_unique_values\": 2,\n        \"samples\": [\n          1,\n          0\n        ],\n        \"semantic_type\": \"\",\n        \"description\": \"\"\n      }\n    },\n    {\n      \"column\": \"plastic\",\n      \"properties\": {\n        \"dtype\": \"number\",\n        \"std\": 0,\n        \"min\": 0,\n        \"max\": 1,\n        \"num_unique_values\": 2,\n        \"samples\": [\n          1,\n          0\n        ],\n        \"semantic_type\": \"\",\n        \"description\": \"\"\n      }\n    },\n    {\n      \"column\": \"trash\",\n      \"properties\": {\n        \"dtype\": \"number\",\n        \"std\": 0,\n        \"min\": 0,\n        \"max\": 1,\n        \"num_unique_values\": 2,\n        \"samples\": [\n          1,\n          0\n        ],\n        \"semantic_type\": \"\",\n        \"description\": \"\"\n      }\n    }\n  ]\n}",
              "type": "dataframe",
              "variable_name": "df"
            },
            "text/html": [
              "\n",
              "  <div id=\"df-9d8e193e-5139-40e0-a164-91534715b94e\" class=\"colab-df-container\">\n",
              "    <div>\n",
              "<style scoped>\n",
              "    .dataframe tbody tr th:only-of-type {\n",
              "        vertical-align: middle;\n",
              "    }\n",
              "\n",
              "    .dataframe tbody tr th {\n",
              "        vertical-align: top;\n",
              "    }\n",
              "\n",
              "    .dataframe thead th {\n",
              "        text-align: right;\n",
              "    }\n",
              "</style>\n",
              "<table border=\"1\" class=\"dataframe\">\n",
              "  <thead>\n",
              "    <tr style=\"text-align: right;\">\n",
              "      <th></th>\n",
              "      <th>Class</th>\n",
              "      <th>File_name</th>\n",
              "      <th>File_path</th>\n",
              "      <th>cardboard</th>\n",
              "      <th>glass</th>\n",
              "      <th>metal</th>\n",
              "      <th>paper</th>\n",
              "      <th>plastic</th>\n",
              "      <th>trash</th>\n",
              "    </tr>\n",
              "  </thead>\n",
              "  <tbody>\n",
              "    <tr>\n",
              "      <th>0</th>\n",
              "      <td>metal</td>\n",
              "      <td>metal68.jpg</td>\n",
              "      <td>/content/Garbage classification/metal/metal68.jpg</td>\n",
              "      <td>0</td>\n",
              "      <td>0</td>\n",
              "      <td>1</td>\n",
              "      <td>0</td>\n",
              "      <td>0</td>\n",
              "      <td>0</td>\n",
              "    </tr>\n",
              "    <tr>\n",
              "      <th>1</th>\n",
              "      <td>metal</td>\n",
              "      <td>metal66.jpg</td>\n",
              "      <td>/content/Garbage classification/metal/metal66.jpg</td>\n",
              "      <td>0</td>\n",
              "      <td>0</td>\n",
              "      <td>1</td>\n",
              "      <td>0</td>\n",
              "      <td>0</td>\n",
              "      <td>0</td>\n",
              "    </tr>\n",
              "    <tr>\n",
              "      <th>2</th>\n",
              "      <td>metal</td>\n",
              "      <td>metal336.jpg</td>\n",
              "      <td>/content/Garbage classification/metal/metal336...</td>\n",
              "      <td>0</td>\n",
              "      <td>0</td>\n",
              "      <td>1</td>\n",
              "      <td>0</td>\n",
              "      <td>0</td>\n",
              "      <td>0</td>\n",
              "    </tr>\n",
              "    <tr>\n",
              "      <th>3</th>\n",
              "      <td>metal</td>\n",
              "      <td>metal150.jpg</td>\n",
              "      <td>/content/Garbage classification/metal/metal150...</td>\n",
              "      <td>0</td>\n",
              "      <td>0</td>\n",
              "      <td>1</td>\n",
              "      <td>0</td>\n",
              "      <td>0</td>\n",
              "      <td>0</td>\n",
              "    </tr>\n",
              "    <tr>\n",
              "      <th>4</th>\n",
              "      <td>metal</td>\n",
              "      <td>metal242.jpg</td>\n",
              "      <td>/content/Garbage classification/metal/metal242...</td>\n",
              "      <td>0</td>\n",
              "      <td>0</td>\n",
              "      <td>1</td>\n",
              "      <td>0</td>\n",
              "      <td>0</td>\n",
              "      <td>0</td>\n",
              "    </tr>\n",
              "  </tbody>\n",
              "</table>\n",
              "</div>\n",
              "    <div class=\"colab-df-buttons\">\n",
              "\n",
              "  <div class=\"colab-df-container\">\n",
              "    <button class=\"colab-df-convert\" onclick=\"convertToInteractive('df-9d8e193e-5139-40e0-a164-91534715b94e')\"\n",
              "            title=\"Convert this dataframe to an interactive table.\"\n",
              "            style=\"display:none;\">\n",
              "\n",
              "  <svg xmlns=\"http://www.w3.org/2000/svg\" height=\"24px\" viewBox=\"0 -960 960 960\">\n",
              "    <path d=\"M120-120v-720h720v720H120Zm60-500h600v-160H180v160Zm220 220h160v-160H400v160Zm0 220h160v-160H400v160ZM180-400h160v-160H180v160Zm440 0h160v-160H620v160ZM180-180h160v-160H180v160Zm440 0h160v-160H620v160Z\"/>\n",
              "  </svg>\n",
              "    </button>\n",
              "\n",
              "  <style>\n",
              "    .colab-df-container {\n",
              "      display:flex;\n",
              "      gap: 12px;\n",
              "    }\n",
              "\n",
              "    .colab-df-convert {\n",
              "      background-color: #E8F0FE;\n",
              "      border: none;\n",
              "      border-radius: 50%;\n",
              "      cursor: pointer;\n",
              "      display: none;\n",
              "      fill: #1967D2;\n",
              "      height: 32px;\n",
              "      padding: 0 0 0 0;\n",
              "      width: 32px;\n",
              "    }\n",
              "\n",
              "    .colab-df-convert:hover {\n",
              "      background-color: #E2EBFA;\n",
              "      box-shadow: 0px 1px 2px rgba(60, 64, 67, 0.3), 0px 1px 3px 1px rgba(60, 64, 67, 0.15);\n",
              "      fill: #174EA6;\n",
              "    }\n",
              "\n",
              "    .colab-df-buttons div {\n",
              "      margin-bottom: 4px;\n",
              "    }\n",
              "\n",
              "    [theme=dark] .colab-df-convert {\n",
              "      background-color: #3B4455;\n",
              "      fill: #D2E3FC;\n",
              "    }\n",
              "\n",
              "    [theme=dark] .colab-df-convert:hover {\n",
              "      background-color: #434B5C;\n",
              "      box-shadow: 0px 1px 3px 1px rgba(0, 0, 0, 0.15);\n",
              "      filter: drop-shadow(0px 1px 2px rgba(0, 0, 0, 0.3));\n",
              "      fill: #FFFFFF;\n",
              "    }\n",
              "  </style>\n",
              "\n",
              "    <script>\n",
              "      const buttonEl =\n",
              "        document.querySelector('#df-9d8e193e-5139-40e0-a164-91534715b94e button.colab-df-convert');\n",
              "      buttonEl.style.display =\n",
              "        google.colab.kernel.accessAllowed ? 'block' : 'none';\n",
              "\n",
              "      async function convertToInteractive(key) {\n",
              "        const element = document.querySelector('#df-9d8e193e-5139-40e0-a164-91534715b94e');\n",
              "        const dataTable =\n",
              "          await google.colab.kernel.invokeFunction('convertToInteractive',\n",
              "                                                    [key], {});\n",
              "        if (!dataTable) return;\n",
              "\n",
              "        const docLinkHtml = 'Like what you see? Visit the ' +\n",
              "          '<a target=\"_blank\" href=https://colab.research.google.com/notebooks/data_table.ipynb>data table notebook</a>'\n",
              "          + ' to learn more about interactive tables.';\n",
              "        element.innerHTML = '';\n",
              "        dataTable['output_type'] = 'display_data';\n",
              "        await google.colab.output.renderOutput(dataTable, element);\n",
              "        const docLink = document.createElement('div');\n",
              "        docLink.innerHTML = docLinkHtml;\n",
              "        element.appendChild(docLink);\n",
              "      }\n",
              "    </script>\n",
              "  </div>\n",
              "\n",
              "\n",
              "<div id=\"df-3b3df20e-6bbc-4251-b465-c46099d0f961\">\n",
              "  <button class=\"colab-df-quickchart\" onclick=\"quickchart('df-3b3df20e-6bbc-4251-b465-c46099d0f961')\"\n",
              "            title=\"Suggest charts\"\n",
              "            style=\"display:none;\">\n",
              "\n",
              "<svg xmlns=\"http://www.w3.org/2000/svg\" height=\"24px\"viewBox=\"0 0 24 24\"\n",
              "     width=\"24px\">\n",
              "    <g>\n",
              "        <path d=\"M19 3H5c-1.1 0-2 .9-2 2v14c0 1.1.9 2 2 2h14c1.1 0 2-.9 2-2V5c0-1.1-.9-2-2-2zM9 17H7v-7h2v7zm4 0h-2V7h2v10zm4 0h-2v-4h2v4z\"/>\n",
              "    </g>\n",
              "</svg>\n",
              "  </button>\n",
              "\n",
              "<style>\n",
              "  .colab-df-quickchart {\n",
              "      --bg-color: #E8F0FE;\n",
              "      --fill-color: #1967D2;\n",
              "      --hover-bg-color: #E2EBFA;\n",
              "      --hover-fill-color: #174EA6;\n",
              "      --disabled-fill-color: #AAA;\n",
              "      --disabled-bg-color: #DDD;\n",
              "  }\n",
              "\n",
              "  [theme=dark] .colab-df-quickchart {\n",
              "      --bg-color: #3B4455;\n",
              "      --fill-color: #D2E3FC;\n",
              "      --hover-bg-color: #434B5C;\n",
              "      --hover-fill-color: #FFFFFF;\n",
              "      --disabled-bg-color: #3B4455;\n",
              "      --disabled-fill-color: #666;\n",
              "  }\n",
              "\n",
              "  .colab-df-quickchart {\n",
              "    background-color: var(--bg-color);\n",
              "    border: none;\n",
              "    border-radius: 50%;\n",
              "    cursor: pointer;\n",
              "    display: none;\n",
              "    fill: var(--fill-color);\n",
              "    height: 32px;\n",
              "    padding: 0;\n",
              "    width: 32px;\n",
              "  }\n",
              "\n",
              "  .colab-df-quickchart:hover {\n",
              "    background-color: var(--hover-bg-color);\n",
              "    box-shadow: 0 1px 2px rgba(60, 64, 67, 0.3), 0 1px 3px 1px rgba(60, 64, 67, 0.15);\n",
              "    fill: var(--button-hover-fill-color);\n",
              "  }\n",
              "\n",
              "  .colab-df-quickchart-complete:disabled,\n",
              "  .colab-df-quickchart-complete:disabled:hover {\n",
              "    background-color: var(--disabled-bg-color);\n",
              "    fill: var(--disabled-fill-color);\n",
              "    box-shadow: none;\n",
              "  }\n",
              "\n",
              "  .colab-df-spinner {\n",
              "    border: 2px solid var(--fill-color);\n",
              "    border-color: transparent;\n",
              "    border-bottom-color: var(--fill-color);\n",
              "    animation:\n",
              "      spin 1s steps(1) infinite;\n",
              "  }\n",
              "\n",
              "  @keyframes spin {\n",
              "    0% {\n",
              "      border-color: transparent;\n",
              "      border-bottom-color: var(--fill-color);\n",
              "      border-left-color: var(--fill-color);\n",
              "    }\n",
              "    20% {\n",
              "      border-color: transparent;\n",
              "      border-left-color: var(--fill-color);\n",
              "      border-top-color: var(--fill-color);\n",
              "    }\n",
              "    30% {\n",
              "      border-color: transparent;\n",
              "      border-left-color: var(--fill-color);\n",
              "      border-top-color: var(--fill-color);\n",
              "      border-right-color: var(--fill-color);\n",
              "    }\n",
              "    40% {\n",
              "      border-color: transparent;\n",
              "      border-right-color: var(--fill-color);\n",
              "      border-top-color: var(--fill-color);\n",
              "    }\n",
              "    60% {\n",
              "      border-color: transparent;\n",
              "      border-right-color: var(--fill-color);\n",
              "    }\n",
              "    80% {\n",
              "      border-color: transparent;\n",
              "      border-right-color: var(--fill-color);\n",
              "      border-bottom-color: var(--fill-color);\n",
              "    }\n",
              "    90% {\n",
              "      border-color: transparent;\n",
              "      border-bottom-color: var(--fill-color);\n",
              "    }\n",
              "  }\n",
              "</style>\n",
              "\n",
              "  <script>\n",
              "    async function quickchart(key) {\n",
              "      const quickchartButtonEl =\n",
              "        document.querySelector('#' + key + ' button');\n",
              "      quickchartButtonEl.disabled = true;  // To prevent multiple clicks.\n",
              "      quickchartButtonEl.classList.add('colab-df-spinner');\n",
              "      try {\n",
              "        const charts = await google.colab.kernel.invokeFunction(\n",
              "            'suggestCharts', [key], {});\n",
              "      } catch (error) {\n",
              "        console.error('Error during call to suggestCharts:', error);\n",
              "      }\n",
              "      quickchartButtonEl.classList.remove('colab-df-spinner');\n",
              "      quickchartButtonEl.classList.add('colab-df-quickchart-complete');\n",
              "    }\n",
              "    (() => {\n",
              "      let quickchartButtonEl =\n",
              "        document.querySelector('#df-3b3df20e-6bbc-4251-b465-c46099d0f961 button');\n",
              "      quickchartButtonEl.style.display =\n",
              "        google.colab.kernel.accessAllowed ? 'block' : 'none';\n",
              "    })();\n",
              "  </script>\n",
              "</div>\n",
              "    </div>\n",
              "  </div>\n"
            ],
            "text/plain": [
              "   Class     File_name                                          File_path  \\\n",
              "0  metal   metal68.jpg  /content/Garbage classification/metal/metal68.jpg   \n",
              "1  metal   metal66.jpg  /content/Garbage classification/metal/metal66.jpg   \n",
              "2  metal  metal336.jpg  /content/Garbage classification/metal/metal336...   \n",
              "3  metal  metal150.jpg  /content/Garbage classification/metal/metal150...   \n",
              "4  metal  metal242.jpg  /content/Garbage classification/metal/metal242...   \n",
              "\n",
              "   cardboard  glass  metal  paper  plastic  trash  \n",
              "0          0      0      1      0        0      0  \n",
              "1          0      0      1      0        0      0  \n",
              "2          0      0      1      0        0      0  \n",
              "3          0      0      1      0        0      0  \n",
              "4          0      0      1      0        0      0  "
            ]
          },
          "execution_count": 27,
          "metadata": {},
          "output_type": "execute_result"
        }
      ],
      "source": [
        "df = df.drop(columns=['Image_width', 'Image_height', 'Image_format', 'Image_channel'])\n",
        "\n",
        "df.head()"
      ]
    },
    {
      "cell_type": "markdown",
      "metadata": {
        "id": "eJ8gS4C8k4Jq"
      },
      "source": [
        "## Splitting the data"
      ]
    },
    {
      "cell_type": "markdown",
      "metadata": {
        "id": "OVJWp8THk4Jq"
      },
      "source": [
        "Now we want to split our data into train, validation and test.\n",
        "\n",
        "We will split the data evenly based on the class with the method from Helpers section."
      ]
    },
    {
      "cell_type": "code",
      "execution_count": 28,
      "metadata": {
        "colab": {
          "base_uri": "https://localhost:8080/"
        },
        "id": "A6o_Q52kk4Jq",
        "outputId": "a29233cf-1421-45a3-de07-8ecd889aaf34"
      },
      "outputs": [
        {
          "data": {
            "text/plain": [
              "(Class\n",
              " glass        0.310596\n",
              " paper        0.161810\n",
              " cardboard    0.137748\n",
              " plastic      0.133554\n",
              " metal        0.131126\n",
              " trash        0.125166\n",
              " Name: proportion, dtype: float64,\n",
              " Class\n",
              " glass        0.310665\n",
              " paper        0.161515\n",
              " cardboard    0.137558\n",
              " plastic      0.133694\n",
              " metal        0.131376\n",
              " trash        0.125193\n",
              " Name: proportion, dtype: float64,\n",
              " Class\n",
              " glass        0.310185\n",
              " paper        0.162037\n",
              " cardboard    0.137346\n",
              " plastic      0.134259\n",
              " metal        0.131173\n",
              " trash        0.125000\n",
              " Name: proportion, dtype: float64)"
            ]
          },
          "execution_count": 28,
          "metadata": {},
          "output_type": "execute_result"
        }
      ],
      "source": [
        "training_df, validation_df, test_df = split_data_evenly(df, 'Class')\n",
        "\n",
        "training_df.Class.value_counts(normalize=True), validation_df.Class.value_counts(normalize=True), test_df.Class.value_counts(normalize=True)"
      ]
    },
    {
      "cell_type": "markdown",
      "metadata": {
        "id": "JcaX35Blk4Jq"
      },
      "source": [
        "Then we can reset our index for our new dataframes"
      ]
    },
    {
      "cell_type": "code",
      "execution_count": 29,
      "metadata": {
        "id": "I67IVOrYk4Jq"
      },
      "outputs": [],
      "source": [
        "training_df.reset_index(drop=True,inplace=True)\n",
        "validation_df.reset_index(drop=True, inplace=True)\n",
        "test_df.reset_index(drop=True,inplace=True)"
      ]
    },
    {
      "cell_type": "markdown",
      "metadata": {
        "id": "Iwizpbmlk4Jq"
      },
      "source": [
        "## Classification models"
      ]
    },
    {
      "cell_type": "markdown",
      "metadata": {
        "id": "fiFjBagkk4Jq"
      },
      "source": [
        "First we need to decide what image size we want to use."
      ]
    },
    {
      "cell_type": "markdown",
      "metadata": {
        "id": "knXFZxgbk4Jr"
      },
      "source": [
        "Then we can define the layers for our model.\n",
        "\n",
        "- the input will be of our image size(height and width are the same) and the number of color channels 3(RGB)\n",
        "- the output will be a single value that should be between 0 and 1. That is why *sigmoid* function is used."
      ]
    },
    {
      "cell_type": "code",
      "execution_count": 30,
      "metadata": {
        "id": "8jgWEbtZk4Jr"
      },
      "outputs": [],
      "source": [
        "pre_processing_data = Sequential([\n",
        "    RandomFlip(\"horizontal\", input_shape=(image_size, image_size, 3)),\n",
        "    RandomFlip(\"vertical\"),\n",
        "    RandomRotation(0.2),\n",
        "    RandomZoom(0.2),\n",
        "])"
      ]
    },
    {
      "cell_type": "code",
      "execution_count": 31,
      "metadata": {
        "id": "xXHTIqFrk4Jr"
      },
      "outputs": [],
      "source": [
        "layers = [\n",
        "    pre_processing_data,\n",
        "    Conv2D(16, (3, 3), padding='same', activation='relu',input_shape=(image_size, image_size, 3)),  # Input\n",
        "    MaxPooling2D((2, 2)),\n",
        "    Conv2D(16, (3, 3), padding='same', activation='relu'),\n",
        "    MaxPooling2D((2, 2)),\n",
        "    Conv2D(32, (3, 3), padding='same', activation='relu'),\n",
        "    MaxPooling2D((2, 2)),\n",
        "    Conv2D(32, (3, 3), padding='same', activation='relu'),\n",
        "    MaxPooling2D((2, 2)),\n",
        "    Conv2D(64, (3, 3), padding='same', activation='relu'),\n",
        "    MaxPooling2D((2, 2)),\n",
        "    Conv2D(128, (3, 3), padding='same', activation='relu'),\n",
        "    MaxPooling2D((2, 2)),\n",
        "    Flatten(),\n",
        "    Dense(1024, activation='relu'),\n",
        "    Dense(1, activation = 'sigmoid')\n",
        "    ]\n"
      ]
    },
    {
      "cell_type": "markdown",
      "metadata": {
        "id": "xvxeeSKzk4Jr"
      },
      "source": [
        "## Cardboard model - SMOTENC resampler"
      ]
    },
    {
      "cell_type": "markdown",
      "metadata": {
        "id": "3Y6y454Lk4Jr"
      },
      "source": [
        "Because we are having an imbalanced dataset between the cardboard and the other classes, we need to use a method to fix this.\n",
        "\n",
        "We chose SMOTE resampler for this case."
      ]
    },
    {
      "cell_type": "markdown",
      "metadata": {
        "id": "IkVB3pHhk4Jr"
      },
      "source": [
        "### SMOTENC resampler"
      ]
    },
    {
      "cell_type": "markdown",
      "metadata": {
        "id": "BNnzOzWYk4Jr"
      },
      "source": [
        "SMOTENC stands for Synthetic Minority Over-sampling Technique for Nominal and Continuous features. It is an extension of the SMOTE algorithm, which is used for oversampling in imbalanced classification problems. SMOTENC is specifically designed to handle datasets with both numerical (continuous) and categorical (nominal) features."
      ]
    },
    {
      "cell_type": "code",
      "execution_count": 32,
      "metadata": {
        "id": "1xUZDlqPk4Jr"
      },
      "outputs": [],
      "source": [
        "from imblearn.over_sampling import SMOTENC\n",
        "\n",
        "def oversample_on_class(dataframe, column_name) -> pd.DataFrame:\n",
        "    non_numeric_columns_index = dataframe.select_dtypes(exclude='number').columns\n",
        "    non_numeric_columns_index_list = dataframe.columns.get_indexer(non_numeric_columns_index).tolist()\n",
        "\n",
        "    # Define SMOTENC sampler\n",
        "    sm = SMOTENC(categorical_features=non_numeric_columns_index_list, random_state=42, sampling_strategy='minority', k_neighbors=100)\n",
        "\n",
        "    # Separate features and target\n",
        "    X = dataframe.drop([column_name], axis=1)  # Features\n",
        "    y = dataframe[column_name]  # Target column you want to oversample\n",
        "\n",
        "    # Perform oversampling using SMOTENC\n",
        "    oversampled_X, oversampled_y = sm.fit_resample(X, y)\n",
        "\n",
        "    # Convert oversampled data to DataFrame\n",
        "    oversampled_df = pd.DataFrame(oversampled_X, columns=X.columns)\n",
        "    oversampled_df[column_name] = oversampled_y\n",
        "\n",
        "    return oversampled_df"
      ]
    },
    {
      "cell_type": "code",
      "execution_count": 33,
      "metadata": {
        "id": "jN9LwiBxk4Jr"
      },
      "outputs": [],
      "source": [
        "cardboard_training_df = oversample_on_class(training_df, 'cardboard')"
      ]
    },
    {
      "cell_type": "markdown",
      "metadata": {
        "id": "AargeDkck4Jr"
      },
      "source": [
        "We can check that we have duplicated data in our oversampled dataframe"
      ]
    },
    {
      "cell_type": "code",
      "execution_count": 34,
      "metadata": {
        "colab": {
          "base_uri": "https://localhost:8080/"
        },
        "id": "fmQobEbgk4Jr",
        "outputId": "d8ceb780-bae1-4509-f2f2-f967741780a5"
      },
      "outputs": [
        {
          "data": {
            "text/plain": [
              "File_name\n",
              "cardboard814.jpg      48\n",
              "cardboard710.jpg      48\n",
              "cardboard51.jpg       46\n",
              "cardboard7.jpg        46\n",
              "cardboard110.jpg      44\n",
              "                      ..\n",
              "plastic504.jpg         1\n",
              "metal306.jpg           1\n",
              "trash29 (2).jpg        1\n",
              "white-glass695.jpg     1\n",
              "plastic342.jpg         1\n",
              "Name: count, Length: 4530, dtype: int64"
            ]
          },
          "execution_count": 34,
          "metadata": {},
          "output_type": "execute_result"
        }
      ],
      "source": [
        "cardboard_training_df.File_name.value_counts()"
      ]
    },
    {
      "cell_type": "markdown",
      "metadata": {
        "id": "1pnMn2tZk4Js"
      },
      "source": [
        "We will generate our batches of data that we will use in training our model\n",
        "\n",
        "For this we will use a method that we created in the Helpers area"
      ]
    },
    {
      "cell_type": "code",
      "execution_count": 35,
      "metadata": {
        "id": "ul4yAAAzk4Js"
      },
      "outputs": [],
      "source": [
        "cardboard_training_ds = load_dataset(cardboard_training_df, 'cardboard')\n",
        "cardboard_validation_ds = load_dataset(validation_df, 'cardboard')"
      ]
    },
    {
      "cell_type": "markdown",
      "metadata": {
        "id": "Q2fq7k5wk4Js"
      },
      "source": [
        "We will create our model and compile it"
      ]
    },
    {
      "cell_type": "code",
      "execution_count": 36,
      "metadata": {
        "id": "le_IyBRik4Js"
      },
      "outputs": [],
      "source": [
        "cardboard_model = Sequential(layers)\n",
        "compile_model(cardboard_model)"
      ]
    },
    {
      "cell_type": "markdown",
      "metadata": {
        "id": "12yA8WmHk4Js"
      },
      "source": [
        "Then we are ready to train the model"
      ]
    },
    {
      "cell_type": "code",
      "execution_count": 37,
      "metadata": {
        "colab": {
          "base_uri": "https://localhost:8080/"
        },
        "id": "l2v-RFEUk4Js",
        "outputId": "5b669302-abb2-45c0-d2b4-8015187e77ce"
      },
      "outputs": [
        {
          "name": "stdout",
          "output_type": "stream",
          "text": [
            "Epoch 1/50\n",
            "    245/Unknown - 21s 56ms/step - loss: 0.2909 - precision: 0.9003 - recall: 0.8689 - accuracy: 0.8863\n",
            "Epoch 1: val_accuracy improved from -inf to 0.94436, saving model to ../models/cardboard_model.h5\n",
            "245/245 [==============================] - 23s 67ms/step - loss: 0.2909 - precision: 0.9003 - recall: 0.8689 - accuracy: 0.8863 - val_loss: 0.1740 - val_precision: 0.7624 - val_recall: 0.8652 - val_accuracy: 0.9444\n",
            "Epoch 2/50\n",
            "243/245 [============================>.] - ETA: 0s - loss: 0.2353 - precision: 0.9107 - recall: 0.9166 - accuracy: 0.9135\n",
            "Epoch 2: val_accuracy did not improve from 0.94436\n",
            "245/245 [==============================] - 7s 28ms/step - loss: 0.2346 - precision: 0.9110 - recall: 0.9171 - accuracy: 0.9137 - val_loss: 0.1882 - val_precision: 0.7368 - val_recall: 0.8652 - val_accuracy: 0.9389\n",
            "Epoch 3/50\n",
            "243/245 [============================>.] - ETA: 0s - loss: 0.1923 - precision: 0.9315 - recall: 0.9377 - accuracy: 0.9344\n",
            "Epoch 3: val_accuracy did not improve from 0.94436\n",
            "245/245 [==============================] - 7s 28ms/step - loss: 0.1917 - precision: 0.9318 - recall: 0.9380 - accuracy: 0.9347 - val_loss: 0.2115 - val_precision: 0.7381 - val_recall: 0.8708 - val_accuracy: 0.9397\n",
            "Epoch 4/50\n",
            "243/245 [============================>.] - ETA: 0s - loss: 0.1801 - precision: 0.9381 - recall: 0.9408 - accuracy: 0.9394\n",
            "Epoch 4: val_accuracy did not improve from 0.94436\n",
            "245/245 [==============================] - 7s 28ms/step - loss: 0.1796 - precision: 0.9382 - recall: 0.9411 - accuracy: 0.9396 - val_loss: 0.2230 - val_precision: 0.7277 - val_recall: 0.8708 - val_accuracy: 0.9374\n",
            "Epoch 5/50\n",
            "243/245 [============================>.] - ETA: 0s - loss: 0.1728 - precision: 0.9414 - recall: 0.9392 - accuracy: 0.9405\n",
            "Epoch 5: val_accuracy did not improve from 0.94436\n",
            "245/245 [==============================] - 7s 28ms/step - loss: 0.1724 - precision: 0.9415 - recall: 0.9396 - accuracy: 0.9406 - val_loss: 0.2329 - val_precision: 0.7130 - val_recall: 0.8652 - val_accuracy: 0.9335\n",
            "Epoch 6/50\n",
            "243/245 [============================>.] - ETA: 0s - loss: 0.1665 - precision: 0.9394 - recall: 0.9452 - accuracy: 0.9421\n",
            "Epoch 6: val_accuracy improved from 0.94436 to 0.95518, saving model to ../models/cardboard_model.h5\n",
            "245/245 [==============================] - 7s 28ms/step - loss: 0.1661 - precision: 0.9395 - recall: 0.9455 - accuracy: 0.9423 - val_loss: 0.1606 - val_precision: 0.8158 - val_recall: 0.8708 - val_accuracy: 0.9552\n",
            "Epoch 7/50\n",
            "243/245 [============================>.] - ETA: 0s - loss: 0.1499 - precision: 0.9516 - recall: 0.9470 - accuracy: 0.9495\n",
            "Epoch 7: val_accuracy did not improve from 0.95518\n",
            "245/245 [==============================] - 7s 28ms/step - loss: 0.1494 - precision: 0.9516 - recall: 0.9473 - accuracy: 0.9496 - val_loss: 0.2131 - val_precision: 0.6913 - val_recall: 0.8933 - val_accuracy: 0.9304\n",
            "Epoch 8/50\n",
            "244/245 [============================>.] - ETA: 0s - loss: 0.1364 - precision: 0.9557 - recall: 0.9552 - accuracy: 0.9554\n",
            "Epoch 8: val_accuracy improved from 0.95518 to 0.95750, saving model to ../models/cardboard_model.h5\n",
            "245/245 [==============================] - 7s 28ms/step - loss: 0.1364 - precision: 0.9557 - recall: 0.9552 - accuracy: 0.9555 - val_loss: 0.1538 - val_precision: 0.8324 - val_recall: 0.8652 - val_accuracy: 0.9575\n",
            "Epoch 9/50\n",
            "243/245 [============================>.] - ETA: 0s - loss: 0.1395 - precision: 0.9530 - recall: 0.9493 - accuracy: 0.9513\n",
            "Epoch 9: val_accuracy did not improve from 0.95750\n",
            "245/245 [==============================] - 7s 28ms/step - loss: 0.1393 - precision: 0.9530 - recall: 0.9496 - accuracy: 0.9514 - val_loss: 0.1655 - val_precision: 0.7969 - val_recall: 0.8596 - val_accuracy: 0.9505\n",
            "Epoch 10/50\n",
            "243/245 [============================>.] - ETA: 0s - loss: 0.1279 - precision: 0.9568 - recall: 0.9573 - accuracy: 0.9570\n",
            "Epoch 10: val_accuracy did not improve from 0.95750\n",
            "245/245 [==============================] - 7s 28ms/step - loss: 0.1277 - precision: 0.9568 - recall: 0.9575 - accuracy: 0.9571 - val_loss: 0.1547 - val_precision: 0.7927 - val_recall: 0.8596 - val_accuracy: 0.9498\n",
            "Epoch 11/50\n",
            "244/245 [============================>.] - ETA: 0s - loss: 0.1170 - precision: 0.9597 - recall: 0.9644 - accuracy: 0.9620\n",
            "Epoch 11: val_accuracy improved from 0.95750 to 0.96059, saving model to ../models/cardboard_model.h5\n",
            "245/245 [==============================] - 7s 28ms/step - loss: 0.1169 - precision: 0.9597 - recall: 0.9644 - accuracy: 0.9620 - val_loss: 0.1415 - val_precision: 0.8588 - val_recall: 0.8539 - val_accuracy: 0.9606\n",
            "Epoch 12/50\n",
            "243/245 [============================>.] - ETA: 0s - loss: 0.1183 - precision: 0.9592 - recall: 0.9624 - accuracy: 0.9608\n",
            "Epoch 12: val_accuracy did not improve from 0.96059\n",
            "245/245 [==============================] - 7s 28ms/step - loss: 0.1180 - precision: 0.9592 - recall: 0.9626 - accuracy: 0.9608 - val_loss: 0.1612 - val_precision: 0.7723 - val_recall: 0.8764 - val_accuracy: 0.9474\n",
            "Epoch 13/50\n",
            "244/245 [============================>.] - ETA: 0s - loss: 0.1126 - precision: 0.9648 - recall: 0.9628 - accuracy: 0.9639\n",
            "Epoch 13: val_accuracy improved from 0.96059 to 0.96136, saving model to ../models/cardboard_model.h5\n",
            "245/245 [==============================] - 7s 28ms/step - loss: 0.1126 - precision: 0.9649 - recall: 0.9629 - accuracy: 0.9639 - val_loss: 0.1419 - val_precision: 0.8636 - val_recall: 0.8539 - val_accuracy: 0.9614\n",
            "Epoch 14/50\n",
            "243/245 [============================>.] - ETA: 0s - loss: 0.1050 - precision: 0.9663 - recall: 0.9668 - accuracy: 0.9666\n",
            "Epoch 14: val_accuracy did not improve from 0.96136\n",
            "245/245 [==============================] - 7s 28ms/step - loss: 0.1050 - precision: 0.9660 - recall: 0.9670 - accuracy: 0.9665 - val_loss: 0.2097 - val_precision: 0.6891 - val_recall: 0.9213 - val_accuracy: 0.9320\n",
            "Epoch 15/50\n",
            "243/245 [============================>.] - ETA: 0s - loss: 0.1113 - precision: 0.9620 - recall: 0.9647 - accuracy: 0.9633\n",
            "Epoch 15: val_accuracy did not improve from 0.96136\n",
            "245/245 [==============================] - 7s 27ms/step - loss: 0.1111 - precision: 0.9620 - recall: 0.9649 - accuracy: 0.9634 - val_loss: 0.1423 - val_precision: 0.8298 - val_recall: 0.8764 - val_accuracy: 0.9583\n",
            "Epoch 16/50\n",
            "243/245 [============================>.] - ETA: 0s - loss: 0.1016 - precision: 0.9644 - recall: 0.9683 - accuracy: 0.9663\n",
            "Epoch 16: val_accuracy did not improve from 0.96136\n",
            "245/245 [==============================] - 7s 27ms/step - loss: 0.1014 - precision: 0.9643 - recall: 0.9685 - accuracy: 0.9663 - val_loss: 0.1493 - val_precision: 0.8315 - val_recall: 0.8596 - val_accuracy: 0.9567\n",
            "Epoch 17/50\n",
            "243/245 [============================>.] - ETA: 0s - loss: 0.0958 - precision: 0.9673 - recall: 0.9665 - accuracy: 0.9669\n",
            "Epoch 17: val_accuracy improved from 0.96136 to 0.96522, saving model to ../models/cardboard_model.h5\n",
            "245/245 [==============================] - 7s 28ms/step - loss: 0.0956 - precision: 0.9675 - recall: 0.9667 - accuracy: 0.9671 - val_loss: 0.1376 - val_precision: 0.8889 - val_recall: 0.8539 - val_accuracy: 0.9652\n",
            "Epoch 18/50\n",
            "244/245 [============================>.] - ETA: 0s - loss: 0.1031 - precision: 0.9640 - recall: 0.9662 - accuracy: 0.9650\n",
            "Epoch 18: val_accuracy did not improve from 0.96522\n",
            "245/245 [==============================] - 7s 27ms/step - loss: 0.1031 - precision: 0.9640 - recall: 0.9662 - accuracy: 0.9651 - val_loss: 0.1567 - val_precision: 0.8053 - val_recall: 0.8596 - val_accuracy: 0.9521\n",
            "Epoch 19/50\n",
            "244/245 [============================>.] - ETA: 0s - loss: 0.0881 - precision: 0.9739 - recall: 0.9736 - accuracy: 0.9737\n",
            "Epoch 19: val_accuracy did not improve from 0.96522\n",
            "245/245 [==============================] - 7s 27ms/step - loss: 0.0881 - precision: 0.9739 - recall: 0.9736 - accuracy: 0.9738 - val_loss: 0.1738 - val_precision: 0.7970 - val_recall: 0.8820 - val_accuracy: 0.9529\n",
            "Epoch 20/50\n",
            "243/245 [============================>.] - ETA: 0s - loss: 0.0847 - precision: 0.9742 - recall: 0.9725 - accuracy: 0.9734\n",
            "Epoch 20: val_accuracy did not improve from 0.96522\n",
            "245/245 [==============================] - 7s 27ms/step - loss: 0.0848 - precision: 0.9739 - recall: 0.9726 - accuracy: 0.9732 - val_loss: 0.1619 - val_precision: 0.7889 - val_recall: 0.8820 - val_accuracy: 0.9513\n",
            "Epoch 21/50\n",
            "243/245 [============================>.] - ETA: 0s - loss: 0.1026 - precision: 0.9649 - recall: 0.9683 - accuracy: 0.9666\n",
            "Epoch 21: val_accuracy improved from 0.96522 to 0.96754, saving model to ../models/cardboard_model.h5\n",
            "245/245 [==============================] - 7s 28ms/step - loss: 0.1025 - precision: 0.9648 - recall: 0.9685 - accuracy: 0.9666 - val_loss: 0.1491 - val_precision: 0.8908 - val_recall: 0.8708 - val_accuracy: 0.9675\n",
            "Epoch 22/50\n",
            "244/245 [============================>.] - ETA: 0s - loss: 0.0776 - precision: 0.9756 - recall: 0.9744 - accuracy: 0.9750\n",
            "Epoch 22: val_accuracy improved from 0.96754 to 0.97141, saving model to ../models/cardboard_model.h5\n",
            "245/245 [==============================] - 7s 28ms/step - loss: 0.0775 - precision: 0.9756 - recall: 0.9744 - accuracy: 0.9750 - val_loss: 0.1299 - val_precision: 0.9075 - val_recall: 0.8820 - val_accuracy: 0.9714\n",
            "Epoch 23/50\n",
            "243/245 [============================>.] - ETA: 0s - loss: 0.0777 - precision: 0.9760 - recall: 0.9740 - accuracy: 0.9751\n",
            "Epoch 23: val_accuracy did not improve from 0.97141\n",
            "245/245 [==============================] - 7s 28ms/step - loss: 0.0778 - precision: 0.9759 - recall: 0.9741 - accuracy: 0.9750 - val_loss: 0.1460 - val_precision: 0.8564 - val_recall: 0.8708 - val_accuracy: 0.9621\n",
            "Epoch 24/50\n",
            "243/245 [============================>.] - ETA: 0s - loss: 0.0844 - precision: 0.9712 - recall: 0.9719 - accuracy: 0.9716\n",
            "Epoch 24: val_accuracy did not improve from 0.97141\n",
            "245/245 [==============================] - 7s 28ms/step - loss: 0.0842 - precision: 0.9713 - recall: 0.9721 - accuracy: 0.9717 - val_loss: 0.1712 - val_precision: 0.9351 - val_recall: 0.8090 - val_accuracy: 0.9660\n",
            "Epoch 25/50\n",
            "244/245 [============================>.] - ETA: 0s - loss: 0.0854 - precision: 0.9730 - recall: 0.9708 - accuracy: 0.9720\n",
            "Epoch 25: val_accuracy did not improve from 0.97141\n",
            "245/245 [==============================] - 7s 28ms/step - loss: 0.0855 - precision: 0.9728 - recall: 0.9708 - accuracy: 0.9718 - val_loss: 0.1500 - val_precision: 0.8475 - val_recall: 0.8427 - val_accuracy: 0.9575\n",
            "Epoch 26/50\n",
            "243/245 [============================>.] - ETA: 0s - loss: 0.0840 - precision: 0.9736 - recall: 0.9763 - accuracy: 0.9749\n",
            "Epoch 26: val_accuracy did not improve from 0.97141\n",
            "245/245 [==============================] - 7s 28ms/step - loss: 0.0839 - precision: 0.9735 - recall: 0.9764 - accuracy: 0.9749 - val_loss: 0.1289 - val_precision: 0.9146 - val_recall: 0.8427 - val_accuracy: 0.9675\n",
            "Epoch 27/50\n",
            "243/245 [============================>.] - ETA: 0s - loss: 0.0728 - precision: 0.9794 - recall: 0.9776 - accuracy: 0.9785\n",
            "Epoch 27: val_accuracy did not improve from 0.97141\n",
            "245/245 [==============================] - 7s 28ms/step - loss: 0.0726 - precision: 0.9795 - recall: 0.9777 - accuracy: 0.9786 - val_loss: 0.1379 - val_precision: 0.8820 - val_recall: 0.8820 - val_accuracy: 0.9675\n",
            "Epoch 28/50\n",
            "243/245 [============================>.] - ETA: 0s - loss: 0.0729 - precision: 0.9771 - recall: 0.9789 - accuracy: 0.9780\n",
            "Epoch 28: val_accuracy did not improve from 0.97141\n",
            "245/245 [==============================] - 7s 28ms/step - loss: 0.0728 - precision: 0.9770 - recall: 0.9790 - accuracy: 0.9780 - val_loss: 0.1311 - val_precision: 0.9107 - val_recall: 0.8596 - val_accuracy: 0.9691\n",
            "Epoch 29/50\n",
            "243/245 [============================>.] - ETA: 0s - loss: 0.0724 - precision: 0.9766 - recall: 0.9771 - accuracy: 0.9769\n",
            "Epoch 29: val_accuracy did not improve from 0.97141\n",
            "245/245 [==============================] - 7s 27ms/step - loss: 0.0725 - precision: 0.9765 - recall: 0.9772 - accuracy: 0.9768 - val_loss: 0.1645 - val_precision: 0.8486 - val_recall: 0.8820 - val_accuracy: 0.9621\n",
            "Epoch 30/50\n",
            "244/245 [============================>.] - ETA: 0s - loss: 0.0795 - precision: 0.9729 - recall: 0.9754 - accuracy: 0.9741\n",
            "Epoch 30: val_accuracy did not improve from 0.97141\n",
            "245/245 [==============================] - 7s 28ms/step - loss: 0.0795 - precision: 0.9729 - recall: 0.9754 - accuracy: 0.9741 - val_loss: 0.1578 - val_precision: 0.8041 - val_recall: 0.8764 - val_accuracy: 0.9536\n",
            "Epoch 31/50\n",
            "244/245 [============================>.] - ETA: 0s - loss: 0.0678 - precision: 0.9798 - recall: 0.9795 - accuracy: 0.9796\n",
            "Epoch 31: val_accuracy did not improve from 0.97141\n",
            "245/245 [==============================] - 7s 27ms/step - loss: 0.0677 - precision: 0.9798 - recall: 0.9795 - accuracy: 0.9796 - val_loss: 0.1387 - val_precision: 0.9268 - val_recall: 0.8539 - val_accuracy: 0.9706\n",
            "Epoch 32/50\n",
            "244/245 [============================>.] - ETA: 0s - loss: 0.0814 - precision: 0.9754 - recall: 0.9754 - accuracy: 0.9754\n",
            "Epoch 32: val_accuracy did not improve from 0.97141\n",
            "245/245 [==============================] - 7s 28ms/step - loss: 0.0814 - precision: 0.9752 - recall: 0.9754 - accuracy: 0.9753 - val_loss: 0.1501 - val_precision: 0.8750 - val_recall: 0.8652 - val_accuracy: 0.9645\n",
            "Epoch 33/50\n",
            "244/245 [============================>.] - ETA: 0s - loss: 0.0737 - precision: 0.9792 - recall: 0.9746 - accuracy: 0.9769\n",
            "Epoch 33: val_accuracy did not improve from 0.97141\n",
            "245/245 [==============================] - 7s 27ms/step - loss: 0.0737 - precision: 0.9792 - recall: 0.9747 - accuracy: 0.9770 - val_loss: 0.2026 - val_precision: 0.8245 - val_recall: 0.8708 - val_accuracy: 0.9567\n",
            "Epoch 34/50\n",
            "243/245 [============================>.] - ETA: 0s - loss: 0.0721 - precision: 0.9786 - recall: 0.9773 - accuracy: 0.9780\n",
            "Epoch 34: val_accuracy did not improve from 0.97141\n",
            "245/245 [==============================] - 7s 28ms/step - loss: 0.0720 - precision: 0.9787 - recall: 0.9775 - accuracy: 0.9781 - val_loss: 0.1984 - val_precision: 0.8324 - val_recall: 0.8652 - val_accuracy: 0.9575\n",
            "Epoch 35/50\n",
            "243/245 [============================>.] - ETA: 0s - loss: 0.0715 - precision: 0.9816 - recall: 0.9771 - accuracy: 0.9794\n",
            "Epoch 35: val_accuracy did not improve from 0.97141\n",
            "245/245 [==============================] - 7s 28ms/step - loss: 0.0714 - precision: 0.9815 - recall: 0.9772 - accuracy: 0.9794 - val_loss: 0.1519 - val_precision: 0.8396 - val_recall: 0.8820 - val_accuracy: 0.9606\n",
            "Epoch 36/50\n",
            "243/245 [============================>.] - ETA: 0s - loss: 0.0665 - precision: 0.9811 - recall: 0.9776 - accuracy: 0.9794\n",
            "Epoch 36: val_accuracy did not improve from 0.97141\n",
            "245/245 [==============================] - 7s 28ms/step - loss: 0.0663 - precision: 0.9812 - recall: 0.9777 - accuracy: 0.9795 - val_loss: 0.1489 - val_precision: 0.9187 - val_recall: 0.8258 - val_accuracy: 0.9660\n",
            "Epoch 37/50\n",
            "243/245 [============================>.] - ETA: 0s - loss: 0.0705 - precision: 0.9788 - recall: 0.9768 - accuracy: 0.9779\n",
            "Epoch 37: val_accuracy did not improve from 0.97141\n",
            "245/245 [==============================] - 7s 28ms/step - loss: 0.0703 - precision: 0.9787 - recall: 0.9770 - accuracy: 0.9779 - val_loss: 0.1368 - val_precision: 0.8595 - val_recall: 0.8933 - val_accuracy: 0.9652\n",
            "Epoch 38/50\n",
            "243/245 [============================>.] - ETA: 0s - loss: 0.0607 - precision: 0.9825 - recall: 0.9817 - accuracy: 0.9821\n",
            "Epoch 38: val_accuracy did not improve from 0.97141\n",
            "245/245 [==============================] - 7s 28ms/step - loss: 0.0605 - precision: 0.9826 - recall: 0.9818 - accuracy: 0.9822 - val_loss: 0.1270 - val_precision: 0.8971 - val_recall: 0.8820 - val_accuracy: 0.9699\n",
            "Epoch 39/50\n",
            "243/245 [============================>.] - ETA: 0s - loss: 0.0645 - precision: 0.9812 - recall: 0.9797 - accuracy: 0.9805\n",
            "Epoch 39: val_accuracy did not improve from 0.97141\n",
            "245/245 [==============================] - 7s 28ms/step - loss: 0.0646 - precision: 0.9813 - recall: 0.9795 - accuracy: 0.9804 - val_loss: 0.1228 - val_precision: 0.9222 - val_recall: 0.8652 - val_accuracy: 0.9714\n",
            "Epoch 40/50\n",
            "243/245 [============================>.] - ETA: 0s - loss: 0.0661 - precision: 0.9796 - recall: 0.9784 - accuracy: 0.9790\n",
            "Epoch 40: val_accuracy improved from 0.97141 to 0.97450, saving model to ../models/cardboard_model.h5\n",
            "245/245 [==============================] - 7s 28ms/step - loss: 0.0659 - precision: 0.9795 - recall: 0.9785 - accuracy: 0.9790 - val_loss: 0.1220 - val_precision: 0.9290 - val_recall: 0.8820 - val_accuracy: 0.9745\n",
            "Epoch 41/50\n",
            "244/245 [============================>.] - ETA: 0s - loss: 0.0686 - precision: 0.9812 - recall: 0.9782 - accuracy: 0.9798\n",
            "Epoch 41: val_accuracy did not improve from 0.97450\n",
            "245/245 [==============================] - 7s 27ms/step - loss: 0.0686 - precision: 0.9813 - recall: 0.9782 - accuracy: 0.9798 - val_loss: 0.1423 - val_precision: 0.8757 - val_recall: 0.8708 - val_accuracy: 0.9652\n",
            "Epoch 42/50\n",
            "243/245 [============================>.] - ETA: 0s - loss: 0.0720 - precision: 0.9804 - recall: 0.9766 - accuracy: 0.9785\n",
            "Epoch 42: val_accuracy did not improve from 0.97450\n",
            "245/245 [==============================] - 7s 27ms/step - loss: 0.0719 - precision: 0.9805 - recall: 0.9767 - accuracy: 0.9786 - val_loss: 0.1243 - val_precision: 0.9390 - val_recall: 0.8652 - val_accuracy: 0.9737\n",
            "Epoch 43/50\n",
            "244/245 [============================>.] - ETA: 0s - loss: 0.0638 - precision: 0.9810 - recall: 0.9790 - accuracy: 0.9800\n",
            "Epoch 43: val_accuracy did not improve from 0.97450\n",
            "245/245 [==============================] - 7s 27ms/step - loss: 0.0637 - precision: 0.9810 - recall: 0.9790 - accuracy: 0.9800 - val_loss: 0.1534 - val_precision: 0.8889 - val_recall: 0.8539 - val_accuracy: 0.9652\n",
            "Epoch 44/50\n",
            "243/245 [============================>.] - ETA: 0s - loss: 0.0663 - precision: 0.9819 - recall: 0.9779 - accuracy: 0.9799\n",
            "Epoch 44: val_accuracy did not improve from 0.97450\n",
            "245/245 [==============================] - 7s 28ms/step - loss: 0.0663 - precision: 0.9815 - recall: 0.9780 - accuracy: 0.9798 - val_loss: 0.1124 - val_precision: 0.9290 - val_recall: 0.8820 - val_accuracy: 0.9745\n",
            "Epoch 45/50\n",
            "243/245 [============================>.] - ETA: 0s - loss: 0.0680 - precision: 0.9793 - recall: 0.9763 - accuracy: 0.9779\n",
            "Epoch 45: val_accuracy did not improve from 0.97450\n",
            "245/245 [==============================] - 7s 27ms/step - loss: 0.0678 - precision: 0.9795 - recall: 0.9764 - accuracy: 0.9780 - val_loss: 0.1328 - val_precision: 0.9231 - val_recall: 0.8764 - val_accuracy: 0.9730\n",
            "Epoch 46/50\n",
            "244/245 [============================>.] - ETA: 0s - loss: 0.0532 - precision: 0.9854 - recall: 0.9833 - accuracy: 0.9844\n",
            "Epoch 46: val_accuracy did not improve from 0.97450\n",
            "245/245 [==============================] - 7s 27ms/step - loss: 0.0532 - precision: 0.9854 - recall: 0.9834 - accuracy: 0.9844 - val_loss: 0.1588 - val_precision: 0.9277 - val_recall: 0.8652 - val_accuracy: 0.9722\n",
            "Epoch 47/50\n",
            "243/245 [============================>.] - ETA: 0s - loss: 0.0616 - precision: 0.9817 - recall: 0.9822 - accuracy: 0.9820\n",
            "Epoch 47: val_accuracy did not improve from 0.97450\n",
            "245/245 [==============================] - 7s 27ms/step - loss: 0.0615 - precision: 0.9816 - recall: 0.9823 - accuracy: 0.9820 - val_loss: 0.1411 - val_precision: 0.8634 - val_recall: 0.8876 - val_accuracy: 0.9652\n",
            "Epoch 48/50\n",
            "243/245 [============================>.] - ETA: 0s - loss: 0.0617 - precision: 0.9857 - recall: 0.9794 - accuracy: 0.9826\n",
            "Epoch 48: val_accuracy did not improve from 0.97450\n",
            "245/245 [==============================] - 7s 27ms/step - loss: 0.0616 - precision: 0.9856 - recall: 0.9795 - accuracy: 0.9826 - val_loss: 0.1351 - val_precision: 0.8541 - val_recall: 0.8876 - val_accuracy: 0.9637\n",
            "Epoch 49/50\n",
            "244/245 [============================>.] - ETA: 0s - loss: 0.0558 - precision: 0.9856 - recall: 0.9823 - accuracy: 0.9840\n",
            "Epoch 49: val_accuracy did not improve from 0.97450\n",
            "245/245 [==============================] - 7s 27ms/step - loss: 0.0558 - precision: 0.9856 - recall: 0.9823 - accuracy: 0.9840 - val_loss: 0.1584 - val_precision: 0.9042 - val_recall: 0.8483 - val_accuracy: 0.9668\n",
            "Epoch 50/50\n",
            "243/245 [============================>.] - ETA: 0s - loss: 0.0573 - precision: 0.9822 - recall: 0.9807 - accuracy: 0.9815\n",
            "Epoch 50: val_accuracy did not improve from 0.97450\n",
            "245/245 [==============================] - 7s 27ms/step - loss: 0.0572 - precision: 0.9821 - recall: 0.9808 - accuracy: 0.9814 - val_loss: 0.1517 - val_precision: 0.9222 - val_recall: 0.8652 - val_accuracy: 0.9714\n"
          ]
        }
      ],
      "source": [
        "cardboard_model_path = '../models/cardboard_model.h5'\n",
        "cardboard_history = cardboard_model.fit(x=cardboard_training_ds, validation_data=cardboard_validation_ds, epochs=50, callbacks=[create_model_checkpoint(cardboard_model_path)])"
      ]
    },
    {
      "cell_type": "markdown",
      "metadata": {
        "id": "PebNB0fkk4Js"
      },
      "source": [
        "After that we will evaluate our model with the help of a confusion matrix"
      ]
    },
    {
      "cell_type": "code",
      "execution_count": 38,
      "metadata": {
        "id": "-fiAPcXPk4Js"
      },
      "outputs": [],
      "source": [
        "from sklearn.metrics import accuracy_score\n",
        "\n",
        "def get_actual_vs_predictions(column_name, model_path, dataframe = test_df):\n",
        "    test_batches = generate_test_batch_for_class(column_name, dataframe)\n",
        "    model = tf.keras.models.load_model(model_path)\n",
        "\n",
        "    probabilities = model.predict(prediction_generator(test_batches))\n",
        "    predicted_classes = (probabilities > 0.5).astype(int)\n",
        "    actual_classes = test_batches.labels\n",
        "\n",
        "    print(\"Accuracy :\", accuracy_score(actual_classes, predicted_classes))\n",
        "\n",
        "    return actual_classes, predicted_classes"
      ]
    },
    {
      "cell_type": "code",
      "execution_count": 39,
      "metadata": {
        "colab": {
          "base_uri": "https://localhost:8080/",
          "height": 484
        },
        "id": "DtC7QmJek4Js",
        "outputId": "6f67fb0d-a990-470b-bcef-252a129f56ce"
      },
      "outputs": [
        {
          "name": "stdout",
          "output_type": "stream",
          "text": [
            "Found 648 validated image filenames.\n",
            "21/21 [==============================] - 1s 57ms/step\n",
            "Accuracy : 0.9521604938271605\n",
            "[[546  13]\n",
            " [ 18  71]]\n"
          ]
        },
        {
          "data": {
            "image/png": "[encoded data removed]",
            "text/plain": [
              "<Figure size 600x400 with 2 Axes>"
            ]
          },
          "metadata": {},
          "output_type": "display_data"
        }
      ],
      "source": [
        "actual_classes, predicted_classes = get_actual_vs_predictions('cardboard', cardboard_model_path)\n",
        "plot_confusion_matrix(actual_classes, predicted_classes)"
      ]
    },
    {
      "cell_type": "markdown",
      "metadata": {
        "id": "d0atHE6Tk4Jt"
      },
      "source": [
        "## Class weights"
      ]
    },
    {
      "cell_type": "markdown",
      "metadata": {
        "id": "5ju3OyExk4Jt"
      },
      "source": [
        "### Paper model"
      ]
    },
    {
      "cell_type": "markdown",
      "metadata": {
        "id": "q5G9oAXuk4Jt"
      },
      "source": [
        "How to handle imbalanced classes with class weights\n",
        "\n",
        "https://www.analyticsvidhya.com/blog/2020/10/improve-class-imbalance-class-weights/"
      ]
    },
    {
      "cell_type": "code",
      "execution_count": 40,
      "metadata": {
        "colab": {
          "base_uri": "https://localhost:8080/"
        },
        "id": "krYBleGqk4Jt",
        "outputId": "9534c45e-a3ef-4983-96e8-b46d1c5d31dd"
      },
      "outputs": [
        {
          "data": {
            "text/plain": [
              "{0: 0.596523571240453, 1: 3.0900409276944067}"
            ]
          },
          "execution_count": 40,
          "metadata": {},
          "output_type": "execute_result"
        }
      ],
      "source": [
        "paper_class_weights = compute_class_weight('balanced', classes=np.unique(training_df.paper), y=training_df.paper)\n",
        "\n",
        "paper_class_weights_dict = dict(enumerate(paper_class_weights))\n",
        "paper_class_weights_dict"
      ]
    },
    {
      "cell_type": "markdown",
      "metadata": {
        "id": "TzWP_cB9k4Jt"
      },
      "source": [
        "We are preparing the datasets and compiling a paper model"
      ]
    },
    {
      "cell_type": "code",
      "execution_count": 41,
      "metadata": {
        "id": "O-B91UlFk4Jt"
      },
      "outputs": [],
      "source": [
        "paper_train_ds = load_dataset(training_df, 'paper')\n",
        "paper_valid_ds = load_dataset(validation_df, 'paper')\n",
        "\n",
        "paper_model = Sequential(layers)\n",
        "compile_model(paper_model)"
      ]
    },
    {
      "cell_type": "markdown",
      "metadata": {
        "id": "GB81c6Dvk4Jt"
      },
      "source": [
        "And training the paper model"
      ]
    },
    {
      "cell_type": "code",
      "execution_count": 42,
      "metadata": {
        "colab": {
          "base_uri": "https://localhost:8080/"
        },
        "id": "v_teL03dk4Jt",
        "outputId": "090c8ec2-b27c-46dc-b3bd-7829ea73ab45"
      },
      "outputs": [
        {
          "name": "stdout",
          "output_type": "stream",
          "text": [
            "Epoch 1/50\n",
            "    142/Unknown - 10s 53ms/step - loss: 0.6488 - precision_1: 0.3082 - recall_1: 0.7626 - accuracy: 0.6845\n",
            "Epoch 1: val_accuracy improved from -inf to 0.85317, saving model to ../models/paper_model.h5\n",
            "142/142 [==============================] - 13s 71ms/step - loss: 0.6488 - precision_1: 0.3082 - recall_1: 0.7626 - accuracy: 0.6845 - val_loss: 0.3295 - val_precision_1: 0.5348 - val_recall_1: 0.6986 - val_accuracy: 0.8532\n",
            "Epoch 2/50\n",
            "141/142 [============================>.] - ETA: 0s - loss: 0.4090 - precision_1: 0.4344 - recall_1: 0.8395 - accuracy: 0.7974\n",
            "Epoch 2: val_accuracy improved from 0.85317 to 0.89026, saving model to ../models/paper_model.h5\n",
            "142/142 [==============================] - 4s 30ms/step - loss: 0.4085 - precision_1: 0.4347 - recall_1: 0.8404 - accuracy: 0.7974 - val_loss: 0.2560 - val_precision_1: 0.6683 - val_recall_1: 0.6364 - val_accuracy: 0.8903\n",
            "Epoch 3/50\n",
            "141/142 [============================>.] - ETA: 0s - loss: 0.3520 - precision_1: 0.4842 - recall_1: 0.8820 - accuracy: 0.8291\n",
            "Epoch 3: val_accuracy improved from 0.89026 to 0.89490, saving model to ../models/paper_model.h5\n",
            "142/142 [==============================] - 4s 29ms/step - loss: 0.3524 - precision_1: 0.4846 - recall_1: 0.8813 - accuracy: 0.8291 - val_loss: 0.2453 - val_precision_1: 0.6816 - val_recall_1: 0.6555 - val_accuracy: 0.8949\n",
            "Epoch 4/50\n",
            "141/142 [============================>.] - ETA: 0s - loss: 0.3313 - precision_1: 0.5048 - recall_1: 0.8697 - accuracy: 0.8411\n",
            "Epoch 4: val_accuracy improved from 0.89490 to 0.91190, saving model to ../models/paper_model.h5\n",
            "142/142 [==============================] - 4s 29ms/step - loss: 0.3315 - precision_1: 0.5052 - recall_1: 0.8690 - accuracy: 0.8411 - val_loss: 0.2144 - val_precision_1: 0.7436 - val_recall_1: 0.6938 - val_accuracy: 0.9119\n",
            "Epoch 5/50\n",
            "141/142 [============================>.] - ETA: 0s - loss: 0.3066 - precision_1: 0.5369 - recall_1: 0.8971 - accuracy: 0.8584\n",
            "Epoch 5: val_accuracy improved from 0.91190 to 0.91963, saving model to ../models/paper_model.h5\n",
            "142/142 [==============================] - 4s 29ms/step - loss: 0.3070 - precision_1: 0.5368 - recall_1: 0.8963 - accuracy: 0.8581 - val_loss: 0.1952 - val_precision_1: 0.7586 - val_recall_1: 0.7368 - val_accuracy: 0.9196\n",
            "Epoch 6/50\n",
            "141/142 [============================>.] - ETA: 0s - loss: 0.3082 - precision_1: 0.5359 - recall_1: 0.8807 - accuracy: 0.8575\n",
            "Epoch 6: val_accuracy did not improve from 0.91963\n",
            "142/142 [==============================] - 4s 29ms/step - loss: 0.3084 - precision_1: 0.5365 - recall_1: 0.8813 - accuracy: 0.8576 - val_loss: 0.1999 - val_precision_1: 0.7119 - val_recall_1: 0.8278 - val_accuracy: 0.9181\n",
            "Epoch 7/50\n",
            "141/142 [============================>.] - ETA: 0s - loss: 0.2861 - precision_1: 0.5587 - recall_1: 0.8944 - accuracy: 0.8688\n",
            "Epoch 7: val_accuracy improved from 0.91963 to 0.92427, saving model to ../models/paper_model.h5\n",
            "142/142 [==============================] - 4s 29ms/step - loss: 0.2860 - precision_1: 0.5592 - recall_1: 0.8950 - accuracy: 0.8689 - val_loss: 0.1941 - val_precision_1: 0.7558 - val_recall_1: 0.7847 - val_accuracy: 0.9243\n",
            "Epoch 8/50\n",
            "141/142 [============================>.] - ETA: 0s - loss: 0.2756 - precision_1: 0.5718 - recall_1: 0.8848 - accuracy: 0.8743\n",
            "Epoch 8: val_accuracy did not improve from 0.92427\n",
            "142/142 [==============================] - 4s 29ms/step - loss: 0.2759 - precision_1: 0.5728 - recall_1: 0.8854 - accuracy: 0.8746 - val_loss: 0.1839 - val_precision_1: 0.7594 - val_recall_1: 0.7703 - val_accuracy: 0.9235\n",
            "Epoch 9/50\n",
            "140/142 [============================>.] - ETA: 0s - loss: 0.2955 - precision_1: 0.5495 - recall_1: 0.8895 - accuracy: 0.8643\n",
            "Epoch 9: val_accuracy did not improve from 0.92427\n",
            "142/142 [==============================] - 4s 29ms/step - loss: 0.2950 - precision_1: 0.5511 - recall_1: 0.8895 - accuracy: 0.8649 - val_loss: 0.2322 - val_precision_1: 0.6694 - val_recall_1: 0.7847 - val_accuracy: 0.9026\n",
            "Epoch 10/50\n",
            "141/142 [============================>.] - ETA: 0s - loss: 0.2631 - precision_1: 0.5732 - recall_1: 0.8971 - accuracy: 0.8754\n",
            "Epoch 10: val_accuracy did not improve from 0.92427\n",
            "142/142 [==============================] - 4s 29ms/step - loss: 0.2631 - precision_1: 0.5732 - recall_1: 0.8977 - accuracy: 0.8753 - val_loss: 0.1977 - val_precision_1: 0.7167 - val_recall_1: 0.7990 - val_accuracy: 0.9165\n",
            "Epoch 11/50\n",
            "141/142 [============================>.] - ETA: 0s - loss: 0.2468 - precision_1: 0.6064 - recall_1: 0.9067 - accuracy: 0.8898\n",
            "Epoch 11: val_accuracy did not improve from 0.92427\n",
            "142/142 [==============================] - 4s 28ms/step - loss: 0.2488 - precision_1: 0.6064 - recall_1: 0.9059 - accuracy: 0.8896 - val_loss: 0.2224 - val_precision_1: 0.6276 - val_recall_1: 0.8708 - val_accuracy: 0.8957\n",
            "Epoch 12/50\n",
            "141/142 [============================>.] - ETA: 0s - loss: 0.2808 - precision_1: 0.5554 - recall_1: 0.9012 - accuracy: 0.8675\n",
            "Epoch 12: val_accuracy did not improve from 0.92427\n",
            "142/142 [==============================] - 4s 28ms/step - loss: 0.2810 - precision_1: 0.5556 - recall_1: 0.9004 - accuracy: 0.8673 - val_loss: 0.2277 - val_precision_1: 0.6367 - val_recall_1: 0.8804 - val_accuracy: 0.8995\n",
            "Epoch 13/50\n",
            "141/142 [============================>.] - ETA: 0s - loss: 0.2683 - precision_1: 0.5821 - recall_1: 0.8944 - accuracy: 0.8792\n",
            "Epoch 13: val_accuracy did not improve from 0.92427\n",
            "142/142 [==============================] - 4s 29ms/step - loss: 0.2691 - precision_1: 0.5817 - recall_1: 0.8936 - accuracy: 0.8788 - val_loss: 0.2299 - val_precision_1: 0.6377 - val_recall_1: 0.8421 - val_accuracy: 0.8972\n",
            "Epoch 14/50\n",
            "141/142 [============================>.] - ETA: 0s - loss: 0.2430 - precision_1: 0.6081 - recall_1: 0.9067 - accuracy: 0.8905\n",
            "Epoch 14: val_accuracy did not improve from 0.92427\n",
            "142/142 [==============================] - 4s 28ms/step - loss: 0.2437 - precision_1: 0.6069 - recall_1: 0.9059 - accuracy: 0.8898 - val_loss: 0.2066 - val_precision_1: 0.6768 - val_recall_1: 0.8517 - val_accuracy: 0.9104\n",
            "Epoch 15/50\n",
            "141/142 [============================>.] - ETA: 0s - loss: 0.2242 - precision_1: 0.6357 - recall_1: 0.9191 - accuracy: 0.9018\n",
            "Epoch 15: val_accuracy did not improve from 0.92427\n",
            "142/142 [==============================] - 4s 28ms/step - loss: 0.2241 - precision_1: 0.6358 - recall_1: 0.9195 - accuracy: 0.9018 - val_loss: 0.2004 - val_precision_1: 0.6950 - val_recall_1: 0.8612 - val_accuracy: 0.9165\n",
            "Epoch 16/50\n",
            "140/142 [============================>.] - ETA: 0s - loss: 0.2363 - precision_1: 0.6105 - recall_1: 0.9116 - accuracy: 0.8917\n",
            "Epoch 16: val_accuracy did not improve from 0.92427\n",
            "142/142 [==============================] - 4s 28ms/step - loss: 0.2356 - precision_1: 0.6110 - recall_1: 0.9127 - accuracy: 0.8918 - val_loss: 0.2364 - val_precision_1: 0.6355 - val_recall_1: 0.9091 - val_accuracy: 0.9011\n",
            "Epoch 17/50\n",
            "141/142 [============================>.] - ETA: 0s - loss: 0.2309 - precision_1: 0.6248 - recall_1: 0.9136 - accuracy: 0.8974\n",
            "Epoch 17: val_accuracy did not improve from 0.92427\n",
            "142/142 [==============================] - 4s 28ms/step - loss: 0.2312 - precision_1: 0.6244 - recall_1: 0.9141 - accuracy: 0.8971 - val_loss: 0.2687 - val_precision_1: 0.6165 - val_recall_1: 0.8230 - val_accuracy: 0.8887\n",
            "Epoch 18/50\n",
            "141/142 [============================>.] - ETA: 0s - loss: 0.2490 - precision_1: 0.5991 - recall_1: 0.9040 - accuracy: 0.8867\n",
            "Epoch 18: val_accuracy did not improve from 0.92427\n",
            "142/142 [==============================] - 4s 28ms/step - loss: 0.2483 - precision_1: 0.6000 - recall_1: 0.9045 - accuracy: 0.8870 - val_loss: 0.2235 - val_precision_1: 0.6570 - val_recall_1: 0.8708 - val_accuracy: 0.9057\n",
            "Epoch 19/50\n",
            "141/142 [============================>.] - ETA: 0s - loss: 0.2235 - precision_1: 0.6303 - recall_1: 0.9191 - accuracy: 0.8998\n",
            "Epoch 19: val_accuracy did not improve from 0.92427\n",
            "142/142 [==============================] - 4s 28ms/step - loss: 0.2239 - precision_1: 0.6305 - recall_1: 0.9195 - accuracy: 0.8998 - val_loss: 0.2259 - val_precision_1: 0.6399 - val_recall_1: 0.8756 - val_accuracy: 0.9003\n",
            "Epoch 20/50\n",
            "141/142 [============================>.] - ETA: 0s - loss: 0.2397 - precision_1: 0.6172 - recall_1: 0.9136 - accuracy: 0.8945\n",
            "Epoch 20: val_accuracy did not improve from 0.92427\n",
            "142/142 [==============================] - 4s 28ms/step - loss: 0.2397 - precision_1: 0.6181 - recall_1: 0.9141 - accuracy: 0.8947 - val_loss: 0.2756 - val_precision_1: 0.6159 - val_recall_1: 0.8517 - val_accuracy: 0.8903\n",
            "Epoch 21/50\n",
            "141/142 [============================>.] - ETA: 0s - loss: 0.2161 - precision_1: 0.6259 - recall_1: 0.9204 - accuracy: 0.8983\n",
            "Epoch 21: val_accuracy did not improve from 0.92427\n",
            "142/142 [==============================] - 4s 28ms/step - loss: 0.2162 - precision_1: 0.6267 - recall_1: 0.9209 - accuracy: 0.8985 - val_loss: 0.2225 - val_precision_1: 0.6691 - val_recall_1: 0.8612 - val_accuracy: 0.9088\n",
            "Epoch 22/50\n",
            "140/142 [============================>.] - ETA: 0s - loss: 0.2132 - precision_1: 0.6458 - recall_1: 0.9392 - accuracy: 0.9069\n",
            "Epoch 22: val_accuracy improved from 0.92427 to 0.92504, saving model to ../models/paper_model.h5\n",
            "142/142 [==============================] - 4s 29ms/step - loss: 0.2129 - precision_1: 0.6469 - recall_1: 0.9400 - accuracy: 0.9073 - val_loss: 0.1946 - val_precision_1: 0.7314 - val_recall_1: 0.8469 - val_accuracy: 0.9250\n",
            "Epoch 23/50\n",
            "141/142 [============================>.] - ETA: 0s - loss: 0.2251 - precision_1: 0.6275 - recall_1: 0.9150 - accuracy: 0.8985\n",
            "Epoch 23: val_accuracy did not improve from 0.92504\n",
            "142/142 [==============================] - 4s 28ms/step - loss: 0.2254 - precision_1: 0.6265 - recall_1: 0.9154 - accuracy: 0.8980 - val_loss: 0.3321 - val_precision_1: 0.5691 - val_recall_1: 0.8469 - val_accuracy: 0.8717\n",
            "Epoch 24/50\n",
            "140/142 [============================>.] - ETA: 0s - loss: 0.1959 - precision_1: 0.6734 - recall_1: 0.9254 - accuracy: 0.9154\n",
            "Epoch 24: val_accuracy did not improve from 0.92504\n",
            "142/142 [==============================] - 4s 28ms/step - loss: 0.1958 - precision_1: 0.6746 - recall_1: 0.9250 - accuracy: 0.9157 - val_loss: 0.1991 - val_precision_1: 0.7234 - val_recall_1: 0.8134 - val_accuracy: 0.9196\n",
            "Epoch 25/50\n",
            "141/142 [============================>.] - ETA: 0s - loss: 0.2253 - precision_1: 0.6410 - recall_1: 0.9136 - accuracy: 0.9034\n",
            "Epoch 25: val_accuracy did not improve from 0.92504\n",
            "142/142 [==============================] - 4s 28ms/step - loss: 0.2256 - precision_1: 0.6405 - recall_1: 0.9141 - accuracy: 0.9031 - val_loss: 0.2068 - val_precision_1: 0.7102 - val_recall_1: 0.8325 - val_accuracy: 0.9181\n",
            "Epoch 26/50\n",
            "141/142 [============================>.] - ETA: 0s - loss: 0.2078 - precision_1: 0.6581 - recall_1: 0.9136 - accuracy: 0.9094\n",
            "Epoch 26: val_accuracy did not improve from 0.92504\n",
            "142/142 [==============================] - 4s 28ms/step - loss: 0.2085 - precision_1: 0.6575 - recall_1: 0.9141 - accuracy: 0.9091 - val_loss: 0.2115 - val_precision_1: 0.6573 - val_recall_1: 0.8995 - val_accuracy: 0.9080\n",
            "Epoch 27/50\n",
            "141/142 [============================>.] - ETA: 0s - loss: 0.1862 - precision_1: 0.6828 - recall_1: 0.9300 - accuracy: 0.9189\n",
            "Epoch 27: val_accuracy did not improve from 0.92504\n",
            "142/142 [==============================] - 4s 28ms/step - loss: 0.1866 - precision_1: 0.6820 - recall_1: 0.9304 - accuracy: 0.9185 - val_loss: 0.2586 - val_precision_1: 0.6402 - val_recall_1: 0.8086 - val_accuracy: 0.8957\n",
            "Epoch 28/50\n",
            "140/142 [============================>.] - ETA: 0s - loss: 0.1924 - precision_1: 0.6761 - recall_1: 0.9199 - accuracy: 0.9158\n",
            "Epoch 28: val_accuracy did not improve from 0.92504\n",
            "142/142 [==============================] - 4s 28ms/step - loss: 0.1929 - precision_1: 0.6750 - recall_1: 0.9209 - accuracy: 0.9155 - val_loss: 0.2933 - val_precision_1: 0.5929 - val_recall_1: 0.8852 - val_accuracy: 0.8833\n",
            "Epoch 29/50\n",
            "140/142 [============================>.] - ETA: 0s - loss: 0.2078 - precision_1: 0.6492 - recall_1: 0.9254 - accuracy: 0.9071\n",
            "Epoch 29: val_accuracy improved from 0.92504 to 0.92658, saving model to ../models/paper_model.h5\n",
            "142/142 [==============================] - 4s 29ms/step - loss: 0.2068 - precision_1: 0.6516 - recall_1: 0.9263 - accuracy: 0.9079 - val_loss: 0.1767 - val_precision_1: 0.7457 - val_recall_1: 0.8278 - val_accuracy: 0.9266\n",
            "Epoch 30/50\n",
            "141/142 [============================>.] - ETA: 0s - loss: 0.1975 - precision_1: 0.6770 - recall_1: 0.9287 - accuracy: 0.9169\n",
            "Epoch 30: val_accuracy did not improve from 0.92658\n",
            "142/142 [==============================] - 4s 28ms/step - loss: 0.1977 - precision_1: 0.6763 - recall_1: 0.9291 - accuracy: 0.9166 - val_loss: 0.2813 - val_precision_1: 0.6104 - val_recall_1: 0.8995 - val_accuracy: 0.8910\n",
            "Epoch 31/50\n",
            "141/142 [============================>.] - ETA: 0s - loss: 0.2035 - precision_1: 0.6585 - recall_1: 0.9232 - accuracy: 0.9102\n",
            "Epoch 31: val_accuracy did not improve from 0.92658\n",
            "142/142 [==============================] - 4s 29ms/step - loss: 0.2040 - precision_1: 0.6582 - recall_1: 0.9222 - accuracy: 0.9099 - val_loss: 0.2232 - val_precision_1: 0.6572 - val_recall_1: 0.8900 - val_accuracy: 0.9073\n",
            "Epoch 32/50\n",
            "140/142 [============================>.] - ETA: 0s - loss: 0.1848 - precision_1: 0.6879 - recall_1: 0.9378 - accuracy: 0.9212\n",
            "Epoch 32: val_accuracy did not improve from 0.92658\n",
            "142/142 [==============================] - 4s 28ms/step - loss: 0.1848 - precision_1: 0.6866 - recall_1: 0.9386 - accuracy: 0.9208 - val_loss: 0.2666 - val_precision_1: 0.6343 - val_recall_1: 0.9378 - val_accuracy: 0.9026\n",
            "Epoch 33/50\n",
            "141/142 [============================>.] - ETA: 0s - loss: 0.1918 - precision_1: 0.6799 - recall_1: 0.9383 - accuracy: 0.9187\n",
            "Epoch 33: val_accuracy improved from 0.92658 to 0.93277, saving model to ../models/paper_model.h5\n",
            "142/142 [==============================] - 4s 29ms/step - loss: 0.1918 - precision_1: 0.6805 - recall_1: 0.9386 - accuracy: 0.9188 - val_loss: 0.1844 - val_precision_1: 0.7652 - val_recall_1: 0.8421 - val_accuracy: 0.9328\n",
            "Epoch 34/50\n",
            "140/142 [============================>.] - ETA: 0s - loss: 0.1698 - precision_1: 0.7038 - recall_1: 0.9420 - accuracy: 0.9266\n",
            "Epoch 34: val_accuracy did not improve from 0.93277\n",
            "142/142 [==============================] - 4s 29ms/step - loss: 0.1696 - precision_1: 0.7041 - recall_1: 0.9413 - accuracy: 0.9265 - val_loss: 0.2005 - val_precision_1: 0.7052 - val_recall_1: 0.9043 - val_accuracy: 0.9235\n",
            "Epoch 35/50\n",
            "141/142 [============================>.] - ETA: 0s - loss: 0.1707 - precision_1: 0.6901 - recall_1: 0.9438 - accuracy: 0.9224\n",
            "Epoch 35: val_accuracy did not improve from 0.93277\n",
            "142/142 [==============================] - 4s 29ms/step - loss: 0.1706 - precision_1: 0.6906 - recall_1: 0.9441 - accuracy: 0.9225 - val_loss: 0.2640 - val_precision_1: 0.6471 - val_recall_1: 0.8947 - val_accuracy: 0.9042\n",
            "Epoch 36/50\n",
            "141/142 [============================>.] - ETA: 0s - loss: 0.1778 - precision_1: 0.6771 - recall_1: 0.9492 - accuracy: 0.9187\n",
            "Epoch 36: val_accuracy did not improve from 0.93277\n",
            "142/142 [==============================] - 4s 29ms/step - loss: 0.1777 - precision_1: 0.6770 - recall_1: 0.9495 - accuracy: 0.9185 - val_loss: 0.2083 - val_precision_1: 0.7222 - val_recall_1: 0.8708 - val_accuracy: 0.9250\n",
            "Epoch 37/50\n",
            "141/142 [============================>.] - ETA: 0s - loss: 0.1964 - precision_1: 0.6644 - recall_1: 0.9369 - accuracy: 0.9133\n",
            "Epoch 37: val_accuracy did not improve from 0.93277\n",
            "142/142 [==============================] - 4s 29ms/step - loss: 0.1969 - precision_1: 0.6638 - recall_1: 0.9372 - accuracy: 0.9130 - val_loss: 0.3322 - val_precision_1: 0.5449 - val_recall_1: 0.8995 - val_accuracy: 0.8624\n",
            "Epoch 38/50\n",
            "141/142 [============================>.] - ETA: 0s - loss: 0.1875 - precision_1: 0.6922 - recall_1: 0.9314 - accuracy: 0.9220\n",
            "Epoch 38: val_accuracy did not improve from 0.93277\n",
            "142/142 [==============================] - 4s 28ms/step - loss: 0.1875 - precision_1: 0.6913 - recall_1: 0.9318 - accuracy: 0.9216 - val_loss: 0.2292 - val_precision_1: 0.6977 - val_recall_1: 0.8612 - val_accuracy: 0.9173\n",
            "Epoch 39/50\n",
            "141/142 [============================>.] - ETA: 0s - loss: 0.1851 - precision_1: 0.6778 - recall_1: 0.9438 - accuracy: 0.9184\n",
            "Epoch 39: val_accuracy did not improve from 0.93277\n",
            "142/142 [==============================] - 4s 29ms/step - loss: 0.1854 - precision_1: 0.6784 - recall_1: 0.9441 - accuracy: 0.9185 - val_loss: 0.2385 - val_precision_1: 0.6679 - val_recall_1: 0.8565 - val_accuracy: 0.9080\n",
            "Epoch 40/50\n",
            "141/142 [============================>.] - ETA: 0s - loss: 0.1606 - precision_1: 0.7215 - recall_1: 0.9451 - accuracy: 0.9322\n",
            "Epoch 40: val_accuracy did not improve from 0.93277\n",
            "142/142 [==============================] - 4s 29ms/step - loss: 0.1607 - precision_1: 0.7204 - recall_1: 0.9454 - accuracy: 0.9318 - val_loss: 0.2305 - val_precision_1: 0.6786 - val_recall_1: 0.9091 - val_accuracy: 0.9158\n",
            "Epoch 41/50\n",
            "141/142 [============================>.] - ETA: 0s - loss: 0.1826 - precision_1: 0.6932 - recall_1: 0.9424 - accuracy: 0.9233\n",
            "Epoch 41: val_accuracy improved from 0.93277 to 0.93663, saving model to ../models/paper_model.h5\n",
            "142/142 [==============================] - 4s 29ms/step - loss: 0.1822 - precision_1: 0.6938 - recall_1: 0.9427 - accuracy: 0.9234 - val_loss: 0.1643 - val_precision_1: 0.7725 - val_recall_1: 0.8612 - val_accuracy: 0.9366\n",
            "Epoch 42/50\n",
            "141/142 [============================>.] - ETA: 0s - loss: 0.1747 - precision_1: 0.7069 - recall_1: 0.9328 - accuracy: 0.9266\n",
            "Epoch 42: val_accuracy did not improve from 0.93663\n",
            "142/142 [==============================] - 4s 29ms/step - loss: 0.1746 - precision_1: 0.7066 - recall_1: 0.9332 - accuracy: 0.9265 - val_loss: 0.2256 - val_precision_1: 0.6825 - val_recall_1: 0.8947 - val_accuracy: 0.9158\n",
            "Epoch 43/50\n",
            "141/142 [============================>.] - ETA: 0s - loss: 0.1620 - precision_1: 0.7094 - recall_1: 0.9479 - accuracy: 0.9289\n",
            "Epoch 43: val_accuracy did not improve from 0.93663\n",
            "142/142 [==============================] - 4s 29ms/step - loss: 0.1622 - precision_1: 0.7085 - recall_1: 0.9482 - accuracy: 0.9285 - val_loss: 0.2612 - val_precision_1: 0.6605 - val_recall_1: 0.8565 - val_accuracy: 0.9057\n",
            "Epoch 44/50\n",
            "141/142 [============================>.] - ETA: 0s - loss: 0.1833 - precision_1: 0.7029 - recall_1: 0.9314 - accuracy: 0.9253\n",
            "Epoch 44: val_accuracy did not improve from 0.93663\n",
            "142/142 [==============================] - 4s 28ms/step - loss: 0.1840 - precision_1: 0.7005 - recall_1: 0.9318 - accuracy: 0.9245 - val_loss: 0.2935 - val_precision_1: 0.6018 - val_recall_1: 0.9474 - val_accuracy: 0.8903\n",
            "Epoch 45/50\n",
            "141/142 [============================>.] - ETA: 0s - loss: 0.1656 - precision_1: 0.7243 - recall_1: 0.9479 - accuracy: 0.9333\n",
            "Epoch 45: val_accuracy did not improve from 0.93663\n",
            "142/142 [==============================] - 4s 28ms/step - loss: 0.1664 - precision_1: 0.7247 - recall_1: 0.9482 - accuracy: 0.9333 - val_loss: 0.2407 - val_precision_1: 0.6456 - val_recall_1: 0.8804 - val_accuracy: 0.9026\n",
            "Epoch 46/50\n",
            "141/142 [============================>.] - ETA: 0s - loss: 0.1507 - precision_1: 0.7225 - recall_1: 0.9465 - accuracy: 0.9326\n",
            "Epoch 46: val_accuracy did not improve from 0.93663\n",
            "142/142 [==============================] - 4s 29ms/step - loss: 0.1504 - precision_1: 0.7237 - recall_1: 0.9468 - accuracy: 0.9329 - val_loss: 0.1922 - val_precision_1: 0.7449 - val_recall_1: 0.8804 - val_accuracy: 0.9320\n",
            "Epoch 47/50\n",
            "141/142 [============================>.] - ETA: 0s - loss: 0.1475 - precision_1: 0.7294 - recall_1: 0.9465 - accuracy: 0.9346\n",
            "Epoch 47: val_accuracy did not improve from 0.93663\n",
            "142/142 [==============================] - 4s 29ms/step - loss: 0.1472 - precision_1: 0.7305 - recall_1: 0.9468 - accuracy: 0.9349 - val_loss: 0.2097 - val_precision_1: 0.7309 - val_recall_1: 0.8708 - val_accuracy: 0.9274\n",
            "Epoch 48/50\n",
            "141/142 [============================>.] - ETA: 0s - loss: 0.1680 - precision_1: 0.7137 - recall_1: 0.9506 - accuracy: 0.9304\n",
            "Epoch 48: val_accuracy did not improve from 0.93663\n",
            "142/142 [==============================] - 4s 29ms/step - loss: 0.1679 - precision_1: 0.7134 - recall_1: 0.9509 - accuracy: 0.9302 - val_loss: 0.2288 - val_precision_1: 0.6606 - val_recall_1: 0.8660 - val_accuracy: 0.9065\n",
            "Epoch 49/50\n",
            "141/142 [============================>.] - ETA: 0s - loss: 0.1499 - precision_1: 0.7171 - recall_1: 0.9492 - accuracy: 0.9313\n",
            "Epoch 49: val_accuracy did not improve from 0.93663\n",
            "142/142 [==============================] - 4s 29ms/step - loss: 0.1507 - precision_1: 0.7158 - recall_1: 0.9482 - accuracy: 0.9307 - val_loss: 0.3049 - val_precision_1: 0.6241 - val_recall_1: 0.8660 - val_accuracy: 0.8941\n",
            "Epoch 50/50\n",
            "141/142 [============================>.] - ETA: 0s - loss: 0.1667 - precision_1: 0.7028 - recall_1: 0.9438 - accuracy: 0.9264\n",
            "Epoch 50: val_accuracy improved from 0.93663 to 0.93972, saving model to ../models/paper_model.h5\n",
            "142/142 [==============================] - 4s 29ms/step - loss: 0.1671 - precision_1: 0.7037 - recall_1: 0.9427 - accuracy: 0.9265 - val_loss: 0.1786 - val_precision_1: 0.8075 - val_recall_1: 0.8230 - val_accuracy: 0.9397\n"
          ]
        }
      ],
      "source": [
        "paper_model_path = '../models/paper_model.h5'\n",
        "history = paper_model.fit(x=paper_train_ds, validation_data=paper_valid_ds, class_weight = paper_class_weights_dict,epochs=50, callbacks=[create_model_checkpoint(paper_model_path)])"
      ]
    },
    {
      "cell_type": "markdown",
      "metadata": {
        "id": "G0Q0IWsKk4Jt"
      },
      "source": [
        "We can take a look on how the results are looking"
      ]
    },
    {
      "cell_type": "code",
      "execution_count": 43,
      "metadata": {
        "colab": {
          "base_uri": "https://localhost:8080/",
          "height": 484
        },
        "id": "2toNGpM9nv7h",
        "outputId": "a30f73a9-2392-4f4c-9f69-9b3d4b6888aa"
      },
      "outputs": [
        {
          "name": "stdout",
          "output_type": "stream",
          "text": [
            "Found 648 validated image filenames.\n",
            "21/21 [==============================] - 1s 44ms/step\n",
            "Accuracy : 0.9197530864197531\n",
            "[[513  30]\n",
            " [ 22  83]]\n"
          ]
        },
        {
          "data": {
            "image/png": "[encoded data removed]",
            "text/plain": [
              "<Figure size 600x400 with 2 Axes>"
            ]
          },
          "metadata": {},
          "output_type": "display_data"
        }
      ],
      "source": [
        "actual_classes, predicted_classes = get_actual_vs_predictions('paper', paper_model_path)\n",
        "plot_confusion_matrix(actual_classes, predicted_classes)"
      ]
    },
    {
      "cell_type": "markdown",
      "metadata": {
        "id": "uEhnSu2_k4Jt"
      },
      "source": [
        "### Plastic model"
      ]
    },
    {
      "cell_type": "markdown",
      "metadata": {
        "id": "BF_JDo2jk4Ju"
      },
      "source": [
        "We are calculating the weights ratio for the plastic class"
      ]
    },
    {
      "cell_type": "code",
      "execution_count": 44,
      "metadata": {
        "colab": {
          "base_uri": "https://localhost:8080/"
        },
        "id": "P3elgjz4k4Ju",
        "outputId": "c4f03086-60dc-4eab-fa35-348a4f10f977"
      },
      "outputs": [
        {
          "data": {
            "text/plain": [
              "{0: 0.5770700636942675, 1: 3.743801652892562}"
            ]
          },
          "execution_count": 44,
          "metadata": {},
          "output_type": "execute_result"
        }
      ],
      "source": [
        "plastic_class_weights = compute_class_weight('balanced', classes=np.unique(training_df.plastic), y=training_df.plastic)\n",
        "\n",
        "plastic_class_weights_dict = dict(enumerate(plastic_class_weights))\n",
        "plastic_class_weights_dict"
      ]
    },
    {
      "cell_type": "markdown",
      "metadata": {
        "id": "V10uLM2Bk4Ju"
      },
      "source": [
        "Preparing the dataset and compiling model"
      ]
    },
    {
      "cell_type": "code",
      "execution_count": 45,
      "metadata": {
        "id": "ioin-rtOk4Ju"
      },
      "outputs": [],
      "source": [
        "plastic_train_ds = load_dataset(training_df, 'plastic')\n",
        "plastic_valid_ds = load_dataset(validation_df, 'plastic')\n",
        "\n",
        "plastic_model = Sequential(layers)\n",
        "compile_model(plastic_model)"
      ]
    },
    {
      "cell_type": "markdown",
      "metadata": {
        "id": "t6MNoFhPk4Ju"
      },
      "source": [
        "Training the plastic model"
      ]
    },
    {
      "cell_type": "code",
      "execution_count": 46,
      "metadata": {
        "colab": {
          "base_uri": "https://localhost:8080/"
        },
        "id": "mKaFwqEZk4Ju",
        "outputId": "d13090c1-b658-457d-ad0d-21a65dd5ed5f"
      },
      "outputs": [
        {
          "name": "stdout",
          "output_type": "stream",
          "text": [
            "Epoch 1/50\n",
            "    141/Unknown - 9s 46ms/step - loss: 0.7398 - precision_2: 0.1951 - recall_2: 0.6822 - accuracy: 0.5829\n",
            "Epoch 1: val_accuracy improved from -inf to 0.81066, saving model to ../models/plastic_model.h5\n",
            "142/142 [==============================] - 12s 62ms/step - loss: 0.7392 - precision_2: 0.1966 - recall_2: 0.6843 - accuracy: 0.5843 - val_loss: 0.4506 - val_precision_2: 0.3435 - val_recall_2: 0.4566 - val_accuracy: 0.8107\n",
            "Epoch 2/50\n",
            "140/142 [============================>.] - ETA: 0s - loss: 0.5500 - precision_2: 0.2675 - recall_2: 0.7525 - accuracy: 0.6920\n",
            "Epoch 2: val_accuracy improved from 0.81066 to 0.84003, saving model to ../models/plastic_model.h5\n",
            "142/142 [==============================] - 4s 29ms/step - loss: 0.5478 - precision_2: 0.2689 - recall_2: 0.7537 - accuracy: 0.6934 - val_loss: 0.3564 - val_precision_2: 0.4227 - val_recall_2: 0.5376 - val_accuracy: 0.8400\n",
            "Epoch 3/50\n",
            "141/142 [============================>.] - ETA: 0s - loss: 0.5629 - precision_2: 0.2739 - recall_2: 0.7637 - accuracy: 0.6988\n",
            "Epoch 3: val_accuracy did not improve from 0.84003\n",
            "142/142 [==============================] - 4s 28ms/step - loss: 0.5622 - precision_2: 0.2753 - recall_2: 0.7653 - accuracy: 0.6996 - val_loss: 0.4297 - val_precision_2: 0.3396 - val_recall_2: 0.6243 - val_accuracy: 0.7875\n",
            "Epoch 4/50\n",
            "140/142 [============================>.] - ETA: 0s - loss: 0.4935 - precision_2: 0.2925 - recall_2: 0.7910 - accuracy: 0.7167\n",
            "Epoch 4: val_accuracy did not improve from 0.84003\n",
            "142/142 [==============================] - 4s 28ms/step - loss: 0.4927 - precision_2: 0.2933 - recall_2: 0.7917 - accuracy: 0.7174 - val_loss: 0.3924 - val_precision_2: 0.3937 - val_recall_2: 0.6532 - val_accuracy: 0.8192\n",
            "Epoch 5/50\n",
            "140/142 [============================>.] - ETA: 0s - loss: 0.4650 - precision_2: 0.3012 - recall_2: 0.8094 - accuracy: 0.7239\n",
            "Epoch 5: val_accuracy did not improve from 0.84003\n",
            "142/142 [==============================] - 4s 28ms/step - loss: 0.4639 - precision_2: 0.3023 - recall_2: 0.8099 - accuracy: 0.7249 - val_loss: 0.3710 - val_precision_2: 0.4206 - val_recall_2: 0.6127 - val_accuracy: 0.8354\n",
            "Epoch 6/50\n",
            "140/142 [============================>.] - ETA: 0s - loss: 0.4582 - precision_2: 0.3119 - recall_2: 0.7960 - accuracy: 0.7384\n",
            "Epoch 6: val_accuracy improved from 0.84003 to 0.85085, saving model to ../models/plastic_model.h5\n",
            "142/142 [==============================] - 4s 29ms/step - loss: 0.4576 - precision_2: 0.3130 - recall_2: 0.7967 - accuracy: 0.7393 - val_loss: 0.3332 - val_precision_2: 0.4565 - val_recall_2: 0.6069 - val_accuracy: 0.8509\n",
            "Epoch 7/50\n",
            "141/142 [============================>.] - ETA: 0s - loss: 0.4538 - precision_2: 0.3161 - recall_2: 0.8153 - accuracy: 0.7405\n",
            "Epoch 7: val_accuracy did not improve from 0.85085\n",
            "142/142 [==============================] - 4s 29ms/step - loss: 0.4531 - precision_2: 0.3175 - recall_2: 0.8165 - accuracy: 0.7411 - val_loss: 0.4130 - val_precision_2: 0.3757 - val_recall_2: 0.7341 - val_accuracy: 0.8014\n",
            "Epoch 8/50\n",
            "141/142 [============================>.] - ETA: 0s - loss: 0.4275 - precision_2: 0.3473 - recall_2: 0.8286 - accuracy: 0.7697\n",
            "Epoch 8: val_accuracy improved from 0.85085 to 0.87326, saving model to ../models/plastic_model.h5\n",
            "142/142 [==============================] - 4s 29ms/step - loss: 0.4269 - precision_2: 0.3489 - recall_2: 0.8298 - accuracy: 0.7704 - val_loss: 0.3352 - val_precision_2: 0.5231 - val_recall_2: 0.5896 - val_accuracy: 0.8733\n",
            "Epoch 9/50\n",
            "142/142 [==============================] - ETA: 0s - loss: 0.4259 - precision_2: 0.3363 - recall_2: 0.8231 - accuracy: 0.7594\n",
            "Epoch 9: val_accuracy did not improve from 0.87326\n",
            "142/142 [==============================] - 4s 28ms/step - loss: 0.4259 - precision_2: 0.3363 - recall_2: 0.8231 - accuracy: 0.7594 - val_loss: 0.4228 - val_precision_2: 0.3886 - val_recall_2: 0.7457 - val_accuracy: 0.8091\n",
            "Epoch 10/50\n",
            "141/142 [============================>.] - ETA: 0s - loss: 0.4226 - precision_2: 0.3507 - recall_2: 0.8286 - accuracy: 0.7728\n",
            "Epoch 10: val_accuracy did not improve from 0.87326\n",
            "142/142 [==============================] - 4s 28ms/step - loss: 0.4222 - precision_2: 0.3520 - recall_2: 0.8298 - accuracy: 0.7733 - val_loss: 0.3548 - val_precision_2: 0.4633 - val_recall_2: 0.6936 - val_accuracy: 0.8516\n",
            "Epoch 11/50\n",
            "140/142 [============================>.] - ETA: 0s - loss: 0.4264 - precision_2: 0.3536 - recall_2: 0.8177 - accuracy: 0.7761\n",
            "Epoch 11: val_accuracy did not improve from 0.87326\n",
            "142/142 [==============================] - 4s 28ms/step - loss: 0.4254 - precision_2: 0.3548 - recall_2: 0.8182 - accuracy: 0.7770 - val_loss: 0.3577 - val_precision_2: 0.5142 - val_recall_2: 0.6301 - val_accuracy: 0.8709\n",
            "Epoch 12/50\n",
            "140/142 [============================>.] - ETA: 0s - loss: 0.4244 - precision_2: 0.3417 - recall_2: 0.8194 - accuracy: 0.7652\n",
            "Epoch 12: val_accuracy did not improve from 0.87326\n",
            "142/142 [==============================] - 4s 28ms/step - loss: 0.4231 - precision_2: 0.3430 - recall_2: 0.8215 - accuracy: 0.7660 - val_loss: 0.3696 - val_precision_2: 0.4722 - val_recall_2: 0.6879 - val_accuracy: 0.8555\n",
            "Epoch 13/50\n",
            "141/142 [============================>.] - ETA: 0s - loss: 0.4176 - precision_2: 0.3666 - recall_2: 0.8136 - accuracy: 0.7879\n",
            "Epoch 13: val_accuracy did not improve from 0.87326\n",
            "142/142 [==============================] - 4s 28ms/step - loss: 0.4169 - precision_2: 0.3676 - recall_2: 0.8149 - accuracy: 0.7881 - val_loss: 0.4444 - val_precision_2: 0.3844 - val_recall_2: 0.7399 - val_accuracy: 0.8068\n",
            "Epoch 14/50\n",
            "141/142 [============================>.] - ETA: 0s - loss: 0.4095 - precision_2: 0.3592 - recall_2: 0.8236 - accuracy: 0.7808\n",
            "Epoch 14: val_accuracy improved from 0.87326 to 0.88253, saving model to ../models/plastic_model.h5\n",
            "142/142 [==============================] - 4s 29ms/step - loss: 0.4092 - precision_2: 0.3608 - recall_2: 0.8248 - accuracy: 0.7815 - val_loss: 0.3116 - val_precision_2: 0.5522 - val_recall_2: 0.6416 - val_accuracy: 0.8825\n",
            "Epoch 15/50\n",
            "140/142 [============================>.] - ETA: 0s - loss: 0.4088 - precision_2: 0.3731 - recall_2: 0.8010 - accuracy: 0.7937\n",
            "Epoch 15: val_accuracy did not improve from 0.88253\n",
            "142/142 [==============================] - 4s 28ms/step - loss: 0.4078 - precision_2: 0.3734 - recall_2: 0.8017 - accuracy: 0.7938 - val_loss: 0.3524 - val_precision_2: 0.4538 - val_recall_2: 0.6532 - val_accuracy: 0.8485\n",
            "Epoch 16/50\n",
            "140/142 [============================>.] - ETA: 0s - loss: 0.4015 - precision_2: 0.3630 - recall_2: 0.8445 - accuracy: 0.7815\n",
            "Epoch 16: val_accuracy did not improve from 0.88253\n",
            "142/142 [==============================] - 4s 28ms/step - loss: 0.4000 - precision_2: 0.3647 - recall_2: 0.8446 - accuracy: 0.7828 - val_loss: 0.3221 - val_precision_2: 0.5200 - val_recall_2: 0.6012 - val_accuracy: 0.8725\n",
            "Epoch 17/50\n",
            "140/142 [============================>.] - ETA: 0s - loss: 0.3958 - precision_2: 0.3766 - recall_2: 0.8294 - accuracy: 0.7940\n",
            "Epoch 17: val_accuracy did not improve from 0.88253\n",
            "142/142 [==============================] - 4s 29ms/step - loss: 0.3943 - precision_2: 0.3782 - recall_2: 0.8314 - accuracy: 0.7949 - val_loss: 0.3542 - val_precision_2: 0.5167 - val_recall_2: 0.6243 - val_accuracy: 0.8717\n",
            "Epoch 18/50\n",
            "140/142 [============================>.] - ETA: 0s - loss: 0.3879 - precision_2: 0.3779 - recall_2: 0.8311 - accuracy: 0.7949\n",
            "Epoch 18: val_accuracy did not improve from 0.88253\n",
            "142/142 [==============================] - 4s 28ms/step - loss: 0.3865 - precision_2: 0.3796 - recall_2: 0.8314 - accuracy: 0.7960 - val_loss: 0.3256 - val_precision_2: 0.5310 - val_recall_2: 0.6936 - val_accuracy: 0.8771\n",
            "Epoch 19/50\n",
            "141/142 [============================>.] - ETA: 0s - loss: 0.3959 - precision_2: 0.3702 - recall_2: 0.8353 - accuracy: 0.7888\n",
            "Epoch 19: val_accuracy did not improve from 0.88253\n",
            "142/142 [==============================] - 4s 28ms/step - loss: 0.3951 - precision_2: 0.3715 - recall_2: 0.8364 - accuracy: 0.7892 - val_loss: 0.3434 - val_precision_2: 0.4563 - val_recall_2: 0.6647 - val_accuracy: 0.8493\n",
            "Epoch 20/50\n",
            "141/142 [============================>.] - ETA: 0s - loss: 0.3820 - precision_2: 0.3832 - recall_2: 0.8403 - accuracy: 0.7985\n",
            "Epoch 20: val_accuracy did not improve from 0.88253\n",
            "142/142 [==============================] - 4s 28ms/step - loss: 0.3809 - precision_2: 0.3847 - recall_2: 0.8413 - accuracy: 0.7991 - val_loss: 0.3156 - val_precision_2: 0.5045 - val_recall_2: 0.6416 - val_accuracy: 0.8679\n",
            "Epoch 21/50\n",
            "140/142 [============================>.] - ETA: 0s - loss: 0.3695 - precision_2: 0.3961 - recall_2: 0.8545 - accuracy: 0.8067\n",
            "Epoch 21: val_accuracy did not improve from 0.88253\n",
            "142/142 [==============================] - 4s 28ms/step - loss: 0.3697 - precision_2: 0.3969 - recall_2: 0.8529 - accuracy: 0.8073 - val_loss: 0.3044 - val_precision_2: 0.5352 - val_recall_2: 0.6590 - val_accuracy: 0.8779\n",
            "Epoch 22/50\n",
            "140/142 [============================>.] - ETA: 0s - loss: 0.3574 - precision_2: 0.4029 - recall_2: 0.8495 - accuracy: 0.8118\n",
            "Epoch 22: val_accuracy did not improve from 0.88253\n",
            "142/142 [==============================] - 4s 28ms/step - loss: 0.3573 - precision_2: 0.4041 - recall_2: 0.8496 - accuracy: 0.8126 - val_loss: 0.3588 - val_precision_2: 0.5021 - val_recall_2: 0.6821 - val_accuracy: 0.8671\n",
            "Epoch 23/50\n",
            "141/142 [============================>.] - ETA: 0s - loss: 0.3695 - precision_2: 0.3926 - recall_2: 0.8303 - accuracy: 0.8063\n",
            "Epoch 23: val_accuracy did not improve from 0.88253\n",
            "142/142 [==============================] - 4s 28ms/step - loss: 0.3687 - precision_2: 0.3942 - recall_2: 0.8314 - accuracy: 0.8068 - val_loss: 0.3717 - val_precision_2: 0.4864 - val_recall_2: 0.7225 - val_accuracy: 0.8609\n",
            "Epoch 24/50\n",
            "140/142 [============================>.] - ETA: 0s - loss: 0.3980 - precision_2: 0.4018 - recall_2: 0.8311 - accuracy: 0.8123\n",
            "Epoch 24: val_accuracy improved from 0.88253 to 0.89954, saving model to ../models/plastic_model.h5\n",
            "142/142 [==============================] - 4s 29ms/step - loss: 0.3973 - precision_2: 0.4022 - recall_2: 0.8298 - accuracy: 0.8126 - val_loss: 0.2805 - val_precision_2: 0.6243 - val_recall_2: 0.6243 - val_accuracy: 0.8995\n",
            "Epoch 25/50\n",
            "141/142 [============================>.] - ETA: 0s - loss: 0.3710 - precision_2: 0.4008 - recall_2: 0.8369 - accuracy: 0.8116\n",
            "Epoch 25: val_accuracy did not improve from 0.89954\n",
            "142/142 [==============================] - 4s 28ms/step - loss: 0.3702 - precision_2: 0.4021 - recall_2: 0.8380 - accuracy: 0.8119 - val_loss: 0.3397 - val_precision_2: 0.4907 - val_recall_2: 0.6069 - val_accuracy: 0.8632\n",
            "Epoch 26/50\n",
            "141/142 [============================>.] - ETA: 0s - loss: 0.3800 - precision_2: 0.3902 - recall_2: 0.8369 - accuracy: 0.8041\n",
            "Epoch 26: val_accuracy did not improve from 0.89954\n",
            "142/142 [==============================] - 4s 29ms/step - loss: 0.3793 - precision_2: 0.3918 - recall_2: 0.8380 - accuracy: 0.8046 - val_loss: 0.3052 - val_precision_2: 0.5022 - val_recall_2: 0.6532 - val_accuracy: 0.8671\n",
            "Epoch 27/50\n",
            "141/142 [============================>.] - ETA: 0s - loss: 0.3608 - precision_2: 0.3900 - recall_2: 0.8669 - accuracy: 0.8016\n",
            "Epoch 27: val_accuracy did not improve from 0.89954\n",
            "142/142 [==============================] - 4s 29ms/step - loss: 0.3599 - precision_2: 0.3915 - recall_2: 0.8678 - accuracy: 0.8022 - val_loss: 0.3110 - val_precision_2: 0.5105 - val_recall_2: 0.6994 - val_accuracy: 0.8702\n",
            "Epoch 28/50\n",
            "141/142 [============================>.] - ETA: 0s - loss: 0.3446 - precision_2: 0.4049 - recall_2: 0.8602 - accuracy: 0.8129\n",
            "Epoch 28: val_accuracy did not improve from 0.89954\n",
            "142/142 [==============================] - 4s 29ms/step - loss: 0.3439 - precision_2: 0.4064 - recall_2: 0.8612 - accuracy: 0.8135 - val_loss: 0.3217 - val_precision_2: 0.5278 - val_recall_2: 0.6590 - val_accuracy: 0.8756\n",
            "Epoch 29/50\n",
            "141/142 [============================>.] - ETA: 0s - loss: 0.3645 - precision_2: 0.3929 - recall_2: 0.8419 - accuracy: 0.8056\n",
            "Epoch 29: val_accuracy did not improve from 0.89954\n",
            "142/142 [==============================] - 4s 29ms/step - loss: 0.3637 - precision_2: 0.3944 - recall_2: 0.8430 - accuracy: 0.8062 - val_loss: 0.2937 - val_precision_2: 0.5866 - val_recall_2: 0.6069 - val_accuracy: 0.8903\n",
            "Epoch 30/50\n",
            "141/142 [============================>.] - ETA: 0s - loss: 0.3604 - precision_2: 0.4082 - recall_2: 0.8586 - accuracy: 0.8154\n",
            "Epoch 30: val_accuracy improved from 0.89954 to 0.90031, saving model to ../models/plastic_model.h5\n",
            "142/142 [==============================] - 4s 30ms/step - loss: 0.3600 - precision_2: 0.4098 - recall_2: 0.8595 - accuracy: 0.8159 - val_loss: 0.2962 - val_precision_2: 0.6486 - val_recall_2: 0.5549 - val_accuracy: 0.9003\n",
            "Epoch 31/50\n",
            "141/142 [============================>.] - ETA: 0s - loss: 0.3587 - precision_2: 0.4211 - recall_2: 0.8353 - accuracy: 0.8251\n",
            "Epoch 31: val_accuracy did not improve from 0.90031\n",
            "142/142 [==============================] - 4s 29ms/step - loss: 0.3578 - precision_2: 0.4227 - recall_2: 0.8364 - accuracy: 0.8256 - val_loss: 0.3664 - val_precision_2: 0.4981 - val_recall_2: 0.7457 - val_accuracy: 0.8655\n",
            "Epoch 32/50\n",
            "141/142 [============================>.] - ETA: 0s - loss: 0.3720 - precision_2: 0.3883 - recall_2: 0.8502 - accuracy: 0.8016\n",
            "Epoch 32: val_accuracy did not improve from 0.90031\n",
            "142/142 [==============================] - 4s 29ms/step - loss: 0.3711 - precision_2: 0.3902 - recall_2: 0.8512 - accuracy: 0.8024 - val_loss: 0.3265 - val_precision_2: 0.5022 - val_recall_2: 0.6474 - val_accuracy: 0.8671\n",
            "Epoch 33/50\n",
            "141/142 [============================>.] - ETA: 0s - loss: 0.3300 - precision_2: 0.4368 - recall_2: 0.8686 - accuracy: 0.8333\n",
            "Epoch 33: val_accuracy did not improve from 0.90031\n",
            "142/142 [==============================] - 4s 30ms/step - loss: 0.3294 - precision_2: 0.4383 - recall_2: 0.8694 - accuracy: 0.8338 - val_loss: 0.3441 - val_precision_2: 0.4980 - val_recall_2: 0.7110 - val_accuracy: 0.8655\n",
            "Epoch 34/50\n",
            "141/142 [============================>.] - ETA: 0s - loss: 0.3562 - precision_2: 0.4039 - recall_2: 0.8536 - accuracy: 0.8127\n",
            "Epoch 34: val_accuracy did not improve from 0.90031\n",
            "142/142 [==============================] - 4s 30ms/step - loss: 0.3558 - precision_2: 0.4053 - recall_2: 0.8529 - accuracy: 0.8132 - val_loss: 0.3245 - val_precision_2: 0.5156 - val_recall_2: 0.6705 - val_accuracy: 0.8717\n",
            "Epoch 35/50\n",
            "141/142 [============================>.] - ETA: 0s - loss: 0.3217 - precision_2: 0.4575 - recall_2: 0.8602 - accuracy: 0.8455\n",
            "Epoch 35: val_accuracy did not improve from 0.90031\n",
            "142/142 [==============================] - 4s 30ms/step - loss: 0.3208 - precision_2: 0.4594 - recall_2: 0.8612 - accuracy: 0.8461 - val_loss: 0.3279 - val_precision_2: 0.4962 - val_recall_2: 0.7457 - val_accuracy: 0.8648\n",
            "Epoch 36/50\n",
            "141/142 [============================>.] - ETA: 0s - loss: 0.3441 - precision_2: 0.4306 - recall_2: 0.8719 - accuracy: 0.8293\n",
            "Epoch 36: val_accuracy did not improve from 0.90031\n",
            "142/142 [==============================] - 4s 30ms/step - loss: 0.3431 - precision_2: 0.4317 - recall_2: 0.8727 - accuracy: 0.8296 - val_loss: 0.3338 - val_precision_2: 0.5572 - val_recall_2: 0.6474 - val_accuracy: 0.8841\n",
            "Epoch 37/50\n",
            "141/142 [============================>.] - ETA: 0s - loss: 0.3426 - precision_2: 0.4426 - recall_2: 0.8536 - accuracy: 0.8373\n",
            "Epoch 37: val_accuracy did not improve from 0.90031\n",
            "142/142 [==============================] - 4s 30ms/step - loss: 0.3417 - precision_2: 0.4442 - recall_2: 0.8545 - accuracy: 0.8377 - val_loss: 0.3180 - val_precision_2: 0.5132 - val_recall_2: 0.6763 - val_accuracy: 0.8709\n",
            "Epoch 38/50\n",
            "141/142 [============================>.] - ETA: 0s - loss: 0.3529 - precision_2: 0.4330 - recall_2: 0.8652 - accuracy: 0.8311\n",
            "Epoch 38: val_accuracy did not improve from 0.90031\n",
            "142/142 [==============================] - 4s 29ms/step - loss: 0.3521 - precision_2: 0.4345 - recall_2: 0.8661 - accuracy: 0.8316 - val_loss: 0.2932 - val_precision_2: 0.5979 - val_recall_2: 0.6532 - val_accuracy: 0.8949\n",
            "Epoch 39/50\n",
            "141/142 [============================>.] - ETA: 0s - loss: 0.3629 - precision_2: 0.4034 - recall_2: 0.8369 - accuracy: 0.8134\n",
            "Epoch 39: val_accuracy did not improve from 0.90031\n",
            "142/142 [==============================] - 4s 29ms/step - loss: 0.3619 - precision_2: 0.4046 - recall_2: 0.8380 - accuracy: 0.8137 - val_loss: 0.3349 - val_precision_2: 0.5928 - val_recall_2: 0.5723 - val_accuracy: 0.8903\n",
            "Epoch 40/50\n",
            "141/142 [============================>.] - ETA: 0s - loss: 0.3419 - precision_2: 0.4073 - recall_2: 0.8669 - accuracy: 0.8143\n",
            "Epoch 40: val_accuracy did not improve from 0.90031\n",
            "142/142 [==============================] - 4s 29ms/step - loss: 0.3411 - precision_2: 0.4086 - recall_2: 0.8678 - accuracy: 0.8146 - val_loss: 0.3569 - val_precision_2: 0.5060 - val_recall_2: 0.7283 - val_accuracy: 0.8686\n",
            "Epoch 41/50\n",
            "141/142 [============================>.] - ETA: 0s - loss: 0.3452 - precision_2: 0.4432 - recall_2: 0.8569 - accuracy: 0.8375\n",
            "Epoch 41: val_accuracy did not improve from 0.90031\n",
            "142/142 [==============================] - 4s 29ms/step - loss: 0.3447 - precision_2: 0.4447 - recall_2: 0.8579 - accuracy: 0.8380 - val_loss: 0.3289 - val_precision_2: 0.5415 - val_recall_2: 0.6416 - val_accuracy: 0.8794\n",
            "Epoch 42/50\n",
            "141/142 [============================>.] - ETA: 0s - loss: 0.3120 - precision_2: 0.4651 - recall_2: 0.8769 - accuracy: 0.8493\n",
            "Epoch 42: val_accuracy did not improve from 0.90031\n",
            "142/142 [==============================] - 4s 29ms/step - loss: 0.3114 - precision_2: 0.4666 - recall_2: 0.8777 - accuracy: 0.8497 - val_loss: 0.3367 - val_precision_2: 0.5855 - val_recall_2: 0.6532 - val_accuracy: 0.8918\n",
            "Epoch 43/50\n",
            "141/142 [============================>.] - ETA: 0s - loss: 0.3300 - precision_2: 0.4420 - recall_2: 0.8619 - accuracy: 0.8367\n",
            "Epoch 43: val_accuracy did not improve from 0.90031\n",
            "142/142 [==============================] - 4s 29ms/step - loss: 0.3292 - precision_2: 0.4435 - recall_2: 0.8628 - accuracy: 0.8371 - val_loss: 0.2886 - val_precision_2: 0.5561 - val_recall_2: 0.6879 - val_accuracy: 0.8849\n",
            "Epoch 44/50\n",
            "141/142 [============================>.] - ETA: 0s - loss: 0.3225 - precision_2: 0.4452 - recall_2: 0.8652 - accuracy: 0.8384\n",
            "Epoch 44: val_accuracy did not improve from 0.90031\n",
            "142/142 [==============================] - 4s 29ms/step - loss: 0.3219 - precision_2: 0.4463 - recall_2: 0.8661 - accuracy: 0.8386 - val_loss: 0.3029 - val_precision_2: 0.5851 - val_recall_2: 0.6358 - val_accuracy: 0.8910\n",
            "Epoch 45/50\n",
            "141/142 [============================>.] - ETA: 0s - loss: 0.3266 - precision_2: 0.4477 - recall_2: 0.8752 - accuracy: 0.8395\n",
            "Epoch 45: val_accuracy did not improve from 0.90031\n",
            "142/142 [==============================] - 4s 29ms/step - loss: 0.3260 - precision_2: 0.4488 - recall_2: 0.8760 - accuracy: 0.8397 - val_loss: 0.3378 - val_precision_2: 0.5538 - val_recall_2: 0.6243 - val_accuracy: 0.8825\n",
            "Epoch 46/50\n",
            "141/142 [============================>.] - ETA: 0s - loss: 0.3164 - precision_2: 0.4487 - recall_2: 0.8885 - accuracy: 0.8398\n",
            "Epoch 46: val_accuracy did not improve from 0.90031\n",
            "142/142 [==============================] - 4s 30ms/step - loss: 0.3155 - precision_2: 0.4502 - recall_2: 0.8893 - accuracy: 0.8402 - val_loss: 0.2893 - val_precision_2: 0.5833 - val_recall_2: 0.6879 - val_accuracy: 0.8926\n",
            "Epoch 47/50\n",
            "141/142 [============================>.] - ETA: 0s - loss: 0.3055 - precision_2: 0.4565 - recall_2: 0.8902 - accuracy: 0.8442\n",
            "Epoch 47: val_accuracy did not improve from 0.90031\n",
            "142/142 [==============================] - 4s 29ms/step - loss: 0.3048 - precision_2: 0.4576 - recall_2: 0.8909 - accuracy: 0.8444 - val_loss: 0.3103 - val_precision_2: 0.5907 - val_recall_2: 0.6590 - val_accuracy: 0.8934\n",
            "Epoch 48/50\n",
            "141/142 [============================>.] - ETA: 0s - loss: 0.3049 - precision_2: 0.4579 - recall_2: 0.8952 - accuracy: 0.8449\n",
            "Epoch 48: val_accuracy did not improve from 0.90031\n",
            "142/142 [==============================] - 4s 29ms/step - loss: 0.3044 - precision_2: 0.4589 - recall_2: 0.8959 - accuracy: 0.8450 - val_loss: 0.3499 - val_precision_2: 0.4941 - val_recall_2: 0.7283 - val_accuracy: 0.8640\n",
            "Epoch 49/50\n",
            "141/142 [============================>.] - ETA: 0s - loss: 0.3120 - precision_2: 0.4574 - recall_2: 0.8835 - accuracy: 0.8449\n",
            "Epoch 49: val_accuracy did not improve from 0.90031\n",
            "142/142 [==============================] - 4s 29ms/step - loss: 0.3114 - precision_2: 0.4584 - recall_2: 0.8843 - accuracy: 0.8450 - val_loss: 0.3027 - val_precision_2: 0.5561 - val_recall_2: 0.6879 - val_accuracy: 0.8849\n",
            "Epoch 50/50\n",
            "141/142 [============================>.] - ETA: 0s - loss: 0.4798 - precision_2: 0.3900 - recall_2: 0.8087 - accuracy: 0.8061\n",
            "Epoch 50: val_accuracy did not improve from 0.90031\n",
            "142/142 [==============================] - 4s 29ms/step - loss: 0.4815 - precision_2: 0.3904 - recall_2: 0.8066 - accuracy: 0.8060 - val_loss: 0.3922 - val_precision_2: 0.4120 - val_recall_2: 0.5954 - val_accuracy: 0.8323\n"
          ]
        }
      ],
      "source": [
        "plastic_model_path = '../models/plastic_model.h5'\n",
        "history = plastic_model.fit(x=plastic_train_ds, validation_data=plastic_valid_ds, class_weight=plastic_class_weights_dict, epochs=50, callbacks=[create_model_checkpoint(plastic_model_path)])"
      ]
    },
    {
      "cell_type": "markdown",
      "metadata": {
        "id": "iO9vr4nFk4Ju"
      },
      "source": [
        "Checking the results"
      ]
    },
    {
      "cell_type": "code",
      "execution_count": 47,
      "metadata": {
        "colab": {
          "base_uri": "https://localhost:8080/",
          "height": 484
        },
        "id": "m5jJmVJnk4Ju",
        "outputId": "5da2bb7d-51de-43aa-9bb1-441ce31bae3b"
      },
      "outputs": [
        {
          "name": "stdout",
          "output_type": "stream",
          "text": [
            "Found 648 validated image filenames.\n",
            "21/21 [==============================] - 1s 46ms/step\n",
            "Accuracy : 0.9089506172839507\n",
            "[[534  27]\n",
            " [ 32  55]]\n"
          ]
        },
        {
          "data": {
            "image/png": "[encoded data removed]",
            "text/plain": [
              "<Figure size 600x400 with 2 Axes>"
            ]
          },
          "metadata": {},
          "output_type": "display_data"
        }
      ],
      "source": [
        "actual_classes, predicted_classes = get_actual_vs_predictions('plastic', plastic_model_path)\n",
        "plot_confusion_matrix(actual_classes, predicted_classes)"
      ]
    },
    {
      "cell_type": "markdown",
      "metadata": {
        "id": "dQAO3CFQk4Ju"
      },
      "source": [
        "### Metal model"
      ]
    },
    {
      "cell_type": "markdown",
      "metadata": {
        "id": "dyPa9lkpk4Ju"
      },
      "source": [
        "We are calculating the weights ratio for the metal class"
      ]
    },
    {
      "cell_type": "code",
      "execution_count": 48,
      "metadata": {
        "colab": {
          "base_uri": "https://localhost:8080/"
        },
        "id": "B01fPVnik4Ju",
        "outputId": "7ec838d6-7978-4d05-d76d-f8da392fc97e"
      },
      "outputs": [
        {
          "data": {
            "text/plain": [
              "{0: 0.5754573170731707, 1: 3.813131313131313}"
            ]
          },
          "execution_count": 48,
          "metadata": {},
          "output_type": "execute_result"
        }
      ],
      "source": [
        "metal_class_weights = compute_class_weight('balanced', classes=np.unique(training_df.metal), y=training_df.metal)\n",
        "\n",
        "metal_class_weights_dict = dict(enumerate(metal_class_weights))\n",
        "metal_class_weights_dict"
      ]
    },
    {
      "cell_type": "markdown",
      "metadata": {
        "id": "MYCoNtrRk4Ju"
      },
      "source": [
        "Preparing the dataset and compiling model"
      ]
    },
    {
      "cell_type": "code",
      "execution_count": 49,
      "metadata": {
        "id": "eHjZlymok4Jv"
      },
      "outputs": [],
      "source": [
        "metal_train_ds = load_dataset(oversample_on_class(training_df, 'metal'), 'metal')\n",
        "metal_valid_ds = load_dataset(validation_df, 'metal')\n",
        "\n",
        "metal_model = Sequential(layers)\n",
        "compile_model(metal_model)"
      ]
    },
    {
      "cell_type": "markdown",
      "metadata": {
        "id": "OoQR_0QQk4Jv"
      },
      "source": [
        "Checking the results"
      ]
    },
    {
      "cell_type": "code",
      "execution_count": 50,
      "metadata": {
        "colab": {
          "base_uri": "https://localhost:8080/"
        },
        "id": "kdyuVv8xk4Jv",
        "outputId": "3c00913e-c3c9-4bc7-a756-dcdad3707947"
      },
      "outputs": [
        {
          "name": "stdout",
          "output_type": "stream",
          "text": [
            "Epoch 1/50\n",
            "    246/Unknown - 16s 53ms/step - loss: 0.5649 - precision_3: 0.6877 - recall_3: 0.7238 - accuracy: 0.6975\n",
            "Epoch 1: val_accuracy improved from -inf to 0.72566, saving model to ../models/metal_model.h5\n",
            "246/246 [==============================] - 18s 63ms/step - loss: 0.5649 - precision_3: 0.6877 - recall_3: 0.7238 - accuracy: 0.6975 - val_loss: 0.5345 - val_precision_3: 0.2921 - val_recall_3: 0.7647 - val_accuracy: 0.7257\n",
            "Epoch 2/50\n",
            "245/246 [============================>.] - ETA: 0s - loss: 0.4491 - precision_3: 0.7646 - recall_3: 0.8158 - accuracy: 0.7827\n",
            "Epoch 2: val_accuracy improved from 0.72566 to 0.78594, saving model to ../models/metal_model.h5\n",
            "246/246 [==============================] - 7s 29ms/step - loss: 0.4486 - precision_3: 0.7653 - recall_3: 0.8168 - accuracy: 0.7832 - val_loss: 0.4448 - val_precision_3: 0.3449 - val_recall_3: 0.7000 - val_accuracy: 0.7859\n",
            "Epoch 3/50\n",
            "245/246 [============================>.] - ETA: 0s - loss: 0.3890 - precision_3: 0.8025 - recall_3: 0.8605 - accuracy: 0.8246\n",
            "Epoch 3: val_accuracy did not improve from 0.78594\n",
            "246/246 [==============================] - 7s 28ms/step - loss: 0.3888 - precision_3: 0.8030 - recall_3: 0.8608 - accuracy: 0.8248 - val_loss: 0.4758 - val_precision_3: 0.3368 - val_recall_3: 0.7647 - val_accuracy: 0.7713\n",
            "Epoch 4/50\n",
            "245/246 [============================>.] - ETA: 0s - loss: 0.3563 - precision_3: 0.8238 - recall_3: 0.8753 - accuracy: 0.8443\n",
            "Epoch 4: val_accuracy did not improve from 0.78594\n",
            "246/246 [==============================] - 7s 28ms/step - loss: 0.3565 - precision_3: 0.8240 - recall_3: 0.8745 - accuracy: 0.8439 - val_loss: 0.4640 - val_precision_3: 0.3525 - val_recall_3: 0.7588 - val_accuracy: 0.7852\n",
            "Epoch 5/50\n",
            "245/246 [============================>.] - ETA: 0s - loss: 0.3332 - precision_3: 0.8399 - recall_3: 0.8820 - accuracy: 0.8571\n",
            "Epoch 5: val_accuracy improved from 0.78594 to 0.78748, saving model to ../models/metal_model.h5\n",
            "246/246 [==============================] - 7s 29ms/step - loss: 0.3334 - precision_3: 0.8402 - recall_3: 0.8819 - accuracy: 0.8571 - val_loss: 0.4590 - val_precision_3: 0.3538 - val_recall_3: 0.7471 - val_accuracy: 0.7875\n",
            "Epoch 6/50\n",
            "245/246 [============================>.] - ETA: 0s - loss: 0.2937 - precision_3: 0.8609 - recall_3: 0.8998 - accuracy: 0.8774\n",
            "Epoch 6: val_accuracy did not improve from 0.78748\n",
            "246/246 [==============================] - 7s 28ms/step - loss: 0.2940 - precision_3: 0.8611 - recall_3: 0.8994 - accuracy: 0.8772 - val_loss: 0.5119 - val_precision_3: 0.3469 - val_recall_3: 0.7529 - val_accuracy: 0.7813\n",
            "Epoch 7/50\n",
            "245/246 [============================>.] - ETA: 0s - loss: 0.2754 - precision_3: 0.8722 - recall_3: 0.9116 - accuracy: 0.8892\n",
            "Epoch 7: val_accuracy improved from 0.78748 to 0.83694, saving model to ../models/metal_model.h5\n",
            "246/246 [==============================] - 7s 29ms/step - loss: 0.2753 - precision_3: 0.8725 - recall_3: 0.9113 - accuracy: 0.8891 - val_loss: 0.3819 - val_precision_3: 0.4260 - val_recall_3: 0.6941 - val_accuracy: 0.8369\n",
            "Epoch 8/50\n",
            "245/246 [============================>.] - ETA: 0s - loss: 0.2565 - precision_3: 0.8824 - recall_3: 0.9218 - accuracy: 0.8996\n",
            "Epoch 8: val_accuracy did not improve from 0.83694\n",
            "246/246 [==============================] - 7s 28ms/step - loss: 0.2568 - precision_3: 0.8825 - recall_3: 0.9215 - accuracy: 0.8994 - val_loss: 0.3785 - val_precision_3: 0.4182 - val_recall_3: 0.6765 - val_accuracy: 0.8338\n",
            "Epoch 9/50\n",
            "245/246 [============================>.] - ETA: 0s - loss: 0.2463 - precision_3: 0.8883 - recall_3: 0.9221 - accuracy: 0.9032\n",
            "Epoch 9: val_accuracy did not improve from 0.83694\n",
            "246/246 [==============================] - 7s 28ms/step - loss: 0.2462 - precision_3: 0.8886 - recall_3: 0.9217 - accuracy: 0.9031 - val_loss: 0.4129 - val_precision_3: 0.4000 - val_recall_3: 0.7059 - val_accuracy: 0.8223\n",
            "Epoch 10/50\n",
            "245/246 [============================>.] - ETA: 0s - loss: 0.2291 - precision_3: 0.8959 - recall_3: 0.9254 - accuracy: 0.9091\n",
            "Epoch 10: val_accuracy improved from 0.83694 to 0.84467, saving model to ../models/metal_model.h5\n",
            "246/246 [==============================] - 7s 28ms/step - loss: 0.2288 - precision_3: 0.8962 - recall_3: 0.9253 - accuracy: 0.9090 - val_loss: 0.3796 - val_precision_3: 0.4444 - val_recall_3: 0.7294 - val_accuracy: 0.8447\n",
            "Epoch 11/50\n",
            "245/246 [============================>.] - ETA: 0s - loss: 0.2208 - precision_3: 0.9027 - recall_3: 0.9264 - accuracy: 0.9134\n",
            "Epoch 11: val_accuracy improved from 0.84467 to 0.84776, saving model to ../models/metal_model.h5\n",
            "246/246 [==============================] - 7s 28ms/step - loss: 0.2205 - precision_3: 0.9031 - recall_3: 0.9263 - accuracy: 0.9135 - val_loss: 0.3931 - val_precision_3: 0.4516 - val_recall_3: 0.7412 - val_accuracy: 0.8478\n",
            "Epoch 12/50\n",
            "245/246 [============================>.] - ETA: 0s - loss: 0.2113 - precision_3: 0.9011 - recall_3: 0.9313 - accuracy: 0.9147\n",
            "Epoch 12: val_accuracy did not improve from 0.84776\n",
            "246/246 [==============================] - 7s 28ms/step - loss: 0.2115 - precision_3: 0.9016 - recall_3: 0.9309 - accuracy: 0.9146 - val_loss: 0.3870 - val_precision_3: 0.4398 - val_recall_3: 0.6882 - val_accuracy: 0.8439\n",
            "Epoch 13/50\n",
            "245/246 [============================>.] - ETA: 0s - loss: 0.2058 - precision_3: 0.9125 - recall_3: 0.9320 - accuracy: 0.9214\n",
            "Epoch 13: val_accuracy improved from 0.84776 to 0.85781, saving model to ../models/metal_model.h5\n",
            "246/246 [==============================] - 7s 28ms/step - loss: 0.2059 - precision_3: 0.9126 - recall_3: 0.9317 - accuracy: 0.9212 - val_loss: 0.3928 - val_precision_3: 0.4682 - val_recall_3: 0.6059 - val_accuracy: 0.8578\n",
            "Epoch 14/50\n",
            "246/246 [==============================] - ETA: 0s - loss: 0.2050 - precision_3: 0.9144 - recall_3: 0.9334 - accuracy: 0.9230\n",
            "Epoch 14: val_accuracy did not improve from 0.85781\n",
            "246/246 [==============================] - 7s 27ms/step - loss: 0.2050 - precision_3: 0.9144 - recall_3: 0.9334 - accuracy: 0.9230 - val_loss: 0.3660 - val_precision_3: 0.4485 - val_recall_3: 0.7176 - val_accuracy: 0.8470\n",
            "Epoch 15/50\n",
            "245/246 [============================>.] - ETA: 0s - loss: 0.1985 - precision_3: 0.9154 - recall_3: 0.9377 - accuracy: 0.9256\n",
            "Epoch 15: val_accuracy improved from 0.85781 to 0.85935, saving model to ../models/metal_model.h5\n",
            "246/246 [==============================] - 7s 27ms/step - loss: 0.1984 - precision_3: 0.9154 - recall_3: 0.9378 - accuracy: 0.9256 - val_loss: 0.3616 - val_precision_3: 0.4774 - val_recall_3: 0.7471 - val_accuracy: 0.8594\n",
            "Epoch 16/50\n",
            "245/246 [============================>.] - ETA: 0s - loss: 0.1842 - precision_3: 0.9208 - recall_3: 0.9423 - accuracy: 0.9307\n",
            "Epoch 16: val_accuracy did not improve from 0.85935\n",
            "246/246 [==============================] - 7s 27ms/step - loss: 0.1841 - precision_3: 0.9211 - recall_3: 0.9426 - accuracy: 0.9309 - val_loss: 0.3978 - val_precision_3: 0.4516 - val_recall_3: 0.7412 - val_accuracy: 0.8478\n",
            "Epoch 17/50\n",
            "246/246 [==============================] - ETA: 0s - loss: 0.1818 - precision_3: 0.9212 - recall_3: 0.9416 - accuracy: 0.9305\n",
            "Epoch 17: val_accuracy did not improve from 0.85935\n",
            "246/246 [==============================] - 7s 27ms/step - loss: 0.1818 - precision_3: 0.9212 - recall_3: 0.9416 - accuracy: 0.9305 - val_loss: 0.4002 - val_precision_3: 0.4441 - val_recall_3: 0.7706 - val_accuracy: 0.8431\n",
            "Epoch 18/50\n",
            "246/246 [==============================] - ETA: 0s - loss: 0.1787 - precision_3: 0.9283 - recall_3: 0.9405 - accuracy: 0.9339\n",
            "Epoch 18: val_accuracy improved from 0.85935 to 0.86167, saving model to ../models/metal_model.h5\n",
            "246/246 [==============================] - 7s 28ms/step - loss: 0.1787 - precision_3: 0.9283 - recall_3: 0.9405 - accuracy: 0.9339 - val_loss: 0.3336 - val_precision_3: 0.4821 - val_recall_3: 0.7118 - val_accuracy: 0.8617\n",
            "Epoch 19/50\n",
            "246/246 [==============================] - ETA: 0s - loss: 0.1773 - precision_3: 0.9269 - recall_3: 0.9400 - accuracy: 0.9329\n",
            "Epoch 19: val_accuracy did not improve from 0.86167\n",
            "246/246 [==============================] - 7s 27ms/step - loss: 0.1773 - precision_3: 0.9269 - recall_3: 0.9400 - accuracy: 0.9329 - val_loss: 0.3996 - val_precision_3: 0.4591 - val_recall_3: 0.6941 - val_accuracy: 0.8524\n",
            "Epoch 20/50\n",
            "246/246 [==============================] - ETA: 0s - loss: 0.2914 - precision_3: 0.8715 - recall_3: 0.8890 - accuracy: 0.8789\n",
            "Epoch 20: val_accuracy did not improve from 0.86167\n",
            "246/246 [==============================] - 7s 27ms/step - loss: 0.2914 - precision_3: 0.8715 - recall_3: 0.8890 - accuracy: 0.8789 - val_loss: 0.5376 - val_precision_3: 0.2958 - val_recall_3: 0.6176 - val_accuracy: 0.7566\n",
            "Epoch 21/50\n",
            "246/246 [==============================] - ETA: 0s - loss: 0.4709 - precision_3: 0.7821 - recall_3: 0.7833 - accuracy: 0.7825\n",
            "Epoch 21: val_accuracy did not improve from 0.86167\n",
            "246/246 [==============================] - 7s 27ms/step - loss: 0.4709 - precision_3: 0.7821 - recall_3: 0.7833 - accuracy: 0.7825 - val_loss: 0.4691 - val_precision_3: 0.3104 - val_recall_3: 0.6118 - val_accuracy: 0.7705\n",
            "Epoch 22/50\n",
            "246/246 [==============================] - ETA: 0s - loss: 0.3277 - precision_3: 0.8484 - recall_3: 0.8775 - accuracy: 0.8604\n",
            "Epoch 22: val_accuracy did not improve from 0.86167\n",
            "246/246 [==============================] - 7s 27ms/step - loss: 0.3277 - precision_3: 0.8484 - recall_3: 0.8775 - accuracy: 0.8604 - val_loss: 0.4372 - val_precision_3: 0.4217 - val_recall_3: 0.7765 - val_accuracy: 0.8308\n",
            "Epoch 23/50\n",
            "245/246 [============================>.] - ETA: 0s - loss: 0.2265 - precision_3: 0.9050 - recall_3: 0.9205 - accuracy: 0.9121\n",
            "Epoch 23: val_accuracy did not improve from 0.86167\n",
            "246/246 [==============================] - 7s 27ms/step - loss: 0.2266 - precision_3: 0.9055 - recall_3: 0.9197 - accuracy: 0.9118 - val_loss: 0.3578 - val_precision_3: 0.4689 - val_recall_3: 0.6647 - val_accuracy: 0.8570\n",
            "Epoch 24/50\n",
            "245/246 [============================>.] - ETA: 0s - loss: 0.1916 - precision_3: 0.9218 - recall_3: 0.9361 - accuracy: 0.9284\n",
            "Epoch 24: val_accuracy did not improve from 0.86167\n",
            "246/246 [==============================] - 7s 27ms/step - loss: 0.1916 - precision_3: 0.9222 - recall_3: 0.9360 - accuracy: 0.9285 - val_loss: 0.4525 - val_precision_3: 0.4270 - val_recall_3: 0.6882 - val_accuracy: 0.8377\n",
            "Epoch 25/50\n",
            "246/246 [==============================] - ETA: 0s - loss: 0.1779 - precision_3: 0.9280 - recall_3: 0.9436 - accuracy: 0.9352\n",
            "Epoch 25: val_accuracy improved from 0.86167 to 0.88640, saving model to ../models/metal_model.h5\n",
            "246/246 [==============================] - 7s 27ms/step - loss: 0.1779 - precision_3: 0.9280 - recall_3: 0.9436 - accuracy: 0.9352 - val_loss: 0.2963 - val_precision_3: 0.5615 - val_recall_3: 0.6176 - val_accuracy: 0.8864\n",
            "Epoch 26/50\n",
            "245/246 [============================>.] - ETA: 0s - loss: 0.1452 - precision_3: 0.9405 - recall_3: 0.9538 - accuracy: 0.9468\n",
            "Epoch 26: val_accuracy did not improve from 0.88640\n",
            "246/246 [==============================] - 7s 27ms/step - loss: 0.1451 - precision_3: 0.9408 - recall_3: 0.9535 - accuracy: 0.9468 - val_loss: 0.3393 - val_precision_3: 0.5114 - val_recall_3: 0.6588 - val_accuracy: 0.8725\n",
            "Epoch 27/50\n",
            "245/246 [============================>.] - ETA: 0s - loss: 0.1474 - precision_3: 0.9410 - recall_3: 0.9494 - accuracy: 0.9450\n",
            "Epoch 27: val_accuracy did not improve from 0.88640\n",
            "246/246 [==============================] - 7s 27ms/step - loss: 0.1472 - precision_3: 0.9413 - recall_3: 0.9492 - accuracy: 0.9450 - val_loss: 0.3632 - val_precision_3: 0.4897 - val_recall_3: 0.7000 - val_accuracy: 0.8648\n",
            "Epoch 28/50\n",
            "246/246 [==============================] - ETA: 0s - loss: 0.1535 - precision_3: 0.9411 - recall_3: 0.9499 - accuracy: 0.9452\n",
            "Epoch 28: val_accuracy did not improve from 0.88640\n",
            "246/246 [==============================] - 7s 27ms/step - loss: 0.1535 - precision_3: 0.9411 - recall_3: 0.9499 - accuracy: 0.9452 - val_loss: 0.3196 - val_precision_3: 0.5044 - val_recall_3: 0.6706 - val_accuracy: 0.8702\n",
            "Epoch 29/50\n",
            "245/246 [============================>.] - ETA: 0s - loss: 0.1363 - precision_3: 0.9482 - recall_3: 0.9550 - accuracy: 0.9515\n",
            "Epoch 29: val_accuracy did not improve from 0.88640\n",
            "246/246 [==============================] - 7s 27ms/step - loss: 0.1362 - precision_3: 0.9485 - recall_3: 0.9550 - accuracy: 0.9516 - val_loss: 0.3092 - val_precision_3: 0.5497 - val_recall_3: 0.6176 - val_accuracy: 0.8833\n",
            "Epoch 30/50\n",
            "245/246 [============================>.] - ETA: 0s - loss: 0.1384 - precision_3: 0.9462 - recall_3: 0.9535 - accuracy: 0.9497\n",
            "Epoch 30: val_accuracy did not improve from 0.88640\n",
            "246/246 [==============================] - 7s 27ms/step - loss: 0.1383 - precision_3: 0.9465 - recall_3: 0.9535 - accuracy: 0.9498 - val_loss: 0.3247 - val_precision_3: 0.5346 - val_recall_3: 0.6824 - val_accuracy: 0.8802\n",
            "Epoch 31/50\n",
            "246/246 [==============================] - ETA: 0s - loss: 0.1424 - precision_3: 0.9413 - recall_3: 0.9535 - accuracy: 0.9470\n",
            "Epoch 31: val_accuracy did not improve from 0.88640\n",
            "246/246 [==============================] - 7s 27ms/step - loss: 0.1424 - precision_3: 0.9413 - recall_3: 0.9535 - accuracy: 0.9470 - val_loss: 0.3092 - val_precision_3: 0.5369 - val_recall_3: 0.6412 - val_accuracy: 0.8802\n",
            "Epoch 32/50\n",
            "245/246 [============================>.] - ETA: 0s - loss: 0.1415 - precision_3: 0.9449 - recall_3: 0.9545 - accuracy: 0.9495\n",
            "Epoch 32: val_accuracy did not improve from 0.88640\n",
            "246/246 [==============================] - 7s 27ms/step - loss: 0.1416 - precision_3: 0.9451 - recall_3: 0.9543 - accuracy: 0.9494 - val_loss: 0.3152 - val_precision_3: 0.5359 - val_recall_3: 0.6588 - val_accuracy: 0.8802\n",
            "Epoch 33/50\n",
            "246/246 [==============================] - ETA: 0s - loss: 0.1321 - precision_3: 0.9530 - recall_3: 0.9540 - accuracy: 0.9535\n",
            "Epoch 33: val_accuracy improved from 0.88640 to 0.89335, saving model to ../models/metal_model.h5\n",
            "246/246 [==============================] - 7s 27ms/step - loss: 0.1321 - precision_3: 0.9530 - recall_3: 0.9540 - accuracy: 0.9535 - val_loss: 0.3084 - val_precision_3: 0.5800 - val_recall_3: 0.6824 - val_accuracy: 0.8934\n",
            "Epoch 34/50\n",
            "245/246 [============================>.] - ETA: 0s - loss: 0.1277 - precision_3: 0.9504 - recall_3: 0.9548 - accuracy: 0.9526\n",
            "Epoch 34: val_accuracy did not improve from 0.89335\n",
            "246/246 [==============================] - 7s 27ms/step - loss: 0.1277 - precision_3: 0.9507 - recall_3: 0.9545 - accuracy: 0.9525 - val_loss: 0.3289 - val_precision_3: 0.5202 - val_recall_3: 0.6824 - val_accuracy: 0.8756\n",
            "Epoch 35/50\n",
            "245/246 [============================>.] - ETA: 0s - loss: 0.1323 - precision_3: 0.9482 - recall_3: 0.9543 - accuracy: 0.9511\n",
            "Epoch 35: val_accuracy did not improve from 0.89335\n",
            "246/246 [==============================] - 7s 27ms/step - loss: 0.1320 - precision_3: 0.9485 - recall_3: 0.9545 - accuracy: 0.9513 - val_loss: 0.3155 - val_precision_3: 0.5829 - val_recall_3: 0.6000 - val_accuracy: 0.8910\n",
            "Epoch 36/50\n",
            "245/246 [============================>.] - ETA: 0s - loss: 0.1252 - precision_3: 0.9511 - recall_3: 0.9545 - accuracy: 0.9528\n",
            "Epoch 36: val_accuracy did not improve from 0.89335\n",
            "246/246 [==============================] - 7s 27ms/step - loss: 0.1249 - precision_3: 0.9514 - recall_3: 0.9548 - accuracy: 0.9530 - val_loss: 0.3062 - val_precision_3: 0.5665 - val_recall_3: 0.6765 - val_accuracy: 0.8895\n",
            "Epoch 37/50\n",
            "246/246 [==============================] - ETA: 0s - loss: 0.1297 - precision_3: 0.9529 - recall_3: 0.9568 - accuracy: 0.9548\n",
            "Epoch 37: val_accuracy did not improve from 0.89335\n",
            "246/246 [==============================] - 7s 27ms/step - loss: 0.1297 - precision_3: 0.9529 - recall_3: 0.9568 - accuracy: 0.9548 - val_loss: 0.3111 - val_precision_3: 0.5728 - val_recall_3: 0.6941 - val_accuracy: 0.8918\n",
            "Epoch 38/50\n",
            "246/246 [==============================] - ETA: 0s - loss: 0.1321 - precision_3: 0.9488 - recall_3: 0.9510 - accuracy: 0.9498\n",
            "Epoch 38: val_accuracy did not improve from 0.89335\n",
            "246/246 [==============================] - 7s 27ms/step - loss: 0.1321 - precision_3: 0.9488 - recall_3: 0.9510 - accuracy: 0.9498 - val_loss: 0.3097 - val_precision_3: 0.5600 - val_recall_3: 0.6588 - val_accuracy: 0.8872\n",
            "Epoch 39/50\n",
            "245/246 [============================>.] - ETA: 0s - loss: 0.1155 - precision_3: 0.9543 - recall_3: 0.9596 - accuracy: 0.9569\n",
            "Epoch 39: val_accuracy did not improve from 0.89335\n",
            "246/246 [==============================] - 7s 27ms/step - loss: 0.1156 - precision_3: 0.9543 - recall_3: 0.9596 - accuracy: 0.9568 - val_loss: 0.3371 - val_precision_3: 0.5378 - val_recall_3: 0.7118 - val_accuracy: 0.8818\n",
            "Epoch 40/50\n",
            "246/246 [==============================] - ETA: 0s - loss: 0.1219 - precision_3: 0.9532 - recall_3: 0.9573 - accuracy: 0.9552\n",
            "Epoch 40: val_accuracy did not improve from 0.89335\n",
            "246/246 [==============================] - 7s 27ms/step - loss: 0.1219 - precision_3: 0.9532 - recall_3: 0.9573 - accuracy: 0.9552 - val_loss: 0.3259 - val_precision_3: 0.5693 - val_recall_3: 0.6765 - val_accuracy: 0.8903\n",
            "Epoch 41/50\n",
            "245/246 [============================>.] - ETA: 0s - loss: 0.1247 - precision_3: 0.9528 - recall_3: 0.9594 - accuracy: 0.9560\n",
            "Epoch 41: val_accuracy improved from 0.89335 to 0.89876, saving model to ../models/metal_model.h5\n",
            "246/246 [==============================] - 7s 27ms/step - loss: 0.1248 - precision_3: 0.9531 - recall_3: 0.9593 - accuracy: 0.9560 - val_loss: 0.2814 - val_precision_3: 0.6043 - val_recall_3: 0.6647 - val_accuracy: 0.8988\n",
            "Epoch 42/50\n",
            "245/246 [============================>.] - ETA: 0s - loss: 0.1161 - precision_3: 0.9567 - recall_3: 0.9586 - accuracy: 0.9577\n",
            "Epoch 42: val_accuracy improved from 0.89876 to 0.90572, saving model to ../models/metal_model.h5\n",
            "246/246 [==============================] - 7s 28ms/step - loss: 0.1159 - precision_3: 0.9569 - recall_3: 0.9586 - accuracy: 0.9577 - val_loss: 0.3023 - val_precision_3: 0.6263 - val_recall_3: 0.7000 - val_accuracy: 0.9057\n",
            "Epoch 43/50\n",
            "246/246 [==============================] - ETA: 0s - loss: 0.1103 - precision_3: 0.9561 - recall_3: 0.9634 - accuracy: 0.9596\n",
            "Epoch 43: val_accuracy did not improve from 0.90572\n",
            "246/246 [==============================] - 7s 27ms/step - loss: 0.1103 - precision_3: 0.9561 - recall_3: 0.9634 - accuracy: 0.9596 - val_loss: 0.3354 - val_precision_3: 0.5735 - val_recall_3: 0.6882 - val_accuracy: 0.8918\n",
            "Epoch 44/50\n",
            "245/246 [============================>.] - ETA: 0s - loss: 0.1143 - precision_3: 0.9591 - recall_3: 0.9586 - accuracy: 0.9589\n",
            "Epoch 44: val_accuracy did not improve from 0.90572\n",
            "246/246 [==============================] - 7s 27ms/step - loss: 0.1144 - precision_3: 0.9593 - recall_3: 0.9586 - accuracy: 0.9590 - val_loss: 0.3141 - val_precision_3: 0.5742 - val_recall_3: 0.7059 - val_accuracy: 0.8926\n",
            "Epoch 45/50\n",
            "246/246 [==============================] - ETA: 0s - loss: 0.1164 - precision_3: 0.9584 - recall_3: 0.9606 - accuracy: 0.9595\n",
            "Epoch 45: val_accuracy did not improve from 0.90572\n",
            "246/246 [==============================] - 7s 27ms/step - loss: 0.1164 - precision_3: 0.9584 - recall_3: 0.9606 - accuracy: 0.9595 - val_loss: 0.3577 - val_precision_3: 0.5431 - val_recall_3: 0.7412 - val_accuracy: 0.8841\n",
            "Epoch 46/50\n",
            "246/246 [==============================] - ETA: 0s - loss: 0.1154 - precision_3: 0.9578 - recall_3: 0.9568 - accuracy: 0.9573\n",
            "Epoch 46: val_accuracy did not improve from 0.90572\n",
            "246/246 [==============================] - 7s 27ms/step - loss: 0.1154 - precision_3: 0.9578 - recall_3: 0.9568 - accuracy: 0.9573 - val_loss: 0.2619 - val_precision_3: 0.6379 - val_recall_3: 0.6529 - val_accuracy: 0.9057\n",
            "Epoch 47/50\n",
            "245/246 [============================>.] - ETA: 0s - loss: 0.1214 - precision_3: 0.9554 - recall_3: 0.9573 - accuracy: 0.9564\n",
            "Epoch 47: val_accuracy improved from 0.90572 to 0.91422, saving model to ../models/metal_model.h5\n",
            "246/246 [==============================] - 7s 28ms/step - loss: 0.1213 - precision_3: 0.9556 - recall_3: 0.9573 - accuracy: 0.9564 - val_loss: 0.2609 - val_precision_3: 0.6746 - val_recall_3: 0.6706 - val_accuracy: 0.9142\n",
            "Epoch 48/50\n",
            "245/246 [============================>.] - ETA: 0s - loss: 0.1118 - precision_3: 0.9575 - recall_3: 0.9607 - accuracy: 0.9591\n",
            "Epoch 48: val_accuracy did not improve from 0.91422\n",
            "246/246 [==============================] - 7s 27ms/step - loss: 0.1117 - precision_3: 0.9577 - recall_3: 0.9606 - accuracy: 0.9591 - val_loss: 0.3008 - val_precision_3: 0.5853 - val_recall_3: 0.7471 - val_accuracy: 0.8972\n",
            "Epoch 49/50\n",
            "245/246 [============================>.] - ETA: 0s - loss: 0.1088 - precision_3: 0.9578 - recall_3: 0.9619 - accuracy: 0.9598\n",
            "Epoch 49: val_accuracy did not improve from 0.91422\n",
            "246/246 [==============================] - 7s 27ms/step - loss: 0.1085 - precision_3: 0.9580 - recall_3: 0.9621 - accuracy: 0.9600 - val_loss: 0.3160 - val_precision_3: 0.5513 - val_recall_3: 0.7588 - val_accuracy: 0.8872\n",
            "Epoch 50/50\n",
            "245/246 [============================>.] - ETA: 0s - loss: 0.1231 - precision_3: 0.9550 - recall_3: 0.9591 - accuracy: 0.9570\n",
            "Epoch 50: val_accuracy did not improve from 0.91422\n",
            "246/246 [==============================] - 7s 27ms/step - loss: 0.1232 - precision_3: 0.9550 - recall_3: 0.9593 - accuracy: 0.9571 - val_loss: 0.2910 - val_precision_3: 0.5794 - val_recall_3: 0.7294 - val_accuracy: 0.8949\n"
          ]
        }
      ],
      "source": [
        "metal_model_path = '../models/metal_model.h5'\n",
        "history = metal_model.fit(x=metal_train_ds, validation_data=metal_valid_ds, epochs=50, callbacks=[create_model_checkpoint(metal_model_path)])"
      ]
    },
    {
      "cell_type": "markdown",
      "metadata": {
        "id": "kRI215QWk4Jv"
      },
      "source": [
        "Checking the results"
      ]
    },
    {
      "cell_type": "code",
      "execution_count": 51,
      "metadata": {
        "colab": {
          "base_uri": "https://localhost:8080/",
          "height": 484
        },
        "id": "s3v3XJiWk4Jv",
        "outputId": "ccca2b41-cc2d-4f72-af9b-bc9722324d00"
      },
      "outputs": [
        {
          "name": "stdout",
          "output_type": "stream",
          "text": [
            "Found 648 validated image filenames.\n",
            "21/21 [==============================] - 1s 46ms/step\n",
            "Accuracy : 0.9151234567901234\n",
            "[[531  32]\n",
            " [ 23  62]]\n"
          ]
        },
        {
          "data": {
            "image/png": "[encoded data removed]",
            "text/plain": [
              "<Figure size 600x400 with 2 Axes>"
            ]
          },
          "metadata": {},
          "output_type": "display_data"
        }
      ],
      "source": [
        "actual_classes, predicted_classes = get_actual_vs_predictions('metal', metal_model_path)\n",
        "plot_confusion_matrix(actual_classes, predicted_classes)"
      ]
    },
    {
      "cell_type": "markdown",
      "metadata": {
        "id": "lzRIfyi3k4Jv"
      },
      "source": [
        "### Trash model"
      ]
    },
    {
      "cell_type": "markdown",
      "metadata": {
        "id": "86KSLjT9k4Jv"
      },
      "source": [
        "Doing the same steps for trash model"
      ]
    },
    {
      "cell_type": "code",
      "execution_count": 52,
      "metadata": {
        "colab": {
          "base_uri": "https://localhost:8080/"
        },
        "id": "NK5159xAk4Jv",
        "outputId": "d27adfa3-6f73-4921-8458-db1164397d32"
      },
      "outputs": [
        {
          "data": {
            "text/plain": [
              "{0: 0.5715367146101439, 1: 3.994708994708995}"
            ]
          },
          "execution_count": 52,
          "metadata": {},
          "output_type": "execute_result"
        }
      ],
      "source": [
        "trash_class_weights = compute_class_weight('balanced', classes=np.unique(training_df.trash), y=training_df.trash)\n",
        "\n",
        "trash_class_weights_dict = dict(enumerate(trash_class_weights))\n",
        "trash_class_weights_dict"
      ]
    },
    {
      "cell_type": "code",
      "execution_count": 53,
      "metadata": {
        "id": "xku5M8NMk4Jv"
      },
      "outputs": [],
      "source": [
        "trash_train_ds = load_dataset(training_df, 'trash')\n",
        "trash_valid_ds = load_dataset(validation_df, 'trash')\n",
        "\n",
        "trash_model = Sequential(layers)\n",
        "compile_model(trash_model)"
      ]
    },
    {
      "cell_type": "code",
      "execution_count": 54,
      "metadata": {
        "colab": {
          "base_uri": "https://localhost:8080/"
        },
        "id": "r7QYlJfEk4Jv",
        "outputId": "649fee38-7da1-45d3-ae33-a7ce1f31b8e3"
      },
      "outputs": [
        {
          "name": "stdout",
          "output_type": "stream",
          "text": [
            "Epoch 1/50\n",
            "    142/Unknown - 10s 46ms/step - loss: 0.6702 - precision_4: 0.3570 - recall_4: 0.6032 - accuracy: 0.8143\n",
            "Epoch 1: val_accuracy improved from -inf to 0.82844, saving model to ../models/trash_model.h5\n",
            "142/142 [==============================] - 12s 62ms/step - loss: 0.6702 - precision_4: 0.3570 - recall_4: 0.6032 - accuracy: 0.8143 - val_loss: 0.5001 - val_precision_4: 0.3958 - val_recall_4: 0.7037 - val_accuracy: 0.8284\n",
            "Epoch 2/50\n",
            "141/142 [============================>.] - ETA: 0s - loss: 0.4841 - precision_4: 0.4104 - recall_4: 0.6714 - accuracy: 0.8378\n",
            "Epoch 2: val_accuracy improved from 0.82844 to 0.83230, saving model to ../models/trash_model.h5\n",
            "142/142 [==============================] - 4s 29ms/step - loss: 0.4838 - precision_4: 0.4099 - recall_4: 0.6702 - accuracy: 0.8380 - val_loss: 0.4405 - val_precision_4: 0.4021 - val_recall_4: 0.6975 - val_accuracy: 0.8323\n",
            "Epoch 3/50\n",
            "140/142 [============================>.] - ETA: 0s - loss: 0.5988 - precision_4: 0.4030 - recall_4: 0.6315 - accuracy: 0.8373\n",
            "Epoch 3: val_accuracy improved from 0.83230 to 0.84158, saving model to ../models/trash_model.h5\n",
            "142/142 [==============================] - 4s 29ms/step - loss: 0.5971 - precision_4: 0.4072 - recall_4: 0.6349 - accuracy: 0.8386 - val_loss: 0.4105 - val_precision_4: 0.4183 - val_recall_4: 0.6790 - val_accuracy: 0.8416\n",
            "Epoch 4/50\n",
            "141/142 [============================>.] - ETA: 0s - loss: 0.4717 - precision_4: 0.4010 - recall_4: 0.6873 - accuracy: 0.8320\n",
            "Epoch 4: val_accuracy did not improve from 0.84158\n",
            "142/142 [==============================] - 4s 29ms/step - loss: 0.4713 - precision_4: 0.4010 - recall_4: 0.6861 - accuracy: 0.8325 - val_loss: 0.3994 - val_precision_4: 0.4054 - val_recall_4: 0.7407 - val_accuracy: 0.8315\n",
            "Epoch 5/50\n",
            "141/142 [============================>.] - ETA: 0s - loss: 0.4311 - precision_4: 0.3890 - recall_4: 0.7527 - accuracy: 0.8207\n",
            "Epoch 5: val_accuracy did not improve from 0.84158\n",
            "142/142 [==============================] - 4s 28ms/step - loss: 0.4311 - precision_4: 0.3890 - recall_4: 0.7513 - accuracy: 0.8212 - val_loss: 0.3879 - val_precision_4: 0.4110 - val_recall_4: 0.7407 - val_accuracy: 0.8346\n",
            "Epoch 6/50\n",
            "141/142 [============================>.] - ETA: 0s - loss: 0.4432 - precision_4: 0.3769 - recall_4: 0.7385 - accuracy: 0.8141\n",
            "Epoch 6: val_accuracy did not improve from 0.84158\n",
            "142/142 [==============================] - 4s 28ms/step - loss: 0.4428 - precision_4: 0.3769 - recall_4: 0.7372 - accuracy: 0.8146 - val_loss: 0.4262 - val_precision_4: 0.3660 - val_recall_4: 0.7840 - val_accuracy: 0.8029\n",
            "Epoch 7/50\n",
            "141/142 [============================>.] - ETA: 0s - loss: 0.4186 - precision_4: 0.3942 - recall_4: 0.8127 - accuracy: 0.8198\n",
            "Epoch 7: val_accuracy improved from 0.84158 to 0.84235, saving model to ../models/trash_model.h5\n",
            "142/142 [==============================] - 4s 29ms/step - loss: 0.4185 - precision_4: 0.3942 - recall_4: 0.8113 - accuracy: 0.8203 - val_loss: 0.3611 - val_precision_4: 0.4281 - val_recall_4: 0.7716 - val_accuracy: 0.8423\n",
            "Epoch 8/50\n",
            "141/142 [============================>.] - ETA: 0s - loss: 0.4089 - precision_4: 0.3966 - recall_4: 0.8269 - accuracy: 0.8205\n",
            "Epoch 8: val_accuracy did not improve from 0.84235\n",
            "142/142 [==============================] - 4s 28ms/step - loss: 0.4086 - precision_4: 0.3963 - recall_4: 0.8254 - accuracy: 0.8208 - val_loss: 0.3927 - val_precision_4: 0.3969 - val_recall_4: 0.7963 - val_accuracy: 0.8230\n",
            "Epoch 9/50\n",
            "141/142 [============================>.] - ETA: 0s - loss: 0.3963 - precision_4: 0.3928 - recall_4: 0.8481 - accuracy: 0.8165\n",
            "Epoch 9: val_accuracy did not improve from 0.84235\n",
            "142/142 [==============================] - 4s 29ms/step - loss: 0.3955 - precision_4: 0.3930 - recall_4: 0.8483 - accuracy: 0.8170 - val_loss: 0.4249 - val_precision_4: 0.3795 - val_recall_4: 0.8457 - val_accuracy: 0.8076\n",
            "Epoch 10/50\n",
            "141/142 [============================>.] - ETA: 0s - loss: 0.3923 - precision_4: 0.3873 - recall_4: 0.8534 - accuracy: 0.8123\n",
            "Epoch 10: val_accuracy did not improve from 0.84235\n",
            "142/142 [==============================] - 4s 29ms/step - loss: 0.3917 - precision_4: 0.3875 - recall_4: 0.8536 - accuracy: 0.8128 - val_loss: 0.3508 - val_precision_4: 0.4033 - val_recall_4: 0.7469 - val_accuracy: 0.8300\n",
            "Epoch 11/50\n",
            "141/142 [============================>.] - ETA: 0s - loss: 0.3822 - precision_4: 0.3757 - recall_4: 0.8463 - accuracy: 0.8043\n",
            "Epoch 11: val_accuracy improved from 0.84235 to 0.85394, saving model to ../models/trash_model.h5\n",
            "142/142 [==============================] - 4s 29ms/step - loss: 0.3815 - precision_4: 0.3759 - recall_4: 0.8466 - accuracy: 0.8049 - val_loss: 0.3247 - val_precision_4: 0.4513 - val_recall_4: 0.7716 - val_accuracy: 0.8539\n",
            "Epoch 12/50\n",
            "141/142 [============================>.] - ETA: 0s - loss: 0.3601 - precision_4: 0.4094 - recall_4: 0.8587 - accuracy: 0.8269\n",
            "Epoch 12: val_accuracy did not improve from 0.85394\n",
            "142/142 [==============================] - 4s 28ms/step - loss: 0.3595 - precision_4: 0.4096 - recall_4: 0.8589 - accuracy: 0.8274 - val_loss: 0.3623 - val_precision_4: 0.4114 - val_recall_4: 0.8025 - val_accuracy: 0.8315\n",
            "Epoch 13/50\n",
            "141/142 [============================>.] - ETA: 0s - loss: 0.3828 - precision_4: 0.4111 - recall_4: 0.8534 - accuracy: 0.8282\n",
            "Epoch 13: val_accuracy did not improve from 0.85394\n",
            "142/142 [==============================] - 4s 29ms/step - loss: 0.3819 - precision_4: 0.4116 - recall_4: 0.8536 - accuracy: 0.8289 - val_loss: 0.3208 - val_precision_4: 0.4478 - val_recall_4: 0.7407 - val_accuracy: 0.8532\n",
            "Epoch 14/50\n",
            "140/142 [============================>.] - ETA: 0s - loss: 0.3607 - precision_4: 0.4252 - recall_4: 0.8748 - accuracy: 0.8368\n",
            "Epoch 14: val_accuracy improved from 0.85394 to 0.85703, saving model to ../models/trash_model.h5\n",
            "142/142 [==============================] - 4s 29ms/step - loss: 0.3602 - precision_4: 0.4276 - recall_4: 0.8748 - accuracy: 0.8377 - val_loss: 0.3208 - val_precision_4: 0.4545 - val_recall_4: 0.7099 - val_accuracy: 0.8570\n",
            "Epoch 15/50\n",
            "141/142 [============================>.] - ETA: 0s - loss: 0.3779 - precision_4: 0.4052 - recall_4: 0.8763 - accuracy: 0.8231\n",
            "Epoch 15: val_accuracy did not improve from 0.85703\n",
            "142/142 [==============================] - 4s 28ms/step - loss: 0.3771 - precision_4: 0.4054 - recall_4: 0.8765 - accuracy: 0.8236 - val_loss: 0.3827 - val_precision_4: 0.3924 - val_recall_4: 0.8333 - val_accuracy: 0.8176\n",
            "Epoch 16/50\n",
            "140/142 [============================>.] - ETA: 0s - loss: 0.3627 - precision_4: 0.4041 - recall_4: 0.8551 - accuracy: 0.8246\n",
            "Epoch 16: val_accuracy did not improve from 0.85703\n",
            "142/142 [==============================] - 4s 28ms/step - loss: 0.3618 - precision_4: 0.4062 - recall_4: 0.8554 - accuracy: 0.8254 - val_loss: 0.3247 - val_precision_4: 0.4404 - val_recall_4: 0.7531 - val_accuracy: 0.8493\n",
            "Epoch 17/50\n",
            "141/142 [============================>.] - ETA: 0s - loss: 0.3403 - precision_4: 0.4259 - recall_4: 0.8728 - accuracy: 0.8364\n",
            "Epoch 17: val_accuracy improved from 0.85703 to 0.86553, saving model to ../models/trash_model.h5\n",
            "142/142 [==============================] - 4s 29ms/step - loss: 0.3396 - precision_4: 0.4264 - recall_4: 0.8730 - accuracy: 0.8371 - val_loss: 0.2917 - val_precision_4: 0.4774 - val_recall_4: 0.7840 - val_accuracy: 0.8655\n",
            "Epoch 18/50\n",
            "141/142 [============================>.] - ETA: 0s - loss: 0.3640 - precision_4: 0.4055 - recall_4: 0.8799 - accuracy: 0.8231\n",
            "Epoch 18: val_accuracy did not improve from 0.86553\n",
            "142/142 [==============================] - 4s 28ms/step - loss: 0.3630 - precision_4: 0.4060 - recall_4: 0.8801 - accuracy: 0.8238 - val_loss: 0.2953 - val_precision_4: 0.4767 - val_recall_4: 0.7593 - val_accuracy: 0.8655\n",
            "Epoch 19/50\n",
            "141/142 [============================>.] - ETA: 0s - loss: 0.3944 - precision_4: 0.3779 - recall_4: 0.8198 - accuracy: 0.8081\n",
            "Epoch 19: val_accuracy did not improve from 0.86553\n",
            "142/142 [==============================] - 4s 28ms/step - loss: 0.3938 - precision_4: 0.3779 - recall_4: 0.8183 - accuracy: 0.8086 - val_loss: 0.3338 - val_precision_4: 0.4420 - val_recall_4: 0.7531 - val_accuracy: 0.8501\n",
            "Epoch 20/50\n",
            "141/142 [============================>.] - ETA: 0s - loss: 0.3490 - precision_4: 0.4093 - recall_4: 0.8728 - accuracy: 0.8260\n",
            "Epoch 20: val_accuracy did not improve from 0.86553\n",
            "142/142 [==============================] - 4s 28ms/step - loss: 0.3491 - precision_4: 0.4093 - recall_4: 0.8713 - accuracy: 0.8265 - val_loss: 0.3039 - val_precision_4: 0.4684 - val_recall_4: 0.6852 - val_accuracy: 0.8632\n",
            "Epoch 21/50\n",
            "140/142 [============================>.] - ETA: 0s - loss: 0.3477 - precision_4: 0.4273 - recall_4: 0.8676 - accuracy: 0.8384\n",
            "Epoch 21: val_accuracy improved from 0.86553 to 0.87635, saving model to ../models/trash_model.h5\n",
            "142/142 [==============================] - 4s 29ms/step - loss: 0.3460 - precision_4: 0.4301 - recall_4: 0.8677 - accuracy: 0.8395 - val_loss: 0.2862 - val_precision_4: 0.5044 - val_recall_4: 0.7099 - val_accuracy: 0.8764\n",
            "Epoch 22/50\n",
            "141/142 [============================>.] - ETA: 0s - loss: 0.3681 - precision_4: 0.4209 - recall_4: 0.8693 - accuracy: 0.8336\n",
            "Epoch 22: val_accuracy did not improve from 0.87635\n",
            "142/142 [==============================] - 4s 28ms/step - loss: 0.3681 - precision_4: 0.4205 - recall_4: 0.8677 - accuracy: 0.8338 - val_loss: 0.3752 - val_precision_4: 0.3919 - val_recall_4: 0.8395 - val_accuracy: 0.8168\n",
            "Epoch 23/50\n",
            "141/142 [============================>.] - ETA: 0s - loss: 0.3512 - precision_4: 0.4243 - recall_4: 0.8869 - accuracy: 0.8349\n",
            "Epoch 23: val_accuracy did not improve from 0.87635\n",
            "142/142 [==============================] - 4s 29ms/step - loss: 0.3507 - precision_4: 0.4240 - recall_4: 0.8854 - accuracy: 0.8351 - val_loss: 0.3124 - val_precision_4: 0.4583 - val_recall_4: 0.7469 - val_accuracy: 0.8578\n",
            "Epoch 24/50\n",
            "141/142 [============================>.] - ETA: 0s - loss: 0.3535 - precision_4: 0.4242 - recall_4: 0.8799 - accuracy: 0.8351\n",
            "Epoch 24: val_accuracy did not improve from 0.87635\n",
            "142/142 [==============================] - 4s 28ms/step - loss: 0.3535 - precision_4: 0.4238 - recall_4: 0.8783 - accuracy: 0.8353 - val_loss: 0.3265 - val_precision_4: 0.4403 - val_recall_4: 0.7963 - val_accuracy: 0.8478\n",
            "Epoch 25/50\n",
            "140/142 [============================>.] - ETA: 0s - loss: 0.3403 - precision_4: 0.4374 - recall_4: 0.8748 - accuracy: 0.8440\n",
            "Epoch 25: val_accuracy did not improve from 0.87635\n",
            "142/142 [==============================] - 4s 28ms/step - loss: 0.3395 - precision_4: 0.4392 - recall_4: 0.8730 - accuracy: 0.8446 - val_loss: 0.3076 - val_precision_4: 0.4624 - val_recall_4: 0.7963 - val_accuracy: 0.8586\n",
            "Epoch 26/50\n",
            "140/142 [============================>.] - ETA: 0s - loss: 0.3318 - precision_4: 0.4300 - recall_4: 0.8962 - accuracy: 0.8388\n",
            "Epoch 26: val_accuracy did not improve from 0.87635\n",
            "142/142 [==============================] - 4s 28ms/step - loss: 0.3332 - precision_4: 0.4319 - recall_4: 0.8942 - accuracy: 0.8395 - val_loss: 0.3040 - val_precision_4: 0.4748 - val_recall_4: 0.8148 - val_accuracy: 0.8640\n",
            "Epoch 27/50\n",
            "140/142 [============================>.] - ETA: 0s - loss: 0.3259 - precision_4: 0.4411 - recall_4: 0.8837 - accuracy: 0.8458\n",
            "Epoch 27: val_accuracy did not improve from 0.87635\n",
            "142/142 [==============================] - 4s 28ms/step - loss: 0.3254 - precision_4: 0.4429 - recall_4: 0.8818 - accuracy: 0.8464 - val_loss: 0.3080 - val_precision_4: 0.4704 - val_recall_4: 0.7840 - val_accuracy: 0.8624\n",
            "Epoch 28/50\n",
            "140/142 [============================>.] - ETA: 0s - loss: 0.3102 - precision_4: 0.4455 - recall_4: 0.8855 - accuracy: 0.8482\n",
            "Epoch 28: val_accuracy did not improve from 0.87635\n",
            "142/142 [==============================] - 4s 28ms/step - loss: 0.3101 - precision_4: 0.4469 - recall_4: 0.8836 - accuracy: 0.8486 - val_loss: 0.2830 - val_precision_4: 0.4940 - val_recall_4: 0.7654 - val_accuracy: 0.8725\n",
            "Epoch 29/50\n",
            "141/142 [============================>.] - ETA: 0s - loss: 0.3114 - precision_4: 0.4424 - recall_4: 0.8958 - accuracy: 0.8453\n",
            "Epoch 29: val_accuracy did not improve from 0.87635\n",
            "142/142 [==============================] - 4s 28ms/step - loss: 0.3110 - precision_4: 0.4420 - recall_4: 0.8942 - accuracy: 0.8455 - val_loss: 0.3078 - val_precision_4: 0.4644 - val_recall_4: 0.7654 - val_accuracy: 0.8601\n",
            "Epoch 30/50\n",
            "141/142 [============================>.] - ETA: 0s - loss: 0.3052 - precision_4: 0.4496 - recall_4: 0.8905 - accuracy: 0.8495\n",
            "Epoch 30: val_accuracy improved from 0.87635 to 0.88794, saving model to ../models/trash_model.h5\n",
            "142/142 [==============================] - 4s 29ms/step - loss: 0.3060 - precision_4: 0.4492 - recall_4: 0.8889 - accuracy: 0.8497 - val_loss: 0.2643 - val_precision_4: 0.5368 - val_recall_4: 0.7654 - val_accuracy: 0.8879\n",
            "Epoch 31/50\n",
            "141/142 [============================>.] - ETA: 0s - loss: 0.3056 - precision_4: 0.4623 - recall_4: 0.8993 - accuracy: 0.8562\n",
            "Epoch 31: val_accuracy did not improve from 0.88794\n",
            "142/142 [==============================] - 4s 28ms/step - loss: 0.3049 - precision_4: 0.4624 - recall_4: 0.8995 - accuracy: 0.8565 - val_loss: 0.3191 - val_precision_4: 0.4655 - val_recall_4: 0.8333 - val_accuracy: 0.8594\n",
            "Epoch 32/50\n",
            "140/142 [============================>.] - ETA: 0s - loss: 0.3183 - precision_4: 0.4353 - recall_4: 0.8909 - accuracy: 0.8422\n",
            "Epoch 32: val_accuracy did not improve from 0.88794\n",
            "142/142 [==============================] - 4s 28ms/step - loss: 0.3182 - precision_4: 0.4375 - recall_4: 0.8889 - accuracy: 0.8430 - val_loss: 0.2903 - val_precision_4: 0.4958 - val_recall_4: 0.7222 - val_accuracy: 0.8733\n",
            "Epoch 33/50\n",
            "141/142 [============================>.] - ETA: 0s - loss: 0.2998 - precision_4: 0.4655 - recall_4: 0.9064 - accuracy: 0.8577\n",
            "Epoch 33: val_accuracy did not improve from 0.88794\n",
            "142/142 [==============================] - 4s 28ms/step - loss: 0.3003 - precision_4: 0.4655 - recall_4: 0.9048 - accuracy: 0.8581 - val_loss: 0.2677 - val_precision_4: 0.5339 - val_recall_4: 0.7284 - val_accuracy: 0.8864\n",
            "Epoch 34/50\n",
            "141/142 [============================>.] - ETA: 0s - loss: 0.3023 - precision_4: 0.4640 - recall_4: 0.8887 - accuracy: 0.8573\n",
            "Epoch 34: val_accuracy did not improve from 0.88794\n",
            "142/142 [==============================] - 4s 29ms/step - loss: 0.3017 - precision_4: 0.4641 - recall_4: 0.8889 - accuracy: 0.8576 - val_loss: 0.3215 - val_precision_4: 0.4701 - val_recall_4: 0.7778 - val_accuracy: 0.8624\n",
            "Epoch 35/50\n",
            "140/142 [============================>.] - ETA: 0s - loss: 0.2916 - precision_4: 0.4698 - recall_4: 0.8891 - accuracy: 0.8609\n",
            "Epoch 35: val_accuracy did not improve from 0.88794\n",
            "142/142 [==============================] - 4s 28ms/step - loss: 0.2920 - precision_4: 0.4728 - recall_4: 0.8889 - accuracy: 0.8620 - val_loss: 0.2985 - val_precision_4: 0.5210 - val_recall_4: 0.7654 - val_accuracy: 0.8825\n",
            "Epoch 36/50\n",
            "140/142 [============================>.] - ETA: 0s - loss: 0.3846 - precision_4: 0.4473 - recall_4: 0.8354 - accuracy: 0.8507\n",
            "Epoch 36: val_accuracy did not improve from 0.88794\n",
            "142/142 [==============================] - 4s 28ms/step - loss: 0.3833 - precision_4: 0.4501 - recall_4: 0.8360 - accuracy: 0.8517 - val_loss: 0.3509 - val_precision_4: 0.4325 - val_recall_4: 0.7716 - val_accuracy: 0.8447\n",
            "Epoch 37/50\n",
            "141/142 [============================>.] - ETA: 0s - loss: 0.3145 - precision_4: 0.4679 - recall_4: 0.8763 - accuracy: 0.8595\n",
            "Epoch 37: val_accuracy did not improve from 0.88794\n",
            "142/142 [==============================] - 4s 29ms/step - loss: 0.3141 - precision_4: 0.4675 - recall_4: 0.8748 - accuracy: 0.8596 - val_loss: 0.2946 - val_precision_4: 0.5217 - val_recall_4: 0.8148 - val_accuracy: 0.8833\n",
            "Epoch 38/50\n",
            "140/142 [============================>.] - ETA: 0s - loss: 0.3189 - precision_4: 0.4643 - recall_4: 0.8837 - accuracy: 0.8583\n",
            "Epoch 38: val_accuracy did not improve from 0.88794\n",
            "142/142 [==============================] - 4s 28ms/step - loss: 0.3177 - precision_4: 0.4678 - recall_4: 0.8854 - accuracy: 0.8596 - val_loss: 0.2629 - val_precision_4: 0.5249 - val_recall_4: 0.7160 - val_accuracy: 0.8833\n",
            "Epoch 39/50\n",
            "141/142 [============================>.] - ETA: 0s - loss: 0.2988 - precision_4: 0.4951 - recall_4: 0.8975 - accuracy: 0.8723\n",
            "Epoch 39: val_accuracy did not improve from 0.88794\n",
            "142/142 [==============================] - 4s 28ms/step - loss: 0.2984 - precision_4: 0.4951 - recall_4: 0.8959 - accuracy: 0.8726 - val_loss: 0.3123 - val_precision_4: 0.4701 - val_recall_4: 0.7284 - val_accuracy: 0.8632\n",
            "Epoch 40/50\n",
            "140/142 [============================>.] - ETA: 0s - loss: 0.2876 - precision_4: 0.4870 - recall_4: 0.9052 - accuracy: 0.8692\n",
            "Epoch 40: val_accuracy did not improve from 0.88794\n",
            "142/142 [==============================] - 4s 29ms/step - loss: 0.2866 - precision_4: 0.4890 - recall_4: 0.9048 - accuracy: 0.8698 - val_loss: 0.3246 - val_precision_4: 0.4783 - val_recall_4: 0.7469 - val_accuracy: 0.8663\n",
            "Epoch 41/50\n",
            "140/142 [============================>.] - ETA: 0s - loss: 0.3151 - precision_4: 0.4503 - recall_4: 0.8837 - accuracy: 0.8509\n",
            "Epoch 41: val_accuracy improved from 0.88794 to 0.89104, saving model to ../models/trash_model.h5\n",
            "142/142 [==============================] - 4s 29ms/step - loss: 0.3143 - precision_4: 0.4522 - recall_4: 0.8836 - accuracy: 0.8514 - val_loss: 0.2906 - val_precision_4: 0.5488 - val_recall_4: 0.7284 - val_accuracy: 0.8910\n",
            "Epoch 42/50\n",
            "140/142 [============================>.] - ETA: 0s - loss: 0.3024 - precision_4: 0.4659 - recall_4: 0.8909 - accuracy: 0.8589\n",
            "Epoch 42: val_accuracy did not improve from 0.89104\n",
            "142/142 [==============================] - 4s 28ms/step - loss: 0.3009 - precision_4: 0.4694 - recall_4: 0.8924 - accuracy: 0.8603 - val_loss: 0.2724 - val_precision_4: 0.5399 - val_recall_4: 0.7099 - val_accuracy: 0.8879\n",
            "Epoch 43/50\n",
            "141/142 [============================>.] - ETA: 0s - loss: 0.2787 - precision_4: 0.4843 - recall_4: 0.8993 - accuracy: 0.8672\n",
            "Epoch 43: val_accuracy did not improve from 0.89104\n",
            "142/142 [==============================] - 4s 29ms/step - loss: 0.2784 - precision_4: 0.4843 - recall_4: 0.8977 - accuracy: 0.8675 - val_loss: 0.2883 - val_precision_4: 0.5202 - val_recall_4: 0.7963 - val_accuracy: 0.8825\n",
            "Epoch 44/50\n",
            "141/142 [============================>.] - ETA: 0s - loss: 0.2683 - precision_4: 0.5074 - recall_4: 0.9081 - accuracy: 0.8779\n",
            "Epoch 44: val_accuracy improved from 0.89104 to 0.90726, saving model to ../models/trash_model.h5\n",
            "142/142 [==============================] - 4s 29ms/step - loss: 0.2684 - precision_4: 0.5069 - recall_4: 0.9065 - accuracy: 0.8779 - val_loss: 0.2479 - val_precision_4: 0.6071 - val_recall_4: 0.7346 - val_accuracy: 0.9073\n",
            "Epoch 45/50\n",
            "141/142 [============================>.] - ETA: 0s - loss: 0.2922 - precision_4: 0.4884 - recall_4: 0.8905 - accuracy: 0.8692\n",
            "Epoch 45: val_accuracy did not improve from 0.90726\n",
            "142/142 [==============================] - 4s 28ms/step - loss: 0.2923 - precision_4: 0.4874 - recall_4: 0.8889 - accuracy: 0.8691 - val_loss: 0.3648 - val_precision_4: 0.4273 - val_recall_4: 0.8704 - val_accuracy: 0.8377\n",
            "Epoch 46/50\n",
            "140/142 [============================>.] - ETA: 0s - loss: 0.3025 - precision_4: 0.4606 - recall_4: 0.8784 - accuracy: 0.8565\n",
            "Epoch 46: val_accuracy did not improve from 0.90726\n",
            "142/142 [==============================] - 4s 28ms/step - loss: 0.3016 - precision_4: 0.4641 - recall_4: 0.8783 - accuracy: 0.8578 - val_loss: 0.2418 - val_precision_4: 0.6020 - val_recall_4: 0.7469 - val_accuracy: 0.9065\n",
            "Epoch 47/50\n",
            "140/142 [============================>.] - ETA: 0s - loss: 0.2635 - precision_4: 0.5030 - recall_4: 0.8909 - accuracy: 0.8766\n",
            "Epoch 47: val_accuracy did not improve from 0.90726\n",
            "142/142 [==============================] - 4s 28ms/step - loss: 0.2632 - precision_4: 0.5050 - recall_4: 0.8907 - accuracy: 0.8770 - val_loss: 0.2316 - val_precision_4: 0.5915 - val_recall_4: 0.7778 - val_accuracy: 0.9049\n",
            "Epoch 48/50\n",
            "140/142 [============================>.] - ETA: 0s - loss: 0.2748 - precision_4: 0.4985 - recall_4: 0.8998 - accuracy: 0.8746\n",
            "Epoch 48: val_accuracy did not improve from 0.90726\n",
            "142/142 [==============================] - 4s 28ms/step - loss: 0.2738 - precision_4: 0.5010 - recall_4: 0.8995 - accuracy: 0.8753 - val_loss: 0.2412 - val_precision_4: 0.5891 - val_recall_4: 0.7346 - val_accuracy: 0.9026\n",
            "Epoch 49/50\n",
            "141/142 [============================>.] - ETA: 0s - loss: 0.2649 - precision_4: 0.5114 - recall_4: 0.9152 - accuracy: 0.8797\n",
            "Epoch 49: val_accuracy did not improve from 0.90726\n",
            "142/142 [==============================] - 4s 28ms/step - loss: 0.2651 - precision_4: 0.5108 - recall_4: 0.9136 - accuracy: 0.8797 - val_loss: 0.2827 - val_precision_4: 0.5191 - val_recall_4: 0.7531 - val_accuracy: 0.8818\n",
            "Epoch 50/50\n",
            "140/142 [============================>.] - ETA: 0s - loss: 0.2824 - precision_4: 0.4995 - recall_4: 0.8945 - accuracy: 0.8750\n",
            "Epoch 50: val_accuracy did not improve from 0.90726\n",
            "142/142 [==============================] - 4s 29ms/step - loss: 0.2809 - precision_4: 0.5025 - recall_4: 0.8959 - accuracy: 0.8759 - val_loss: 0.2548 - val_precision_4: 0.5344 - val_recall_4: 0.8148 - val_accuracy: 0.8879\n"
          ]
        }
      ],
      "source": [
        "trash_model_path = '../models/trash_model.h5'\n",
        "history = trash_model.fit(x=trash_train_ds, validation_data=trash_valid_ds, class_weight=trash_class_weights_dict, epochs=50, callbacks=[create_model_checkpoint(trash_model_path)])"
      ]
    },
    {
      "cell_type": "code",
      "execution_count": 55,
      "metadata": {
        "colab": {
          "base_uri": "https://localhost:8080/",
          "height": 484
        },
        "id": "mKr11Ugnk4Jv",
        "outputId": "14c4e75b-7136-486f-82e9-493e07f43029"
      },
      "outputs": [
        {
          "name": "stdout",
          "output_type": "stream",
          "text": [
            "Found 648 validated image filenames.\n",
            "21/21 [==============================] - 1s 44ms/step\n",
            "Accuracy : 0.8935185185185185\n",
            "[[522  45]\n",
            " [ 24  57]]\n"
          ]
        },
        {
          "data": {
            "image/png": "[encoded data removed]",
            "text/plain": [
              "<Figure size 600x400 with 2 Axes>"
            ]
          },
          "metadata": {},
          "output_type": "display_data"
        }
      ],
      "source": [
        "actual_classes, predicted_classes = get_actual_vs_predictions('trash', trash_model_path)\n",
        "plot_confusion_matrix(actual_classes, predicted_classes)"
      ]
    },
    {
      "cell_type": "markdown",
      "metadata": {
        "id": "QsPgFYw4k4Jw"
      },
      "source": [
        "## Undersampling"
      ]
    },
    {
      "cell_type": "markdown",
      "metadata": {
        "id": "pvkNNuSZk4Jw"
      },
      "source": [
        "We are creating a method that will randomly undersample our majority class to balance our data"
      ]
    },
    {
      "cell_type": "code",
      "execution_count": 56,
      "metadata": {
        "id": "ocDLur8Yk4Jw"
      },
      "outputs": [],
      "source": [
        "from imblearn.under_sampling import RandomUnderSampler\n",
        "import pandas as pd\n",
        "\n",
        "def randomly_undersampling_df(column_class, dataframe) -> pd.DataFrame:\n",
        "    # Define features (X) and target (y)\n",
        "    X = dataframe.drop(column_class, axis=1)  # Features\n",
        "    y = dataframe[column_class]  # Target variable\n",
        "\n",
        "    # Define Random Undersampler\n",
        "    undersampler = RandomUnderSampler(sampling_strategy='majority', random_state=42)\n",
        "\n",
        "    # Fit and apply the undersampling method to your dataset\n",
        "    X_resampled, y_resampled = undersampler.fit_resample(X, y)\n",
        "\n",
        "    # Convert the undersampled data back to a DataFrame\n",
        "    undersampled_df = pd.DataFrame(X_resampled, columns=X.columns)\n",
        "    undersampled_df[column_class] = y_resampled\n",
        "\n",
        "    return undersampled_df"
      ]
    },
    {
      "cell_type": "markdown",
      "metadata": {
        "id": "VQZiawX5k4Jw"
      },
      "source": [
        "### Glass undersampling"
      ]
    },
    {
      "cell_type": "markdown",
      "metadata": {
        "id": "ikeYcgtNk4Jw"
      },
      "source": [
        "We are undersampling the glass data"
      ]
    },
    {
      "cell_type": "code",
      "execution_count": 57,
      "metadata": {
        "colab": {
          "base_uri": "https://localhost:8080/"
        },
        "id": "JEhNcgzhk4Jw",
        "outputId": "1524c6a7-347f-4c5d-a72c-43ed7c7308a7"
      },
      "outputs": [
        {
          "data": {
            "text/plain": [
              "glass\n",
              "0    2010\n",
              "1    2010\n",
              "Name: count, dtype: int64"
            ]
          },
          "execution_count": 57,
          "metadata": {},
          "output_type": "execute_result"
        }
      ],
      "source": [
        "undersample_glass_df = randomly_undersampling_df('glass', df)\n",
        "\n",
        "undersample_glass_df.glass.value_counts()"
      ]
    },
    {
      "cell_type": "markdown",
      "metadata": {
        "id": "-2WjNbXBk4Jx"
      },
      "source": [
        "Then we are splitting the data into train, validation and test"
      ]
    },
    {
      "cell_type": "code",
      "execution_count": 58,
      "metadata": {
        "id": "3AraSqYBk4Jx"
      },
      "outputs": [],
      "source": [
        "undersample_glass_train, undersample_glass_valid, undersample_glass_test = split_data_evenly(undersample_glass_df, classes_column='glass')"
      ]
    },
    {
      "cell_type": "markdown",
      "metadata": {
        "id": "dNE1ghdmk4Jx"
      },
      "source": [
        "Loading the data and compiling the model"
      ]
    },
    {
      "cell_type": "code",
      "execution_count": 59,
      "metadata": {
        "id": "UKIGDiNuk4Jx"
      },
      "outputs": [],
      "source": [
        "glass_train_ds = load_dataset(undersample_glass_train, 'glass')\n",
        "glass_valid_ds = load_dataset(validation_df, 'glass')\n",
        "\n",
        "glass_model = Sequential(layers)\n",
        "compile_model(glass_model)"
      ]
    },
    {
      "cell_type": "markdown",
      "metadata": {
        "id": "nU7b51Duk4Jx"
      },
      "source": [
        "Training the model"
      ]
    },
    {
      "cell_type": "code",
      "execution_count": 60,
      "metadata": {
        "colab": {
          "base_uri": "https://localhost:8080/"
        },
        "id": "nJIYmaqdk4Jx",
        "outputId": "c0c23f53-72a7-4dfb-a18e-bf2c512c7a0f"
      },
      "outputs": [
        {
          "name": "stdout",
          "output_type": "stream",
          "text": [
            "Epoch 1/50\n",
            "     88/Unknown - 8s 61ms/step - loss: 0.7756 - precision_5: 0.6582 - recall_5: 0.5693 - accuracy: 0.6368\n",
            "Epoch 1: val_accuracy improved from -inf to 0.72179, saving model to ../models/glass_model.h5\n",
            "88/88 [==============================] - 10s 88ms/step - loss: 0.7756 - precision_5: 0.6582 - recall_5: 0.5693 - accuracy: 0.6368 - val_loss: 0.5468 - val_precision_5: 0.5451 - val_recall_5: 0.6318 - val_accuracy: 0.7218\n",
            "Epoch 2/50\n",
            "86/88 [============================>.] - ETA: 0s - loss: 0.5027 - precision_5: 0.7519 - recall_5: 0.7208 - accuracy: 0.7409\n",
            "Epoch 2: val_accuracy improved from 0.72179 to 0.78053, saving model to ../models/glass_model.h5\n",
            "88/88 [==============================] - 3s 31ms/step - loss: 0.5013 - precision_5: 0.7506 - recall_5: 0.7228 - accuracy: 0.7413 - val_loss: 0.4871 - val_precision_5: 0.6234 - val_recall_5: 0.7413 - val_accuracy: 0.7805\n",
            "Epoch 3/50\n",
            "87/88 [============================>.] - ETA: 0s - loss: 0.4726 - precision_5: 0.7873 - recall_5: 0.7324 - accuracy: 0.7676\n",
            "Epoch 3: val_accuracy improved from 0.78053 to 0.81453, saving model to ../models/glass_model.h5\n",
            "88/88 [==============================] - 3s 31ms/step - loss: 0.4717 - precision_5: 0.7873 - recall_5: 0.7342 - accuracy: 0.7679 - val_loss: 0.4097 - val_precision_5: 0.6866 - val_recall_5: 0.7413 - val_accuracy: 0.8145\n",
            "Epoch 4/50\n",
            "88/88 [==============================] - ETA: 0s - loss: 0.4341 - precision_5: 0.8057 - recall_5: 0.7662 - accuracy: 0.7907\n",
            "Epoch 4: val_accuracy improved from 0.81453 to 0.85008, saving model to ../models/glass_model.h5\n",
            "88/88 [==============================] - 3s 31ms/step - loss: 0.4341 - precision_5: 0.8057 - recall_5: 0.7662 - accuracy: 0.7907 - val_loss: 0.3620 - val_precision_5: 0.7811 - val_recall_5: 0.7189 - val_accuracy: 0.8501\n",
            "Epoch 5/50\n",
            "86/88 [============================>.] - ETA: 0s - loss: 0.4330 - precision_5: 0.8005 - recall_5: 0.7708 - accuracy: 0.7889\n",
            "Epoch 5: val_accuracy did not improve from 0.85008\n",
            "88/88 [==============================] - 3s 30ms/step - loss: 0.4312 - precision_5: 0.8006 - recall_5: 0.7733 - accuracy: 0.7903 - val_loss: 0.3853 - val_precision_5: 0.7353 - val_recall_5: 0.7463 - val_accuracy: 0.8377\n",
            "Epoch 6/50\n",
            "87/88 [============================>.] - ETA: 0s - loss: 0.3984 - precision_5: 0.8165 - recall_5: 0.8065 - accuracy: 0.8129\n",
            "Epoch 6: val_accuracy did not improve from 0.85008\n",
            "88/88 [==============================] - 3s 30ms/step - loss: 0.3979 - precision_5: 0.8177 - recall_5: 0.8067 - accuracy: 0.8134 - val_loss: 0.3829 - val_precision_5: 0.6857 - val_recall_5: 0.7761 - val_accuracy: 0.8199\n",
            "Epoch 7/50\n",
            "88/88 [==============================] - ETA: 0s - loss: 0.3965 - precision_5: 0.8260 - recall_5: 0.8131 - accuracy: 0.8209\n",
            "Epoch 7: val_accuracy improved from 0.85008 to 0.85471, saving model to ../models/glass_model.h5\n",
            "88/88 [==============================] - 3s 31ms/step - loss: 0.3965 - precision_5: 0.8260 - recall_5: 0.8131 - accuracy: 0.8209 - val_loss: 0.3683 - val_precision_5: 0.7524 - val_recall_5: 0.7935 - val_accuracy: 0.8547\n",
            "Epoch 8/50\n",
            "87/88 [============================>.] - ETA: 0s - loss: 0.3899 - precision_5: 0.8337 - recall_5: 0.7899 - accuracy: 0.8165\n",
            "Epoch 8: val_accuracy improved from 0.85471 to 0.85626, saving model to ../models/glass_model.h5\n",
            "88/88 [==============================] - 3s 31ms/step - loss: 0.3893 - precision_5: 0.8350 - recall_5: 0.7910 - accuracy: 0.8173 - val_loss: 0.3446 - val_precision_5: 0.7687 - val_recall_5: 0.7687 - val_accuracy: 0.8563\n",
            "Epoch 9/50\n",
            "87/88 [============================>.] - ETA: 0s - loss: 0.3680 - precision_5: 0.8372 - recall_5: 0.8252 - accuracy: 0.8326\n",
            "Epoch 9: val_accuracy did not improve from 0.85626\n",
            "88/88 [==============================] - 3s 30ms/step - loss: 0.3675 - precision_5: 0.8383 - recall_5: 0.8252 - accuracy: 0.8330 - val_loss: 0.3467 - val_precision_5: 0.7435 - val_recall_5: 0.7861 - val_accuracy: 0.8493\n",
            "Epoch 10/50\n",
            "87/88 [============================>.] - ETA: 0s - loss: 0.3691 - precision_5: 0.8348 - recall_5: 0.8252 - accuracy: 0.8312\n",
            "Epoch 10: val_accuracy improved from 0.85626 to 0.86553, saving model to ../models/glass_model.h5\n",
            "88/88 [==============================] - 3s 31ms/step - loss: 0.3688 - precision_5: 0.8357 - recall_5: 0.8244 - accuracy: 0.8312 - val_loss: 0.3151 - val_precision_5: 0.7953 - val_recall_5: 0.7637 - val_accuracy: 0.8655\n",
            "Epoch 11/50\n",
            "87/88 [============================>.] - ETA: 0s - loss: 0.3502 - precision_5: 0.8365 - recall_5: 0.8317 - accuracy: 0.8348\n",
            "Epoch 11: val_accuracy improved from 0.86553 to 0.87403, saving model to ../models/glass_model.h5\n",
            "88/88 [==============================] - 3s 31ms/step - loss: 0.3498 - precision_5: 0.8375 - recall_5: 0.8316 - accuracy: 0.8351 - val_loss: 0.3099 - val_precision_5: 0.8187 - val_recall_5: 0.7637 - val_accuracy: 0.8740\n",
            "Epoch 12/50\n",
            "87/88 [============================>.] - ETA: 0s - loss: 0.3521 - precision_5: 0.8368 - recall_5: 0.8374 - accuracy: 0.8373\n",
            "Epoch 12: val_accuracy improved from 0.87403 to 0.87481, saving model to ../models/glass_model.h5\n",
            "88/88 [==============================] - 3s 31ms/step - loss: 0.3522 - precision_5: 0.8380 - recall_5: 0.8380 - accuracy: 0.8380 - val_loss: 0.3041 - val_precision_5: 0.8191 - val_recall_5: 0.7662 - val_accuracy: 0.8748\n",
            "Epoch 13/50\n",
            "86/88 [============================>.] - ETA: 0s - loss: 0.3455 - precision_5: 0.8503 - recall_5: 0.8281 - accuracy: 0.8408\n",
            "Epoch 13: val_accuracy did not improve from 0.87481\n",
            "88/88 [==============================] - 3s 30ms/step - loss: 0.3435 - precision_5: 0.8506 - recall_5: 0.8294 - accuracy: 0.8419 - val_loss: 0.3006 - val_precision_5: 0.7960 - val_recall_5: 0.7960 - val_accuracy: 0.8733\n",
            "Epoch 14/50\n",
            "86/88 [============================>.] - ETA: 0s - loss: 0.3372 - precision_5: 0.8434 - recall_5: 0.8434 - accuracy: 0.8430\n",
            "Epoch 14: val_accuracy did not improve from 0.87481\n",
            "88/88 [==============================] - 3s 30ms/step - loss: 0.3360 - precision_5: 0.8438 - recall_5: 0.8443 - accuracy: 0.8440 - val_loss: 0.3375 - val_precision_5: 0.7690 - val_recall_5: 0.7786 - val_accuracy: 0.8586\n",
            "Epoch 15/50\n",
            "86/88 [============================>.] - ETA: 0s - loss: 0.3430 - precision_5: 0.8371 - recall_5: 0.8419 - accuracy: 0.8387\n",
            "Epoch 15: val_accuracy improved from 0.87481 to 0.88485, saving model to ../models/glass_model.h5\n",
            "88/88 [==============================] - 3s 31ms/step - loss: 0.3421 - precision_5: 0.8386 - recall_5: 0.8422 - accuracy: 0.8401 - val_loss: 0.2867 - val_precision_5: 0.8504 - val_recall_5: 0.7637 - val_accuracy: 0.8849\n",
            "Epoch 16/50\n",
            "87/88 [============================>.] - ETA: 0s - loss: 0.3357 - precision_5: 0.8467 - recall_5: 0.8266 - accuracy: 0.8387\n",
            "Epoch 16: val_accuracy did not improve from 0.88485\n",
            "88/88 [==============================] - 3s 31ms/step - loss: 0.3362 - precision_5: 0.8472 - recall_5: 0.8273 - accuracy: 0.8390 - val_loss: 0.2830 - val_precision_5: 0.8241 - val_recall_5: 0.7811 - val_accuracy: 0.8802\n",
            "Epoch 17/50\n",
            "87/88 [============================>.] - ETA: 0s - loss: 0.3386 - precision_5: 0.8521 - recall_5: 0.8288 - accuracy: 0.8427\n",
            "Epoch 17: val_accuracy did not improve from 0.88485\n",
            "88/88 [==============================] - 3s 30ms/step - loss: 0.3381 - precision_5: 0.8531 - recall_5: 0.8294 - accuracy: 0.8433 - val_loss: 0.3199 - val_precision_5: 0.7876 - val_recall_5: 0.8209 - val_accuracy: 0.8756\n",
            "Epoch 18/50\n",
            "87/88 [============================>.] - ETA: 0s - loss: 0.3256 - precision_5: 0.8636 - recall_5: 0.8381 - accuracy: 0.8531\n",
            "Epoch 18: val_accuracy did not improve from 0.88485\n",
            "88/88 [==============================] - 3s 30ms/step - loss: 0.3255 - precision_5: 0.8645 - recall_5: 0.8387 - accuracy: 0.8536 - val_loss: 0.2782 - val_precision_5: 0.8203 - val_recall_5: 0.8060 - val_accuracy: 0.8849\n",
            "Epoch 19/50\n",
            "88/88 [==============================] - ETA: 0s - loss: 0.3288 - precision_5: 0.8590 - recall_5: 0.8316 - accuracy: 0.8475\n",
            "Epoch 19: val_accuracy did not improve from 0.88485\n",
            "88/88 [==============================] - 3s 30ms/step - loss: 0.3288 - precision_5: 0.8590 - recall_5: 0.8316 - accuracy: 0.8475 - val_loss: 0.3050 - val_precision_5: 0.8347 - val_recall_5: 0.7662 - val_accuracy: 0.8802\n",
            "Epoch 20/50\n",
            "86/88 [============================>.] - ETA: 0s - loss: 0.3208 - precision_5: 0.8563 - recall_5: 0.8513 - accuracy: 0.8539\n",
            "Epoch 20: val_accuracy did not improve from 0.88485\n",
            "88/88 [==============================] - 3s 30ms/step - loss: 0.3195 - precision_5: 0.8570 - recall_5: 0.8522 - accuracy: 0.8550 - val_loss: 0.2843 - val_precision_5: 0.8272 - val_recall_5: 0.7861 - val_accuracy: 0.8825\n",
            "Epoch 21/50\n",
            "86/88 [============================>.] - ETA: 0s - loss: 0.3230 - precision_5: 0.8549 - recall_5: 0.8499 - accuracy: 0.8525\n",
            "Epoch 21: val_accuracy did not improve from 0.88485\n",
            "88/88 [==============================] - 3s 30ms/step - loss: 0.3214 - precision_5: 0.8562 - recall_5: 0.8507 - accuracy: 0.8539 - val_loss: 0.2898 - val_precision_5: 0.7951 - val_recall_5: 0.8109 - val_accuracy: 0.8764\n",
            "Epoch 22/50\n",
            "86/88 [============================>.] - ETA: 0s - loss: 0.3119 - precision_5: 0.8593 - recall_5: 0.8506 - accuracy: 0.8554\n",
            "Epoch 22: val_accuracy did not improve from 0.88485\n",
            "88/88 [==============================] - 3s 30ms/step - loss: 0.3103 - precision_5: 0.8611 - recall_5: 0.8500 - accuracy: 0.8564 - val_loss: 0.2819 - val_precision_5: 0.8189 - val_recall_5: 0.7761 - val_accuracy: 0.8771\n",
            "Epoch 23/50\n",
            "88/88 [==============================] - ETA: 0s - loss: 0.3006 - precision_5: 0.8666 - recall_5: 0.8543 - accuracy: 0.8614\n",
            "Epoch 23: val_accuracy improved from 0.88485 to 0.88794, saving model to ../models/glass_model.h5\n",
            "88/88 [==============================] - 3s 31ms/step - loss: 0.3006 - precision_5: 0.8666 - recall_5: 0.8543 - accuracy: 0.8614 - val_loss: 0.2690 - val_precision_5: 0.8408 - val_recall_5: 0.7886 - val_accuracy: 0.8879\n",
            "Epoch 24/50\n",
            "87/88 [============================>.] - ETA: 0s - loss: 0.3123 - precision_5: 0.8606 - recall_5: 0.8482 - accuracy: 0.8556\n",
            "Epoch 24: val_accuracy improved from 0.88794 to 0.89335, saving model to ../models/glass_model.h5\n",
            "88/88 [==============================] - 3s 31ms/step - loss: 0.3122 - precision_5: 0.8615 - recall_5: 0.8486 - accuracy: 0.8561 - val_loss: 0.2630 - val_precision_5: 0.8607 - val_recall_5: 0.7836 - val_accuracy: 0.8934\n",
            "Epoch 25/50\n",
            "86/88 [============================>.] - ETA: 0s - loss: 0.3035 - precision_5: 0.8569 - recall_5: 0.8600 - accuracy: 0.8579\n",
            "Epoch 25: val_accuracy did not improve from 0.89335\n",
            "88/88 [==============================] - 3s 31ms/step - loss: 0.3028 - precision_5: 0.8568 - recall_5: 0.8593 - accuracy: 0.8579 - val_loss: 0.2882 - val_precision_5: 0.8145 - val_recall_5: 0.8085 - val_accuracy: 0.8833\n",
            "Epoch 26/50\n",
            "88/88 [==============================] - ETA: 0s - loss: 0.2961 - precision_5: 0.8763 - recall_5: 0.8657 - accuracy: 0.8717\n",
            "Epoch 26: val_accuracy did not improve from 0.89335\n",
            "88/88 [==============================] - 3s 30ms/step - loss: 0.2961 - precision_5: 0.8763 - recall_5: 0.8657 - accuracy: 0.8717 - val_loss: 0.2922 - val_precision_5: 0.7961 - val_recall_5: 0.8159 - val_accuracy: 0.8779\n",
            "Epoch 27/50\n",
            "87/88 [============================>.] - ETA: 0s - loss: 0.2900 - precision_5: 0.8722 - recall_5: 0.8547 - accuracy: 0.8649\n",
            "Epoch 27: val_accuracy did not improve from 0.89335\n",
            "88/88 [==============================] - 3s 30ms/step - loss: 0.2905 - precision_5: 0.8728 - recall_5: 0.8536 - accuracy: 0.8646 - val_loss: 0.2968 - val_precision_5: 0.8223 - val_recall_5: 0.8060 - val_accuracy: 0.8856\n",
            "Epoch 28/50\n",
            "87/88 [============================>.] - ETA: 0s - loss: 0.2955 - precision_5: 0.8666 - recall_5: 0.8647 - accuracy: 0.8660\n",
            "Epoch 28: val_accuracy did not improve from 0.89335\n",
            "88/88 [==============================] - 3s 30ms/step - loss: 0.2951 - precision_5: 0.8668 - recall_5: 0.8650 - accuracy: 0.8660 - val_loss: 0.2681 - val_precision_5: 0.8247 - val_recall_5: 0.8308 - val_accuracy: 0.8926\n",
            "Epoch 29/50\n",
            "86/88 [============================>.] - ETA: 0s - loss: 0.2969 - precision_5: 0.8702 - recall_5: 0.8506 - accuracy: 0.8616\n",
            "Epoch 29: val_accuracy did not improve from 0.89335\n",
            "88/88 [==============================] - 3s 30ms/step - loss: 0.2948 - precision_5: 0.8707 - recall_5: 0.8522 - accuracy: 0.8628 - val_loss: 0.2964 - val_precision_5: 0.8117 - val_recall_5: 0.7935 - val_accuracy: 0.8787\n",
            "Epoch 30/50\n",
            "87/88 [============================>.] - ETA: 0s - loss: 0.2810 - precision_5: 0.8728 - recall_5: 0.8734 - accuracy: 0.8732\n",
            "Epoch 30: val_accuracy did not improve from 0.89335\n",
            "88/88 [==============================] - 3s 30ms/step - loss: 0.2816 - precision_5: 0.8735 - recall_5: 0.8735 - accuracy: 0.8735 - val_loss: 0.2743 - val_precision_5: 0.8191 - val_recall_5: 0.8109 - val_accuracy: 0.8856\n",
            "Epoch 31/50\n",
            "87/88 [============================>.] - ETA: 0s - loss: 0.2752 - precision_5: 0.8724 - recall_5: 0.8705 - accuracy: 0.8718\n",
            "Epoch 31: val_accuracy did not improve from 0.89335\n",
            "88/88 [==============================] - 3s 30ms/step - loss: 0.2752 - precision_5: 0.8731 - recall_5: 0.8706 - accuracy: 0.8721 - val_loss: 0.3159 - val_precision_5: 0.8443 - val_recall_5: 0.7960 - val_accuracy: 0.8910\n",
            "Epoch 32/50\n",
            "88/88 [==============================] - ETA: 0s - loss: 0.5219 - precision_5: 0.8284 - recall_5: 0.8131 - accuracy: 0.8223\n",
            "Epoch 32: val_accuracy did not improve from 0.89335\n",
            "88/88 [==============================] - 3s 30ms/step - loss: 0.5219 - precision_5: 0.8284 - recall_5: 0.8131 - accuracy: 0.8223 - val_loss: 0.4445 - val_precision_5: 0.6430 - val_recall_5: 0.6766 - val_accuracy: 0.7828\n",
            "Epoch 33/50\n",
            "86/88 [============================>.] - ETA: 0s - loss: 0.3967 - precision_5: 0.8175 - recall_5: 0.7861 - accuracy: 0.8049\n",
            "Epoch 33: val_accuracy did not improve from 0.89335\n",
            "88/88 [==============================] - 3s 30ms/step - loss: 0.3940 - precision_5: 0.8182 - recall_5: 0.7903 - accuracy: 0.8074 - val_loss: 0.4021 - val_precision_5: 0.7839 - val_recall_5: 0.6045 - val_accuracy: 0.8253\n",
            "Epoch 34/50\n",
            "86/88 [============================>.] - ETA: 0s - loss: 0.3448 - precision_5: 0.8475 - recall_5: 0.8303 - accuracy: 0.8401\n",
            "Epoch 34: val_accuracy did not improve from 0.89335\n",
            "88/88 [==============================] - 3s 30ms/step - loss: 0.3414 - precision_5: 0.8492 - recall_5: 0.8323 - accuracy: 0.8422 - val_loss: 0.2930 - val_precision_5: 0.7862 - val_recall_5: 0.8234 - val_accuracy: 0.8756\n",
            "Epoch 35/50\n",
            "87/88 [============================>.] - ETA: 0s - loss: 0.3039 - precision_5: 0.8720 - recall_5: 0.8576 - accuracy: 0.8660\n",
            "Epoch 35: val_accuracy did not improve from 0.89335\n",
            "88/88 [==============================] - 3s 30ms/step - loss: 0.3043 - precision_5: 0.8726 - recall_5: 0.8564 - accuracy: 0.8657 - val_loss: 0.2829 - val_precision_5: 0.8226 - val_recall_5: 0.7960 - val_accuracy: 0.8833\n",
            "Epoch 36/50\n",
            "88/88 [==============================] - ETA: 0s - loss: 0.2977 - precision_5: 0.8733 - recall_5: 0.8621 - accuracy: 0.8685\n",
            "Epoch 36: val_accuracy did not improve from 0.89335\n",
            "88/88 [==============================] - 3s 30ms/step - loss: 0.2977 - precision_5: 0.8733 - recall_5: 0.8621 - accuracy: 0.8685 - val_loss: 0.2787 - val_precision_5: 0.7995 - val_recall_5: 0.8333 - val_accuracy: 0.8833\n",
            "Epoch 37/50\n",
            "88/88 [==============================] - ETA: 0s - loss: 0.2959 - precision_5: 0.8713 - recall_5: 0.8564 - accuracy: 0.8650\n",
            "Epoch 37: val_accuracy did not improve from 0.89335\n",
            "88/88 [==============================] - 3s 30ms/step - loss: 0.2959 - precision_5: 0.8713 - recall_5: 0.8564 - accuracy: 0.8650 - val_loss: 0.2601 - val_precision_5: 0.8180 - val_recall_5: 0.8159 - val_accuracy: 0.8864\n",
            "Epoch 38/50\n",
            "88/88 [==============================] - ETA: 0s - loss: 0.2819 - precision_5: 0.8699 - recall_5: 0.8650 - accuracy: 0.8678\n",
            "Epoch 38: val_accuracy did not improve from 0.89335\n",
            "88/88 [==============================] - 3s 30ms/step - loss: 0.2819 - precision_5: 0.8699 - recall_5: 0.8650 - accuracy: 0.8678 - val_loss: 0.2607 - val_precision_5: 0.8277 - val_recall_5: 0.7886 - val_accuracy: 0.8833\n",
            "Epoch 39/50\n",
            "87/88 [============================>.] - ETA: 0s - loss: 0.2701 - precision_5: 0.8818 - recall_5: 0.8698 - accuracy: 0.8768\n",
            "Epoch 39: val_accuracy did not improve from 0.89335\n",
            "88/88 [==============================] - 3s 30ms/step - loss: 0.2705 - precision_5: 0.8819 - recall_5: 0.8706 - accuracy: 0.8770 - val_loss: 0.2702 - val_precision_5: 0.7916 - val_recall_5: 0.8408 - val_accuracy: 0.8818\n",
            "Epoch 40/50\n",
            "87/88 [============================>.] - ETA: 0s - loss: 0.2685 - precision_5: 0.8783 - recall_5: 0.8669 - accuracy: 0.8736\n",
            "Epoch 40: val_accuracy did not improve from 0.89335\n",
            "88/88 [==============================] - 3s 30ms/step - loss: 0.2687 - precision_5: 0.8790 - recall_5: 0.8671 - accuracy: 0.8738 - val_loss: 0.2729 - val_precision_5: 0.8231 - val_recall_5: 0.7985 - val_accuracy: 0.8841\n",
            "Epoch 41/50\n",
            "87/88 [============================>.] - ETA: 0s - loss: 0.2681 - precision_5: 0.8873 - recall_5: 0.8719 - accuracy: 0.8807\n",
            "Epoch 41: val_accuracy did not improve from 0.89335\n",
            "88/88 [==============================] - 3s 30ms/step - loss: 0.2680 - precision_5: 0.8879 - recall_5: 0.8728 - accuracy: 0.8813 - val_loss: 0.2572 - val_precision_5: 0.8560 - val_recall_5: 0.7836 - val_accuracy: 0.8918\n",
            "Epoch 42/50\n",
            "88/88 [==============================] - ETA: 0s - loss: 0.2580 - precision_5: 0.8923 - recall_5: 0.8770 - accuracy: 0.8856\n",
            "Epoch 42: val_accuracy improved from 0.89335 to 0.89954, saving model to ../models/glass_model.h5\n",
            "88/88 [==============================] - 3s 31ms/step - loss: 0.2580 - precision_5: 0.8923 - recall_5: 0.8770 - accuracy: 0.8856 - val_loss: 0.2494 - val_precision_5: 0.8469 - val_recall_5: 0.8259 - val_accuracy: 0.8995\n",
            "Epoch 43/50\n",
            "87/88 [============================>.] - ETA: 0s - loss: 0.2558 - precision_5: 0.8913 - recall_5: 0.8727 - accuracy: 0.8833\n",
            "Epoch 43: val_accuracy did not improve from 0.89954\n",
            "88/88 [==============================] - 3s 30ms/step - loss: 0.2563 - precision_5: 0.8918 - recall_5: 0.8728 - accuracy: 0.8834 - val_loss: 0.2670 - val_precision_5: 0.8221 - val_recall_5: 0.8507 - val_accuracy: 0.8964\n",
            "Epoch 44/50\n",
            "88/88 [==============================] - ETA: 0s - loss: 0.2489 - precision_5: 0.8993 - recall_5: 0.8763 - accuracy: 0.8891\n",
            "Epoch 44: val_accuracy did not improve from 0.89954\n",
            "88/88 [==============================] - 3s 30ms/step - loss: 0.2489 - precision_5: 0.8993 - recall_5: 0.8763 - accuracy: 0.8891 - val_loss: 0.2649 - val_precision_5: 0.8120 - val_recall_5: 0.8383 - val_accuracy: 0.8895\n",
            "Epoch 45/50\n",
            "88/88 [==============================] - ETA: 0s - loss: 0.2616 - precision_5: 0.8927 - recall_5: 0.8813 - accuracy: 0.8877\n",
            "Epoch 45: val_accuracy did not improve from 0.89954\n",
            "88/88 [==============================] - 3s 30ms/step - loss: 0.2616 - precision_5: 0.8927 - recall_5: 0.8813 - accuracy: 0.8877 - val_loss: 0.2468 - val_precision_5: 0.8359 - val_recall_5: 0.8109 - val_accuracy: 0.8918\n",
            "Epoch 46/50\n",
            "87/88 [============================>.] - ETA: 0s - loss: 0.2656 - precision_5: 0.8842 - recall_5: 0.8626 - accuracy: 0.8750\n",
            "Epoch 46: val_accuracy did not improve from 0.89954\n",
            "88/88 [==============================] - 3s 30ms/step - loss: 0.2662 - precision_5: 0.8848 - recall_5: 0.8628 - accuracy: 0.8753 - val_loss: 0.2568 - val_precision_5: 0.7991 - val_recall_5: 0.8408 - val_accuracy: 0.8849\n",
            "Epoch 47/50\n",
            "88/88 [==============================] - ETA: 0s - loss: 0.2520 - precision_5: 0.9003 - recall_5: 0.8856 - accuracy: 0.8937\n",
            "Epoch 47: val_accuracy did not improve from 0.89954\n",
            "88/88 [==============================] - 3s 30ms/step - loss: 0.2520 - precision_5: 0.9003 - recall_5: 0.8856 - accuracy: 0.8937 - val_loss: 0.2625 - val_precision_5: 0.8173 - val_recall_5: 0.8234 - val_accuracy: 0.8879\n",
            "Epoch 48/50\n",
            "86/88 [============================>.] - ETA: 0s - loss: 0.2830 - precision_5: 0.8796 - recall_5: 0.8579 - accuracy: 0.8699\n",
            "Epoch 48: val_accuracy did not improve from 0.89954\n",
            "88/88 [==============================] - 3s 30ms/step - loss: 0.2821 - precision_5: 0.8805 - recall_5: 0.8586 - accuracy: 0.8710 - val_loss: 0.2840 - val_precision_5: 0.8186 - val_recall_5: 0.8308 - val_accuracy: 0.8903\n",
            "Epoch 49/50\n",
            "87/88 [============================>.] - ETA: 0s - loss: 0.2578 - precision_5: 0.8949 - recall_5: 0.8698 - accuracy: 0.8840\n",
            "Epoch 49: val_accuracy did not improve from 0.89954\n",
            "88/88 [==============================] - 3s 30ms/step - loss: 0.2580 - precision_5: 0.8954 - recall_5: 0.8699 - accuracy: 0.8842 - val_loss: 0.3390 - val_precision_5: 0.8157 - val_recall_5: 0.8035 - val_accuracy: 0.8825\n",
            "Epoch 50/50\n",
            "88/88 [==============================] - ETA: 0s - loss: 0.3140 - precision_5: 0.8641 - recall_5: 0.8763 - accuracy: 0.8692\n",
            "Epoch 50: val_accuracy did not improve from 0.89954\n",
            "88/88 [==============================] - 3s 30ms/step - loss: 0.3140 - precision_5: 0.8641 - recall_5: 0.8763 - accuracy: 0.8692 - val_loss: 0.2625 - val_precision_5: 0.8369 - val_recall_5: 0.7786 - val_accuracy: 0.8841\n"
          ]
        }
      ],
      "source": [
        "glass_model_path = '../models/glass_model.h5'\n",
        "undersample_glass_history = glass_model.fit(x=glass_train_ds, validation_data=glass_valid_ds, epochs=50, callbacks=[create_model_checkpoint(glass_model_path)])"
      ]
    },
    {
      "cell_type": "markdown",
      "metadata": {
        "id": "MU_eb0E9k4Jx"
      },
      "source": [
        "Checking the results"
      ]
    },
    {
      "cell_type": "code",
      "execution_count": 61,
      "metadata": {
        "colab": {
          "base_uri": "https://localhost:8080/",
          "height": 484
        },
        "id": "EbFx52WOk4Jx",
        "outputId": "aad36092-59c8-4720-df8e-278cae0376c3"
      },
      "outputs": [
        {
          "name": "stdout",
          "output_type": "stream",
          "text": [
            "Found 648 validated image filenames.\n",
            "21/21 [==============================] - 1s 54ms/step\n",
            "Accuracy : 0.8842592592592593\n",
            "[[414  33]\n",
            " [ 42 159]]\n"
          ]
        },
        {
          "data": {
            "image/png": "[encoded data removed]",
            "text/plain": [
              "<Figure size 600x400 with 2 Axes>"
            ]
          },
          "metadata": {},
          "output_type": "display_data"
        }
      ],
      "source": [
        "actual_classes, predicted_classes = get_actual_vs_predictions('glass', glass_model_path)\n",
        "plot_confusion_matrix(actual_classes, predicted_classes)"
      ]
    },
    {
      "cell_type": "markdown",
      "metadata": {
        "id": "SwxrmpKik4Jy"
      },
      "source": [
        "## Multilabel predictions"
      ]
    },
    {
      "cell_type": "markdown",
      "metadata": {
        "id": "MamcCj_Ik4Jy"
      },
      "source": [
        "Loading our saved models"
      ]
    },
    {
      "cell_type": "code",
      "execution_count": 62,
      "metadata": {
        "id": "yiJdxwyDk4Jy"
      },
      "outputs": [],
      "source": [
        "cardboard_loaded_model = tf.keras.models.load_model(\"../models/cardboard_model.h5\")\n",
        "glass_loaded_model = tf.keras.models.load_model(\"../models/glass_model.h5\")\n",
        "paper_loaded_model = tf.keras.models.load_model(\"../models/paper_model.h5\")\n",
        "metal_loaded_model = tf.keras.models.load_model(\"../models/metal_model.h5\")\n",
        "plastic_loaded_model = tf.keras.models.load_model(\"../models/plastic_model.h5\")\n",
        "trash_loaded_model = tf.keras.models.load_model(\"../models/trash_model.h5\")\n",
        "\n",
        "loaded_models =[cardboard_loaded_model,glass_loaded_model,paper_loaded_model,metal_loaded_model,plastic_loaded_model,trash_loaded_model]\n"
      ]
    },
    {
      "cell_type": "code",
      "execution_count": 92,
      "metadata": {
        "id": "kfl0IVThk4Jy"
      },
      "outputs": [],
      "source": [
        "def get_one_vs_all_predictions(column_name, models, dataframe = test_df):\n",
        "    test_batches = generate_test_batch_for_class(column_name, dataframe)\n",
        "\n",
        "    models = models\n",
        "    predictions = []\n",
        "    actual_classes = test_batches.labels\n",
        "\n",
        "    for model in models:\n",
        "\n",
        "        model_predictions = model.predict(prediction_generator(test_batches))\n",
        "        predictions.append(model_predictions)\n",
        "\n",
        "    return predictions, actual_classes"
      ]
    },
    {
      "cell_type": "markdown",
      "metadata": {
        "id": "_2dfQFWk3k7n"
      },
      "source": [
        "It is important to have the label columns in the same order as the models"
      ]
    },
    {
      "cell_type": "code",
      "execution_count": 100,
      "metadata": {
        "colab": {
          "base_uri": "https://localhost:8080/"
        },
        "id": "ozMKXl_Ik4Jy",
        "outputId": "97c5d1fa-aa6b-45f3-ce0e-8166691b5db4"
      },
      "outputs": [
        {
          "name": "stdout",
          "output_type": "stream",
          "text": [
            "Found 648 validated image filenames.\n",
            "21/21 [==============================] - 1s 48ms/step\n",
            "21/21 [==============================] - 1s 50ms/step\n",
            "21/21 [==============================] - 1s 47ms/step\n",
            "21/21 [==============================] - 1s 53ms/step\n",
            "21/21 [==============================] - 1s 45ms/step\n",
            "21/21 [==============================] - 1s 51ms/step\n"
          ]
        }
      ],
      "source": [
        "label_columns = [\"cardboard\", \"glass\", \"paper\", \"metal\", \"plastic\", \"trash\"]\n",
        "predictions, actual_classes = get_one_vs_all_predictions(label_columns, loaded_models)"
      ]
    },
    {
      "cell_type": "markdown",
      "metadata": {
        "id": "Y1vG89K930Nj"
      },
      "source": [
        "We can check how our expected classes look like"
      ]
    },
    {
      "cell_type": "code",
      "execution_count": 101,
      "metadata": {
        "colab": {
          "base_uri": "https://localhost:8080/"
        },
        "id": "zvoShPUvk4Jy",
        "outputId": "1092a8ae-0d49-433f-db20-3f200649de31"
      },
      "outputs": [
        {
          "data": {
            "text/plain": [
              "array([[0, 0, 0, 0, 0, 1],\n",
              "       [0, 0, 0, 0, 1, 0],\n",
              "       [0, 0, 0, 0, 0, 1],\n",
              "       ...,\n",
              "       [0, 0, 0, 0, 0, 1],\n",
              "       [0, 0, 0, 1, 0, 0],\n",
              "       [0, 0, 0, 1, 0, 0]])"
            ]
          },
          "execution_count": 101,
          "metadata": {},
          "output_type": "execute_result"
        }
      ],
      "source": [
        "actual_classes"
      ]
    },
    {
      "cell_type": "markdown",
      "metadata": {
        "id": "43g0M_8o38YB"
      },
      "source": [
        "We are removing the single dimensional entries from the array of predicted outputs"
      ]
    },
    {
      "cell_type": "code",
      "execution_count": 102,
      "metadata": {
        "id": "fyuxr-tUk4Jy"
      },
      "outputs": [],
      "source": [
        "for i in range(len(predictions)):\n",
        "    predictions[i] = np.squeeze(predictions[i])"
      ]
    },
    {
      "cell_type": "markdown",
      "metadata": {
        "id": "N6aXQxc6BBK1"
      },
      "source": [
        "Now we need to combine the predictions in a single matrix and then indentify the index for the highest prediction"
      ]
    },
    {
      "cell_type": "code",
      "execution_count": 103,
      "metadata": {
        "colab": {
          "base_uri": "https://localhost:8080/"
        },
        "id": "7Lo1tpmDk4Jy",
        "outputId": "e414b55b-1018-42f6-cf6f-ee302d2d740a"
      },
      "outputs": [
        {
          "data": {
            "text/plain": [
              "array([4, 1, 5, 5, 3, 1, 3, 3, 5, 0, 0, 1, 1, 4, 4, 1, 1, 5, 1, 3, 1, 0,\n",
              "       5, 1, 2, 2, 1, 1, 4, 1, 1, 1, 3, 3, 0, 1, 2, 1, 1, 2, 4, 1, 1, 1,\n",
              "       2, 3, 2, 0, 5, 1, 4, 0, 2, 1, 0, 5, 1, 3, 3, 0, 5, 5, 1, 0, 1, 1,\n",
              "       2, 3, 1, 2, 1, 1, 2, 1, 1, 2, 1, 2, 0, 3, 5, 5, 2, 2, 2, 1, 3, 1,\n",
              "       1, 0, 0, 1, 5, 3, 5, 3, 3, 1, 1, 1, 0, 0, 2, 3, 2, 0, 1, 1, 1, 3,\n",
              "       0, 4, 4, 5, 0, 2, 1, 2, 5, 1, 2, 5, 5, 1, 0, 3, 2, 3, 3, 5, 0, 3,\n",
              "       3, 3, 5, 1, 5, 3, 5, 0, 4, 0, 4, 2, 2, 2, 2, 1, 1, 1, 1, 5, 1, 1,\n",
              "       1, 0, 5, 4, 1, 1, 5, 5, 1, 0, 5, 1, 1, 3, 4, 2, 2, 5, 5, 1, 1, 5,\n",
              "       2, 0, 2, 0, 3, 2, 1, 2, 1, 2, 1, 1, 4, 0, 1, 1, 5, 1, 2, 2, 0, 1,\n",
              "       1, 1, 0, 2, 2, 1, 1, 3, 0, 1, 3, 4, 1, 3, 4, 5, 1, 4, 4, 1, 5, 1,\n",
              "       5, 4, 4, 3, 4, 0, 0, 5, 5, 0, 2, 1, 0, 4, 1, 5, 1, 0, 5, 3, 5, 3,\n",
              "       3, 1, 5, 0, 4, 1, 1, 2, 5, 2, 2, 4, 0, 0, 1, 5, 4, 3, 1, 2, 1, 4,\n",
              "       0, 3, 2, 0, 3, 4, 2, 4, 3, 5, 2, 1, 1, 5, 0, 0, 1, 3, 0, 0, 1, 1,\n",
              "       5, 4, 4, 3, 1, 5, 2, 4, 0, 0, 1, 1, 0, 0, 2, 3, 3, 1, 0, 2, 3, 5,\n",
              "       1, 3, 2, 0, 3, 4, 1, 1, 5, 2, 1, 5, 1, 1, 1, 3, 1, 4, 0, 3, 0, 0,\n",
              "       1, 5, 3, 2, 1, 1, 5, 2, 5, 1, 0, 5, 5, 5, 2, 1, 2, 4, 1, 4, 3, 3,\n",
              "       0, 3, 4, 2, 3, 0, 1, 1, 1, 1, 0, 4, 3, 4, 5, 2, 4, 4, 3, 4, 2, 3,\n",
              "       1, 3, 3, 1, 1, 2, 1, 5, 1, 2, 0, 1, 1, 1, 5, 1, 1, 1, 4, 1, 1, 4,\n",
              "       5, 4, 3, 3, 1, 1, 3, 1, 4, 3, 0, 0, 0, 0, 0, 1, 2, 4, 2, 1, 1, 1,\n",
              "       0, 1, 3, 1, 2, 1, 1, 0, 1, 3, 1, 1, 1, 0, 2, 0, 2, 4, 1, 2, 1, 1,\n",
              "       5, 1, 3, 1, 0, 1, 2, 2, 2, 1, 4, 4, 4, 2, 1, 2, 5, 3, 5, 1, 0, 2,\n",
              "       4, 5, 5, 0, 4, 2, 3, 0, 5, 3, 5, 2, 3, 4, 3, 1, 4, 3, 4, 0, 0, 1,\n",
              "       1, 5, 2, 4, 0, 0, 0, 1, 3, 1, 1, 4, 1, 0, 0, 5, 1, 1, 0, 4, 1, 4,\n",
              "       2, 5, 1, 2, 1, 1, 5, 1, 2, 5, 2, 1, 4, 2, 5, 2, 2, 2, 5, 4, 3, 1,\n",
              "       2, 3, 2, 1, 1, 2, 2, 3, 2, 5, 2, 1, 2, 1, 0, 2, 1, 2, 5, 0, 4, 0,\n",
              "       0, 3, 5, 1, 4, 2, 3, 1, 0, 1, 3, 1, 5, 1, 2, 1, 3, 1, 4, 4, 2, 5,\n",
              "       0, 1, 2, 3, 1, 2, 5, 0, 1, 3, 3, 2, 4, 2, 5, 4, 1, 2, 1, 4, 1, 1,\n",
              "       4, 1, 1, 5, 2, 5, 1, 0, 2, 1, 3, 2, 1, 2, 3, 1, 1, 5, 2, 1, 1, 3,\n",
              "       2, 1, 2, 4, 1, 2, 2, 3, 0, 5, 4, 0, 4, 4, 1, 3, 5, 2, 1, 0, 2, 5,\n",
              "       4, 4, 2, 3, 1, 2, 3, 1, 3, 3])"
            ]
          },
          "execution_count": 103,
          "metadata": {},
          "output_type": "execute_result"
        }
      ],
      "source": [
        "combined_predictions = np.vstack(predictions).T\n",
        "\n",
        "combined_predictions.shape\n",
        "\n",
        "final_predictions = np.argmax(combined_predictions, axis=1)\n",
        "final_predictions"
      ]
    },
    {
      "cell_type": "markdown",
      "metadata": {
        "id": "uu1tm40aBSbX"
      },
      "source": [
        "We need to get the index of the expected class"
      ]
    },
    {
      "cell_type": "code",
      "execution_count": 104,
      "metadata": {
        "colab": {
          "base_uri": "https://localhost:8080/"
        },
        "id": "ngpjIFS9k4Jy",
        "outputId": "ffdd80f6-beb7-4aad-c662-f8c4e7e9d269"
      },
      "outputs": [
        {
          "data": {
            "text/plain": [
              "array([5, 4, 5, 5, 3, 1, 3, 3, 1, 0, 0, 1, 5, 4, 4, 1, 1, 5, 1, 3, 1, 0,\n",
              "       5, 1, 1, 2, 1, 1, 4, 1, 1, 1, 3, 3, 0, 1, 0, 1, 1, 2, 4, 1, 0, 1,\n",
              "       2, 3, 2, 0, 2, 4, 1, 0, 2, 1, 0, 3, 1, 3, 3, 0, 5, 5, 1, 0, 1, 1,\n",
              "       2, 3, 1, 2, 1, 1, 5, 1, 1, 2, 2, 2, 0, 3, 5, 0, 2, 2, 5, 1, 4, 3,\n",
              "       1, 0, 0, 2, 4, 3, 5, 5, 3, 1, 1, 1, 0, 0, 2, 3, 2, 1, 1, 3, 1, 3,\n",
              "       1, 4, 4, 5, 0, 0, 1, 2, 4, 1, 2, 5, 5, 1, 0, 3, 2, 3, 3, 5, 5, 2,\n",
              "       3, 3, 5, 1, 5, 2, 4, 0, 4, 0, 4, 2, 1, 2, 2, 1, 5, 4, 1, 5, 1, 1,\n",
              "       1, 4, 5, 4, 1, 1, 4, 5, 4, 0, 5, 5, 1, 3, 2, 2, 2, 5, 2, 1, 5, 5,\n",
              "       2, 0, 2, 0, 3, 2, 1, 2, 1, 2, 1, 1, 4, 0, 1, 1, 1, 3, 2, 2, 0, 1,\n",
              "       1, 1, 3, 2, 2, 1, 4, 1, 4, 1, 3, 4, 1, 3, 4, 5, 1, 4, 4, 1, 4, 1,\n",
              "       5, 4, 4, 3, 4, 0, 0, 4, 1, 0, 2, 1, 0, 2, 1, 5, 1, 0, 5, 3, 5, 3,\n",
              "       3, 1, 5, 0, 1, 1, 1, 2, 5, 4, 2, 4, 1, 0, 3, 5, 3, 4, 1, 0, 1, 4,\n",
              "       0, 3, 0, 0, 0, 4, 4, 4, 3, 5, 2, 1, 1, 5, 0, 1, 1, 4, 0, 0, 1, 1,\n",
              "       5, 2, 4, 3, 1, 5, 2, 4, 0, 0, 1, 0, 0, 0, 2, 5, 3, 1, 0, 2, 2, 4,\n",
              "       1, 4, 2, 1, 3, 4, 4, 1, 5, 5, 1, 5, 1, 1, 1, 3, 5, 4, 0, 3, 0, 0,\n",
              "       1, 4, 3, 5, 1, 1, 5, 2, 3, 1, 0, 1, 5, 4, 2, 1, 1, 4, 4, 4, 3, 3,\n",
              "       0, 4, 1, 2, 3, 0, 1, 1, 1, 1, 0, 4, 3, 4, 5, 2, 4, 4, 1, 4, 2, 3,\n",
              "       1, 3, 3, 0, 1, 2, 1, 1, 1, 2, 0, 1, 1, 1, 4, 1, 1, 1, 4, 1, 1, 4,\n",
              "       5, 5, 3, 3, 1, 1, 3, 1, 4, 3, 0, 0, 0, 0, 0, 1, 2, 4, 2, 1, 1, 1,\n",
              "       0, 1, 3, 1, 2, 1, 1, 0, 1, 3, 1, 1, 1, 0, 1, 0, 2, 4, 1, 2, 1, 1,\n",
              "       1, 1, 3, 1, 1, 1, 2, 2, 2, 1, 4, 4, 1, 2, 1, 2, 5, 3, 1, 3, 0, 2,\n",
              "       4, 5, 5, 0, 4, 2, 3, 0, 5, 2, 5, 2, 3, 3, 3, 1, 5, 3, 1, 0, 0, 1,\n",
              "       1, 5, 2, 4, 5, 0, 0, 1, 3, 1, 1, 4, 1, 0, 0, 5, 1, 1, 0, 4, 1, 5,\n",
              "       2, 4, 1, 2, 1, 3, 1, 1, 2, 5, 2, 1, 4, 2, 5, 2, 2, 2, 0, 4, 1, 4,\n",
              "       2, 3, 2, 1, 2, 2, 2, 5, 2, 5, 1, 1, 2, 1, 0, 2, 1, 2, 5, 0, 3, 0,\n",
              "       0, 5, 1, 1, 1, 2, 3, 1, 0, 0, 3, 2, 5, 1, 2, 1, 3, 4, 2, 1, 1, 5,\n",
              "       0, 1, 3, 3, 1, 2, 5, 0, 1, 3, 3, 2, 4, 2, 5, 4, 5, 2, 1, 4, 1, 1,\n",
              "       2, 1, 1, 5, 2, 5, 1, 0, 2, 4, 5, 2, 3, 2, 3, 1, 1, 4, 2, 1, 1, 5,\n",
              "       3, 1, 2, 1, 1, 2, 5, 3, 0, 5, 1, 0, 4, 4, 1, 3, 4, 2, 4, 0, 1, 5,\n",
              "       4, 4, 4, 3, 1, 2, 3, 5, 3, 3])"
            ]
          },
          "execution_count": 104,
          "metadata": {},
          "output_type": "execute_result"
        }
      ],
      "source": [
        "final_actual = np.argmax(actual_classes, axis=1)\n",
        "final_actual"
      ]
    },
    {
      "cell_type": "markdown",
      "metadata": {
        "id": "75mEusZVBZN7"
      },
      "source": [
        "Then we are plotting a confusion matrix between the actual and predicted classes"
      ]
    },
    {
      "cell_type": "code",
      "execution_count": 105,
      "metadata": {
        "colab": {
          "base_uri": "https://localhost:8080/",
          "height": 563
        },
        "id": "eO3xfiWCk4Jy",
        "outputId": "f6682549-5a27-4da1-ae02-9e955a8c28f7"
      },
      "outputs": [
        {
          "name": "stdout",
          "output_type": "stream",
          "text": [
            "[[ 78   4   4   1   0   2]\n",
            " [  6 167   7   3   9   9]\n",
            " [  0   4  90   4   5   2]\n",
            " [  1   7   2  70   3   2]\n",
            " [  2  11   3   5  53  13]\n",
            " [  2   7   5   6   4  57]]\n"
          ]
        },
        {
          "data": {
            "image/png": "[encoded data removed]",
            "text/plain": [
              "<Figure size 600x400 with 2 Axes>"
            ]
          },
          "metadata": {},
          "output_type": "display_data"
        }
      ],
      "source": [
        "plot_confusion_matrix(actual_classes=final_actual, predicted_classes=final_predictions, classes=label_columns)"
      ]
    }
  ],
  "metadata": {
    "accelerator": "GPU",
    "colab": {
      "gpuType": "T4",
      "machine_shape": "hm",
      "provenance": []
    },
    "kernelspec": {
      "display_name": "Python 3",
      "name": "python3"
    },
    "language_info": {
      "codemirror_mode": {
        "name": "ipython",
        "version": 3
      },
      "file_extension": ".py",
      "mimetype": "text/x-python",
      "name": "python",
      "nbconvert_exporter": "python",
      "pygments_lexer": "ipython3",
      "version": "3.9.18"
    }
  },
  "nbformat": 4,
  "nbformat_minor": 0
}
